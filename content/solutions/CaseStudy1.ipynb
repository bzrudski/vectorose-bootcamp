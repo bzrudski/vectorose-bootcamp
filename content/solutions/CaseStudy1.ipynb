{
 "cells": [
  {
   "cell_type": "markdown",
   "id": "8bc0fc44-fce7-441b-9e6a-bfc7673d0791",
   "metadata": {},
   "source": [
    "# Case Study 1 - Simulated Fibre Data\n",
    "\n",
    "CRBS VectoRose Bootcamp\n",
    "\n",
    "Benjamin Z. Rudski <benjamin.rudski@mail.mcgill.ca>\n",
    "\n",
    "August 6, 2025\n",
    "\n",
    "In this notebook, we'll explore the basic functionality of VectoRose through the analysis of some artificial fibre data. These fibres have been constructed using [**Dragonfly 3D World**](https://dragonfly.comet.tech/en/products/dragonfly-3d-world), version 2024.1.\n",
    "\n",
    "## Outline\n",
    "\n",
    "This notebook shows all the major steps of a standard VectoRose workflow, from loading and cleaning data to analysing.\n",
    "\n",
    "Here's the outline for this notebook:\n",
    "\n",
    "1. Sample Data\n",
    "2. Getting Started with VectoRose\n",
    "3. Loading Vector Data\n",
    "5. Constructing Orientation Histograms\n",
    "6. Exporting Screenshots and Animations\n",
    "7. Orientation Filtering\n",
    "8. Computing Directional Statistics\n",
    "9. Polar Plotting (Optional)\n",
    "\n",
    "By following along this worked example, you should gain the skills necessary to apply VectoRose to your own data, regardless of the sample under study and the data acquisition methods used."
   ]
  },
  {
   "cell_type": "markdown",
   "id": "c0d9765c-4126-456b-bf3c-d5c226b9e85a",
   "metadata": {},
   "source": [
    "## Sample Data\n",
    "\n",
    "Before analysing the vectors, let's take a step back... The vectors reflect the architecture of some real, physical object. Let's take a look at that object in 3D! For starters, let's look at a video showing the simulated fibres and their orientations."
   ]
  },
  {
   "cell_type": "code",
   "execution_count": 1,
   "id": "cb3ec7eb-04ef-4624-bef3-deeb7528d1ce",
   "metadata": {
    "execution": {
     "iopub.execute_input": "2025-07-30T18:33:12.343388Z",
     "iopub.status.busy": "2025-07-30T18:33:12.343192Z",
     "iopub.status.idle": "2025-07-30T18:33:12.351054Z",
     "shell.execute_reply": "2025-07-30T18:33:12.350687Z",
     "shell.execute_reply.started": "2025-07-30T18:33:12.343344Z"
    }
   },
   "outputs": [
    {
     "data": {
      "text/html": [
       "<video src=\"../assets/CaseStudy1/RandomCylinders2.mp4\" controls  width=\"720\" >\n",
       "      Your browser does not support the <code>video</code> element.\n",
       "    </video>"
      ],
      "text/plain": [
       "<IPython.core.display.Video object>"
      ]
     },
     "execution_count": 1,
     "metadata": {},
     "output_type": "execute_result"
    }
   ],
   "source": [
    "from IPython.display import Video\n",
    "\n",
    "Video(\"../assets/CaseStudy1/RandomCylinders2.mp4\", width=720)"
   ]
  },
  {
   "cell_type": "markdown",
   "id": "ea25219e-5b53-4d48-948b-54ca944f0117",
   "metadata": {},
   "source": [
    "Note that the orientation colours correspond to the Cartesian axes, with red representing the *x*-axis, green representing the *y*-axis and blue representing the *z*-axis."
   ]
  },
  {
   "cell_type": "markdown",
   "id": "c6ee6d2c-e8aa-4f19-85c9-18eae441b4a7",
   "metadata": {},
   "source": [
    "We can also view the fibres interactively in 3D by taking take advantage of the [PyVista](https://docs.pyvista.org/) package. This package is built on the foundations of the [Visualization Toolkit](https://vtk.org/), which is a very fast and powerful visualisation library.\n",
    "\n",
    "I've provided a mesh showing our artificial fibres in the file [`assets/CaseStudy1/RandomCylinders2.ply`](assets/CaseStudy1/RandomCylinders2.ply).\n",
    "\n",
    "Let's import PyVista and visualise our structure:"
   ]
  },
  {
   "cell_type": "code",
   "execution_count": 2,
   "id": "c61c1526-be31-468a-9258-5002585c718f",
   "metadata": {
    "execution": {
     "iopub.execute_input": "2025-07-30T18:33:12.352513Z",
     "iopub.status.busy": "2025-07-30T18:33:12.352321Z",
     "iopub.status.idle": "2025-07-30T18:33:14.368487Z",
     "shell.execute_reply": "2025-07-30T18:33:14.368162Z",
     "shell.execute_reply.started": "2025-07-30T18:33:12.352498Z"
    }
   },
   "outputs": [
    {
     "data": {
      "application/vnd.jupyter.widget-view+json": {
       "model_id": "f2b73780751a4471b333ea2a622ddc9b",
       "version_major": 2,
       "version_minor": 0
      },
      "text/plain": [
       "Widget(value='<iframe src=\"http://localhost:57329/index.html?ui=P_0x1033f0670_0&reconnect=auto\" class=\"pyvista…"
      ]
     },
     "metadata": {},
     "output_type": "display_data"
    }
   ],
   "source": [
    "import pyvista as pv\n",
    "\n",
    "mesh = pv.read(\"../assets/CaseStudy1/RandomCylinders2.ply\")\n",
    "mesh.plot()"
   ]
  },
  {
   "cell_type": "markdown",
   "id": "fe76dc15-34c1-40ab-9112-ea1ecb889d0f",
   "metadata": {},
   "source": [
    "So, we can see that we have a complicated mess of fibres, going in all sorts of different directions. Now, let's get started with the vectors!"
   ]
  },
  {
   "cell_type": "markdown",
   "id": "bc69bddc-efee-41af-aa6a-79e6f4076e3a",
   "metadata": {},
   "source": [
    "## Getting Started with VectoRose\n",
    "\n",
    "If you haven't already done so, make sure to install the `vectorose` package. This can be done easily in Jupyter Lab by running the following cell:"
   ]
  },
  {
   "cell_type": "code",
   "execution_count": 3,
   "id": "f3e736b0-2117-4d95-9a78-cfac699b953b",
   "metadata": {
    "execution": {
     "iopub.execute_input": "2025-07-30T18:33:14.369111Z",
     "iopub.status.busy": "2025-07-30T18:33:14.368917Z",
     "iopub.status.idle": "2025-07-30T18:33:15.950980Z",
     "shell.execute_reply": "2025-07-30T18:33:15.950374Z",
     "shell.execute_reply.started": "2025-07-30T18:33:14.369100Z"
    }
   },
   "outputs": [
    {
     "name": "stdout",
     "output_type": "stream",
     "text": [
      "Requirement already satisfied: vectorose in /Users/benjamin/miniforge3/envs/vectorose-update/lib/python3.10/site-packages (1.4.0)\n",
      "Requirement already satisfied: imageio-ffmpeg<1,>=0.5.1 in /Users/benjamin/miniforge3/envs/vectorose-update/lib/python3.10/site-packages (from vectorose) (0.6.0)\n",
      "Requirement already satisfied: imageio>=2.27.0 in /Users/benjamin/miniforge3/envs/vectorose-update/lib/python3.10/site-packages (from imageio[ffmpeg,pyav]>=2.27.0->vectorose) (2.37.0)\n",
      "Requirement already satisfied: importlib-metadata>=7.0.1 in /Users/benjamin/miniforge3/envs/vectorose-update/lib/python3.10/site-packages (from vectorose) (8.7.0)\n",
      "Requirement already satisfied: ipywidgets<9,>=8.1.5 in /Users/benjamin/miniforge3/envs/vectorose-update/lib/python3.10/site-packages (from vectorose) (8.1.6)\n",
      "Requirement already satisfied: matplotlib>=3.3.4 in /Users/benjamin/miniforge3/envs/vectorose-update/lib/python3.10/site-packages (from vectorose) (3.10.1)\n",
      "Requirement already satisfied: numpy>=1.19.5 in /Users/benjamin/miniforge3/envs/vectorose-update/lib/python3.10/site-packages (from vectorose) (2.2.5)\n",
      "Requirement already satisfied: openpyxl<4,>=3.1.2 in /Users/benjamin/miniforge3/envs/vectorose-update/lib/python3.10/site-packages (from vectorose) (3.1.5)\n",
      "Requirement already satisfied: pandas>=1.1.3 in /Users/benjamin/miniforge3/envs/vectorose-update/lib/python3.10/site-packages (from vectorose) (2.2.3)\n",
      "Requirement already satisfied: pyvista<1,>=0.44.1 in /Users/benjamin/miniforge3/envs/vectorose-update/lib/python3.10/site-packages (from pyvista[all,jupyter]<1,>=0.44.1->vectorose) (0.45.0)\n",
      "Requirement already satisfied: scipy<2,>=1.14 in /Users/benjamin/miniforge3/envs/vectorose-update/lib/python3.10/site-packages (from vectorose) (1.15.2)\n",
      "Requirement already satisfied: trame<4,>=3.6.5 in /Users/benjamin/miniforge3/envs/vectorose-update/lib/python3.10/site-packages (from vectorose) (3.9.0)\n",
      "Requirement already satisfied: trimesh<5,>=4.3.0 in /Users/benjamin/miniforge3/envs/vectorose-update/lib/python3.10/site-packages (from trimesh[easy]<5,>=4.3.0->vectorose) (4.6.8)\n",
      "Requirement already satisfied: pillow>=8.3.2 in /Users/benjamin/miniforge3/envs/vectorose-update/lib/python3.10/site-packages (from imageio>=2.27.0->imageio[ffmpeg,pyav]>=2.27.0->vectorose) (11.3.0)\n",
      "Requirement already satisfied: av in /Users/benjamin/miniforge3/envs/vectorose-update/lib/python3.10/site-packages (from imageio[ffmpeg,pyav]>=2.27.0->vectorose) (14.3.0)\n",
      "Requirement already satisfied: psutil in /Users/benjamin/miniforge3/envs/vectorose-update/lib/python3.10/site-packages (from imageio[ffmpeg,pyav]>=2.27.0->vectorose) (7.0.0)\n",
      "Requirement already satisfied: zipp>=3.20 in /Users/benjamin/miniforge3/envs/vectorose-update/lib/python3.10/site-packages (from importlib-metadata>=7.0.1->vectorose) (3.21.0)\n",
      "Requirement already satisfied: comm>=0.1.3 in /Users/benjamin/miniforge3/envs/vectorose-update/lib/python3.10/site-packages (from ipywidgets<9,>=8.1.5->vectorose) (0.2.2)\n",
      "Requirement already satisfied: ipython>=6.1.0 in /Users/benjamin/miniforge3/envs/vectorose-update/lib/python3.10/site-packages (from ipywidgets<9,>=8.1.5->vectorose) (8.36.0)\n",
      "Requirement already satisfied: traitlets>=4.3.1 in /Users/benjamin/miniforge3/envs/vectorose-update/lib/python3.10/site-packages (from ipywidgets<9,>=8.1.5->vectorose) (5.14.3)\n",
      "Requirement already satisfied: widgetsnbextension~=4.0.14 in /Users/benjamin/miniforge3/envs/vectorose-update/lib/python3.10/site-packages (from ipywidgets<9,>=8.1.5->vectorose) (4.0.14)\n",
      "Requirement already satisfied: jupyterlab_widgets~=3.0.14 in /Users/benjamin/miniforge3/envs/vectorose-update/lib/python3.10/site-packages (from ipywidgets<9,>=8.1.5->vectorose) (3.0.14)\n",
      "Requirement already satisfied: contourpy>=1.0.1 in /Users/benjamin/miniforge3/envs/vectorose-update/lib/python3.10/site-packages (from matplotlib>=3.3.4->vectorose) (1.3.2)\n",
      "Requirement already satisfied: cycler>=0.10 in /Users/benjamin/miniforge3/envs/vectorose-update/lib/python3.10/site-packages (from matplotlib>=3.3.4->vectorose) (0.12.1)\n",
      "Requirement already satisfied: fonttools>=4.22.0 in /Users/benjamin/miniforge3/envs/vectorose-update/lib/python3.10/site-packages (from matplotlib>=3.3.4->vectorose) (4.57.0)\n",
      "Requirement already satisfied: kiwisolver>=1.3.1 in /Users/benjamin/miniforge3/envs/vectorose-update/lib/python3.10/site-packages (from matplotlib>=3.3.4->vectorose) (1.4.8)\n",
      "Requirement already satisfied: packaging>=20.0 in /Users/benjamin/miniforge3/envs/vectorose-update/lib/python3.10/site-packages (from matplotlib>=3.3.4->vectorose) (25.0)\n",
      "Requirement already satisfied: pyparsing>=2.3.1 in /Users/benjamin/miniforge3/envs/vectorose-update/lib/python3.10/site-packages (from matplotlib>=3.3.4->vectorose) (3.2.3)\n",
      "Requirement already satisfied: python-dateutil>=2.7 in /Users/benjamin/miniforge3/envs/vectorose-update/lib/python3.10/site-packages (from matplotlib>=3.3.4->vectorose) (2.9.0.post0)\n",
      "Requirement already satisfied: et-xmlfile in /Users/benjamin/miniforge3/envs/vectorose-update/lib/python3.10/site-packages (from openpyxl<4,>=3.1.2->vectorose) (2.0.0)\n",
      "Requirement already satisfied: pytz>=2020.1 in /Users/benjamin/miniforge3/envs/vectorose-update/lib/python3.10/site-packages (from pandas>=1.1.3->vectorose) (2025.2)\n",
      "Requirement already satisfied: tzdata>=2022.7 in /Users/benjamin/miniforge3/envs/vectorose-update/lib/python3.10/site-packages (from pandas>=1.1.3->vectorose) (2025.2)\n",
      "Requirement already satisfied: pooch in /Users/benjamin/miniforge3/envs/vectorose-update/lib/python3.10/site-packages (from pyvista<1,>=0.44.1->pyvista[all,jupyter]<1,>=0.44.1->vectorose) (1.8.2)\n",
      "Requirement already satisfied: scooby>=0.5.1 in /Users/benjamin/miniforge3/envs/vectorose-update/lib/python3.10/site-packages (from pyvista<1,>=0.44.1->pyvista[all,jupyter]<1,>=0.44.1->vectorose) (0.10.1)\n",
      "Requirement already satisfied: typing-extensions in /Users/benjamin/miniforge3/envs/vectorose-update/lib/python3.10/site-packages (from pyvista<1,>=0.44.1->pyvista[all,jupyter]<1,>=0.44.1->vectorose) (4.13.2)\n",
      "Requirement already satisfied: vtk!=9.4.0 in /Users/benjamin/miniforge3/envs/vectorose-update/lib/python3.10/site-packages (from pyvista<1,>=0.44.1->pyvista[all,jupyter]<1,>=0.44.1->vectorose) (9.4.2)\n",
      "Requirement already satisfied: jupyter-server-proxy in /Users/benjamin/miniforge3/envs/vectorose-update/lib/python3.10/site-packages (from pyvista[all,jupyter]<1,>=0.44.1->vectorose) (4.4.0)\n",
      "Requirement already satisfied: nest_asyncio in /Users/benjamin/miniforge3/envs/vectorose-update/lib/python3.10/site-packages (from pyvista[all,jupyter]<1,>=0.44.1->vectorose) (1.6.0)\n",
      "Requirement already satisfied: trame-client>=2.12.7 in /Users/benjamin/miniforge3/envs/vectorose-update/lib/python3.10/site-packages (from pyvista[all,jupyter]<1,>=0.44.1->vectorose) (3.8.1)\n",
      "Requirement already satisfied: trame-server>=2.11.7 in /Users/benjamin/miniforge3/envs/vectorose-update/lib/python3.10/site-packages (from pyvista[all,jupyter]<1,>=0.44.1->vectorose) (3.4.0)\n",
      "Requirement already satisfied: trame-vtk>=2.5.8 in /Users/benjamin/miniforge3/envs/vectorose-update/lib/python3.10/site-packages (from pyvista[all,jupyter]<1,>=0.44.1->vectorose) (2.8.15)\n",
      "Requirement already satisfied: trame-vuetify>=2.3.1 in /Users/benjamin/miniforge3/envs/vectorose-update/lib/python3.10/site-packages (from pyvista[all,jupyter]<1,>=0.44.1->vectorose) (3.0.1)\n",
      "Requirement already satisfied: trame-common<1,>=0.2 in /Users/benjamin/miniforge3/envs/vectorose-update/lib/python3.10/site-packages (from trame<4,>=3.6.5->vectorose) (0.2.0)\n",
      "Requirement already satisfied: wslink>=2.3.3 in /Users/benjamin/miniforge3/envs/vectorose-update/lib/python3.10/site-packages (from trame<4,>=3.6.5->vectorose) (2.3.3)\n",
      "Requirement already satisfied: pyyaml in /Users/benjamin/miniforge3/envs/vectorose-update/lib/python3.10/site-packages (from trame<4,>=3.6.5->vectorose) (6.0.2)\n",
      "Requirement already satisfied: colorlog in /Users/benjamin/miniforge3/envs/vectorose-update/lib/python3.10/site-packages (from trimesh[easy]<5,>=4.3.0->vectorose) (6.9.0)\n",
      "Requirement already satisfied: manifold3d>=2.3.0 in /Users/benjamin/miniforge3/envs/vectorose-update/lib/python3.10/site-packages (from trimesh[easy]<5,>=4.3.0->vectorose) (3.0.1)\n",
      "Requirement already satisfied: charset-normalizer in /Users/benjamin/miniforge3/envs/vectorose-update/lib/python3.10/site-packages (from trimesh[easy]<5,>=4.3.0->vectorose) (3.4.2)\n",
      "Requirement already satisfied: lxml in /Users/benjamin/miniforge3/envs/vectorose-update/lib/python3.10/site-packages (from trimesh[easy]<5,>=4.3.0->vectorose) (5.4.0)\n",
      "Requirement already satisfied: jsonschema in /Users/benjamin/miniforge3/envs/vectorose-update/lib/python3.10/site-packages (from trimesh[easy]<5,>=4.3.0->vectorose) (4.23.0)\n",
      "Requirement already satisfied: networkx in /Users/benjamin/miniforge3/envs/vectorose-update/lib/python3.10/site-packages (from trimesh[easy]<5,>=4.3.0->vectorose) (3.4.2)\n",
      "Requirement already satisfied: svg.path in /Users/benjamin/miniforge3/envs/vectorose-update/lib/python3.10/site-packages (from trimesh[easy]<5,>=4.3.0->vectorose) (6.3)\n",
      "Requirement already satisfied: pycollada in /Users/benjamin/miniforge3/envs/vectorose-update/lib/python3.10/site-packages (from trimesh[easy]<5,>=4.3.0->vectorose) (0.9)\n",
      "Requirement already satisfied: shapely in /Users/benjamin/miniforge3/envs/vectorose-update/lib/python3.10/site-packages (from trimesh[easy]<5,>=4.3.0->vectorose) (2.1.0)\n",
      "Requirement already satisfied: xxhash in /Users/benjamin/miniforge3/envs/vectorose-update/lib/python3.10/site-packages (from trimesh[easy]<5,>=4.3.0->vectorose) (3.5.0)\n",
      "Requirement already satisfied: rtree in /Users/benjamin/miniforge3/envs/vectorose-update/lib/python3.10/site-packages (from trimesh[easy]<5,>=4.3.0->vectorose) (1.4.0)\n",
      "Requirement already satisfied: httpx in /Users/benjamin/miniforge3/envs/vectorose-update/lib/python3.10/site-packages (from trimesh[easy]<5,>=4.3.0->vectorose) (0.28.1)\n",
      "Requirement already satisfied: vhacdx in /Users/benjamin/miniforge3/envs/vectorose-update/lib/python3.10/site-packages (from trimesh[easy]<5,>=4.3.0->vectorose) (0.0.8.post2)\n",
      "Requirement already satisfied: mapbox_earcut>=1.0.2 in /Users/benjamin/miniforge3/envs/vectorose-update/lib/python3.10/site-packages (from trimesh[easy]<5,>=4.3.0->vectorose) (1.0.3)\n",
      "Requirement already satisfied: decorator in /Users/benjamin/miniforge3/envs/vectorose-update/lib/python3.10/site-packages (from ipython>=6.1.0->ipywidgets<9,>=8.1.5->vectorose) (5.2.1)\n",
      "Requirement already satisfied: exceptiongroup in /Users/benjamin/miniforge3/envs/vectorose-update/lib/python3.10/site-packages (from ipython>=6.1.0->ipywidgets<9,>=8.1.5->vectorose) (1.2.2)\n",
      "Requirement already satisfied: jedi>=0.16 in /Users/benjamin/miniforge3/envs/vectorose-update/lib/python3.10/site-packages (from ipython>=6.1.0->ipywidgets<9,>=8.1.5->vectorose) (0.19.2)\n",
      "Requirement already satisfied: matplotlib-inline in /Users/benjamin/miniforge3/envs/vectorose-update/lib/python3.10/site-packages (from ipython>=6.1.0->ipywidgets<9,>=8.1.5->vectorose) (0.1.7)\n",
      "Requirement already satisfied: pexpect>4.3 in /Users/benjamin/miniforge3/envs/vectorose-update/lib/python3.10/site-packages (from ipython>=6.1.0->ipywidgets<9,>=8.1.5->vectorose) (4.9.0)\n",
      "Requirement already satisfied: prompt_toolkit<3.1.0,>=3.0.41 in /Users/benjamin/miniforge3/envs/vectorose-update/lib/python3.10/site-packages (from ipython>=6.1.0->ipywidgets<9,>=8.1.5->vectorose) (3.0.51)\n",
      "Requirement already satisfied: pygments>=2.4.0 in /Users/benjamin/miniforge3/envs/vectorose-update/lib/python3.10/site-packages (from ipython>=6.1.0->ipywidgets<9,>=8.1.5->vectorose) (2.19.1)\n",
      "Requirement already satisfied: stack_data in /Users/benjamin/miniforge3/envs/vectorose-update/lib/python3.10/site-packages (from ipython>=6.1.0->ipywidgets<9,>=8.1.5->vectorose) (0.6.3)\n",
      "Requirement already satisfied: six>=1.5 in /Users/benjamin/miniforge3/envs/vectorose-update/lib/python3.10/site-packages (from python-dateutil>=2.7->matplotlib>=3.3.4->vectorose) (1.17.0)\n",
      "Requirement already satisfied: more-itertools in /Users/benjamin/miniforge3/envs/vectorose-update/lib/python3.10/site-packages (from trame-server>=2.11.7->pyvista[all,jupyter]<1,>=0.44.1->vectorose) (10.7.0)\n",
      "Requirement already satisfied: aiohttp<4 in /Users/benjamin/miniforge3/envs/vectorose-update/lib/python3.10/site-packages (from wslink>=2.3.3->trame<4,>=3.6.5->vectorose) (3.12.14)\n",
      "Requirement already satisfied: msgpack<2,>=1 in /Users/benjamin/miniforge3/envs/vectorose-update/lib/python3.10/site-packages (from wslink>=2.3.3->trame<4,>=3.6.5->vectorose) (1.1.0)\n",
      "Requirement already satisfied: anyio in /Users/benjamin/miniforge3/envs/vectorose-update/lib/python3.10/site-packages (from httpx->trimesh[easy]<5,>=4.3.0->vectorose) (4.9.0)\n",
      "Requirement already satisfied: certifi in /Users/benjamin/miniforge3/envs/vectorose-update/lib/python3.10/site-packages (from httpx->trimesh[easy]<5,>=4.3.0->vectorose) (2025.4.26)\n",
      "Requirement already satisfied: httpcore==1.* in /Users/benjamin/miniforge3/envs/vectorose-update/lib/python3.10/site-packages (from httpx->trimesh[easy]<5,>=4.3.0->vectorose) (1.0.9)\n",
      "Requirement already satisfied: idna in /Users/benjamin/miniforge3/envs/vectorose-update/lib/python3.10/site-packages (from httpx->trimesh[easy]<5,>=4.3.0->vectorose) (3.10)\n",
      "Requirement already satisfied: h11>=0.16 in /Users/benjamin/miniforge3/envs/vectorose-update/lib/python3.10/site-packages (from httpcore==1.*->httpx->trimesh[easy]<5,>=4.3.0->vectorose) (0.16.0)\n",
      "Requirement already satisfied: attrs>=22.2.0 in /Users/benjamin/miniforge3/envs/vectorose-update/lib/python3.10/site-packages (from jsonschema->trimesh[easy]<5,>=4.3.0->vectorose) (25.3.0)\n",
      "Requirement already satisfied: jsonschema-specifications>=2023.03.6 in /Users/benjamin/miniforge3/envs/vectorose-update/lib/python3.10/site-packages (from jsonschema->trimesh[easy]<5,>=4.3.0->vectorose) (2025.4.1)\n",
      "Requirement already satisfied: referencing>=0.28.4 in /Users/benjamin/miniforge3/envs/vectorose-update/lib/python3.10/site-packages (from jsonschema->trimesh[easy]<5,>=4.3.0->vectorose) (0.36.2)\n",
      "Requirement already satisfied: rpds-py>=0.7.1 in /Users/benjamin/miniforge3/envs/vectorose-update/lib/python3.10/site-packages (from jsonschema->trimesh[easy]<5,>=4.3.0->vectorose) (0.24.0)\n",
      "Requirement already satisfied: jupyter-server>=1.24.0 in /Users/benjamin/miniforge3/envs/vectorose-update/lib/python3.10/site-packages (from jupyter-server-proxy->pyvista[all,jupyter]<1,>=0.44.1->vectorose) (2.15.0)\n",
      "Requirement already satisfied: simpervisor>=1.0.0 in /Users/benjamin/miniforge3/envs/vectorose-update/lib/python3.10/site-packages (from jupyter-server-proxy->pyvista[all,jupyter]<1,>=0.44.1->vectorose) (1.0.0)\n",
      "Requirement already satisfied: tornado>=6.1.0 in /Users/benjamin/miniforge3/envs/vectorose-update/lib/python3.10/site-packages (from jupyter-server-proxy->pyvista[all,jupyter]<1,>=0.44.1->vectorose) (6.5.1)\n",
      "Requirement already satisfied: platformdirs>=2.5.0 in /Users/benjamin/miniforge3/envs/vectorose-update/lib/python3.10/site-packages (from pooch->pyvista<1,>=0.44.1->pyvista[all,jupyter]<1,>=0.44.1->vectorose) (4.3.7)\n",
      "Requirement already satisfied: requests>=2.19.0 in /Users/benjamin/miniforge3/envs/vectorose-update/lib/python3.10/site-packages (from pooch->pyvista<1,>=0.44.1->pyvista[all,jupyter]<1,>=0.44.1->vectorose) (2.32.4)\n",
      "Requirement already satisfied: cmocean in /Users/benjamin/miniforge3/envs/vectorose-update/lib/python3.10/site-packages (from pyvista<1,>=0.44.1->pyvista[all,jupyter]<1,>=0.44.1->vectorose) (4.0.3)\n",
      "Requirement already satisfied: colorcet in /Users/benjamin/miniforge3/envs/vectorose-update/lib/python3.10/site-packages (from pyvista<1,>=0.44.1->pyvista[all,jupyter]<1,>=0.44.1->vectorose) (3.1.0)\n",
      "Requirement already satisfied: meshio>=5.2 in /Users/benjamin/miniforge3/envs/vectorose-update/lib/python3.10/site-packages (from pyvista<1,>=0.44.1->pyvista[all,jupyter]<1,>=0.44.1->vectorose) (5.3.5)\n",
      "Requirement already satisfied: aiohappyeyeballs>=2.5.0 in /Users/benjamin/miniforge3/envs/vectorose-update/lib/python3.10/site-packages (from aiohttp<4->wslink>=2.3.3->trame<4,>=3.6.5->vectorose) (2.6.1)\n",
      "Requirement already satisfied: aiosignal>=1.4.0 in /Users/benjamin/miniforge3/envs/vectorose-update/lib/python3.10/site-packages (from aiohttp<4->wslink>=2.3.3->trame<4,>=3.6.5->vectorose) (1.4.0)\n",
      "Requirement already satisfied: async-timeout<6.0,>=4.0 in /Users/benjamin/miniforge3/envs/vectorose-update/lib/python3.10/site-packages (from aiohttp<4->wslink>=2.3.3->trame<4,>=3.6.5->vectorose) (5.0.1)\n",
      "Requirement already satisfied: frozenlist>=1.1.1 in /Users/benjamin/miniforge3/envs/vectorose-update/lib/python3.10/site-packages (from aiohttp<4->wslink>=2.3.3->trame<4,>=3.6.5->vectorose) (1.6.0)\n",
      "Requirement already satisfied: multidict<7.0,>=4.5 in /Users/benjamin/miniforge3/envs/vectorose-update/lib/python3.10/site-packages (from aiohttp<4->wslink>=2.3.3->trame<4,>=3.6.5->vectorose) (6.4.3)\n",
      "Requirement already satisfied: propcache>=0.2.0 in /Users/benjamin/miniforge3/envs/vectorose-update/lib/python3.10/site-packages (from aiohttp<4->wslink>=2.3.3->trame<4,>=3.6.5->vectorose) (0.3.1)\n",
      "Requirement already satisfied: yarl<2.0,>=1.17.0 in /Users/benjamin/miniforge3/envs/vectorose-update/lib/python3.10/site-packages (from aiohttp<4->wslink>=2.3.3->trame<4,>=3.6.5->vectorose) (1.20.0)\n",
      "Requirement already satisfied: parso<0.9.0,>=0.8.4 in /Users/benjamin/miniforge3/envs/vectorose-update/lib/python3.10/site-packages (from jedi>=0.16->ipython>=6.1.0->ipywidgets<9,>=8.1.5->vectorose) (0.8.4)\n",
      "Requirement already satisfied: argon2-cffi>=21.1 in /Users/benjamin/miniforge3/envs/vectorose-update/lib/python3.10/site-packages (from jupyter-server>=1.24.0->jupyter-server-proxy->pyvista[all,jupyter]<1,>=0.44.1->vectorose) (23.1.0)\n",
      "Requirement already satisfied: jinja2>=3.0.3 in /Users/benjamin/miniforge3/envs/vectorose-update/lib/python3.10/site-packages (from jupyter-server>=1.24.0->jupyter-server-proxy->pyvista[all,jupyter]<1,>=0.44.1->vectorose) (3.1.6)\n",
      "Requirement already satisfied: jupyter-client>=7.4.4 in /Users/benjamin/miniforge3/envs/vectorose-update/lib/python3.10/site-packages (from jupyter-server>=1.24.0->jupyter-server-proxy->pyvista[all,jupyter]<1,>=0.44.1->vectorose) (8.6.3)\n",
      "Requirement already satisfied: jupyter-core!=5.0.*,>=4.12 in /Users/benjamin/miniforge3/envs/vectorose-update/lib/python3.10/site-packages (from jupyter-server>=1.24.0->jupyter-server-proxy->pyvista[all,jupyter]<1,>=0.44.1->vectorose) (5.7.2)\n",
      "Requirement already satisfied: jupyter-events>=0.11.0 in /Users/benjamin/miniforge3/envs/vectorose-update/lib/python3.10/site-packages (from jupyter-server>=1.24.0->jupyter-server-proxy->pyvista[all,jupyter]<1,>=0.44.1->vectorose) (0.12.0)\n",
      "Requirement already satisfied: jupyter-server-terminals>=0.4.4 in /Users/benjamin/miniforge3/envs/vectorose-update/lib/python3.10/site-packages (from jupyter-server>=1.24.0->jupyter-server-proxy->pyvista[all,jupyter]<1,>=0.44.1->vectorose) (0.5.3)\n",
      "Requirement already satisfied: nbconvert>=6.4.4 in /Users/benjamin/miniforge3/envs/vectorose-update/lib/python3.10/site-packages (from jupyter-server>=1.24.0->jupyter-server-proxy->pyvista[all,jupyter]<1,>=0.44.1->vectorose) (7.16.6)\n",
      "Requirement already satisfied: nbformat>=5.3.0 in /Users/benjamin/miniforge3/envs/vectorose-update/lib/python3.10/site-packages (from jupyter-server>=1.24.0->jupyter-server-proxy->pyvista[all,jupyter]<1,>=0.44.1->vectorose) (5.10.4)\n",
      "Requirement already satisfied: overrides>=5.0 in /Users/benjamin/miniforge3/envs/vectorose-update/lib/python3.10/site-packages (from jupyter-server>=1.24.0->jupyter-server-proxy->pyvista[all,jupyter]<1,>=0.44.1->vectorose) (7.7.0)\n",
      "Requirement already satisfied: prometheus-client>=0.9 in /Users/benjamin/miniforge3/envs/vectorose-update/lib/python3.10/site-packages (from jupyter-server>=1.24.0->jupyter-server-proxy->pyvista[all,jupyter]<1,>=0.44.1->vectorose) (0.21.1)\n",
      "Requirement already satisfied: pyzmq>=24 in /Users/benjamin/miniforge3/envs/vectorose-update/lib/python3.10/site-packages (from jupyter-server>=1.24.0->jupyter-server-proxy->pyvista[all,jupyter]<1,>=0.44.1->vectorose) (26.4.0)\n",
      "Requirement already satisfied: send2trash>=1.8.2 in /Users/benjamin/miniforge3/envs/vectorose-update/lib/python3.10/site-packages (from jupyter-server>=1.24.0->jupyter-server-proxy->pyvista[all,jupyter]<1,>=0.44.1->vectorose) (1.8.3)\n",
      "Requirement already satisfied: terminado>=0.8.3 in /Users/benjamin/miniforge3/envs/vectorose-update/lib/python3.10/site-packages (from jupyter-server>=1.24.0->jupyter-server-proxy->pyvista[all,jupyter]<1,>=0.44.1->vectorose) (0.18.1)\n",
      "Requirement already satisfied: websocket-client>=1.7 in /Users/benjamin/miniforge3/envs/vectorose-update/lib/python3.10/site-packages (from jupyter-server>=1.24.0->jupyter-server-proxy->pyvista[all,jupyter]<1,>=0.44.1->vectorose) (1.8.0)\n",
      "Requirement already satisfied: sniffio>=1.1 in /Users/benjamin/miniforge3/envs/vectorose-update/lib/python3.10/site-packages (from anyio->httpx->trimesh[easy]<5,>=4.3.0->vectorose) (1.3.1)\n",
      "Requirement already satisfied: rich in /Users/benjamin/miniforge3/envs/vectorose-update/lib/python3.10/site-packages (from meshio>=5.2->pyvista<1,>=0.44.1->pyvista[all,jupyter]<1,>=0.44.1->vectorose) (14.0.0)\n",
      "Requirement already satisfied: ptyprocess>=0.5 in /Users/benjamin/miniforge3/envs/vectorose-update/lib/python3.10/site-packages (from pexpect>4.3->ipython>=6.1.0->ipywidgets<9,>=8.1.5->vectorose) (0.7.0)\n",
      "Requirement already satisfied: wcwidth in /Users/benjamin/miniforge3/envs/vectorose-update/lib/python3.10/site-packages (from prompt_toolkit<3.1.0,>=3.0.41->ipython>=6.1.0->ipywidgets<9,>=8.1.5->vectorose) (0.2.13)\n",
      "Requirement already satisfied: urllib3<3,>=1.21.1 in /Users/benjamin/miniforge3/envs/vectorose-update/lib/python3.10/site-packages (from requests>=2.19.0->pooch->pyvista<1,>=0.44.1->pyvista[all,jupyter]<1,>=0.44.1->vectorose) (2.5.0)\n",
      "Requirement already satisfied: executing>=1.2.0 in /Users/benjamin/miniforge3/envs/vectorose-update/lib/python3.10/site-packages (from stack_data->ipython>=6.1.0->ipywidgets<9,>=8.1.5->vectorose) (2.2.0)\n",
      "Requirement already satisfied: asttokens>=2.1.0 in /Users/benjamin/miniforge3/envs/vectorose-update/lib/python3.10/site-packages (from stack_data->ipython>=6.1.0->ipywidgets<9,>=8.1.5->vectorose) (3.0.0)\n",
      "Requirement already satisfied: pure-eval in /Users/benjamin/miniforge3/envs/vectorose-update/lib/python3.10/site-packages (from stack_data->ipython>=6.1.0->ipywidgets<9,>=8.1.5->vectorose) (0.2.3)\n",
      "Requirement already satisfied: argon2-cffi-bindings in /Users/benjamin/miniforge3/envs/vectorose-update/lib/python3.10/site-packages (from argon2-cffi>=21.1->jupyter-server>=1.24.0->jupyter-server-proxy->pyvista[all,jupyter]<1,>=0.44.1->vectorose) (21.2.0)\n",
      "Requirement already satisfied: MarkupSafe>=2.0 in /Users/benjamin/miniforge3/envs/vectorose-update/lib/python3.10/site-packages (from jinja2>=3.0.3->jupyter-server>=1.24.0->jupyter-server-proxy->pyvista[all,jupyter]<1,>=0.44.1->vectorose) (3.0.2)\n",
      "Requirement already satisfied: python-json-logger>=2.0.4 in /Users/benjamin/miniforge3/envs/vectorose-update/lib/python3.10/site-packages (from jupyter-events>=0.11.0->jupyter-server>=1.24.0->jupyter-server-proxy->pyvista[all,jupyter]<1,>=0.44.1->vectorose) (3.3.0)\n",
      "Requirement already satisfied: rfc3339-validator in /Users/benjamin/miniforge3/envs/vectorose-update/lib/python3.10/site-packages (from jupyter-events>=0.11.0->jupyter-server>=1.24.0->jupyter-server-proxy->pyvista[all,jupyter]<1,>=0.44.1->vectorose) (0.1.4)\n",
      "Requirement already satisfied: rfc3986-validator>=0.1.1 in /Users/benjamin/miniforge3/envs/vectorose-update/lib/python3.10/site-packages (from jupyter-events>=0.11.0->jupyter-server>=1.24.0->jupyter-server-proxy->pyvista[all,jupyter]<1,>=0.44.1->vectorose) (0.1.1)\n",
      "Requirement already satisfied: beautifulsoup4 in /Users/benjamin/miniforge3/envs/vectorose-update/lib/python3.10/site-packages (from nbconvert>=6.4.4->jupyter-server>=1.24.0->jupyter-server-proxy->pyvista[all,jupyter]<1,>=0.44.1->vectorose) (4.13.4)\n",
      "Requirement already satisfied: bleach!=5.0.0 in /Users/benjamin/miniforge3/envs/vectorose-update/lib/python3.10/site-packages (from bleach[css]!=5.0.0->nbconvert>=6.4.4->jupyter-server>=1.24.0->jupyter-server-proxy->pyvista[all,jupyter]<1,>=0.44.1->vectorose) (6.2.0)\n",
      "Requirement already satisfied: defusedxml in /Users/benjamin/miniforge3/envs/vectorose-update/lib/python3.10/site-packages (from nbconvert>=6.4.4->jupyter-server>=1.24.0->jupyter-server-proxy->pyvista[all,jupyter]<1,>=0.44.1->vectorose) (0.7.1)\n",
      "Requirement already satisfied: jupyterlab-pygments in /Users/benjamin/miniforge3/envs/vectorose-update/lib/python3.10/site-packages (from nbconvert>=6.4.4->jupyter-server>=1.24.0->jupyter-server-proxy->pyvista[all,jupyter]<1,>=0.44.1->vectorose) (0.3.0)\n",
      "Requirement already satisfied: mistune<4,>=2.0.3 in /Users/benjamin/miniforge3/envs/vectorose-update/lib/python3.10/site-packages (from nbconvert>=6.4.4->jupyter-server>=1.24.0->jupyter-server-proxy->pyvista[all,jupyter]<1,>=0.44.1->vectorose) (3.1.3)\n",
      "Requirement already satisfied: nbclient>=0.5.0 in /Users/benjamin/miniforge3/envs/vectorose-update/lib/python3.10/site-packages (from nbconvert>=6.4.4->jupyter-server>=1.24.0->jupyter-server-proxy->pyvista[all,jupyter]<1,>=0.44.1->vectorose) (0.10.2)\n",
      "Requirement already satisfied: pandocfilters>=1.4.1 in /Users/benjamin/miniforge3/envs/vectorose-update/lib/python3.10/site-packages (from nbconvert>=6.4.4->jupyter-server>=1.24.0->jupyter-server-proxy->pyvista[all,jupyter]<1,>=0.44.1->vectorose) (1.5.1)\n",
      "Requirement already satisfied: fastjsonschema>=2.15 in /Users/benjamin/miniforge3/envs/vectorose-update/lib/python3.10/site-packages (from nbformat>=5.3.0->jupyter-server>=1.24.0->jupyter-server-proxy->pyvista[all,jupyter]<1,>=0.44.1->vectorose) (2.21.1)\n",
      "Requirement already satisfied: markdown-it-py>=2.2.0 in /Users/benjamin/miniforge3/envs/vectorose-update/lib/python3.10/site-packages (from rich->meshio>=5.2->pyvista<1,>=0.44.1->pyvista[all,jupyter]<1,>=0.44.1->vectorose) (3.0.0)\n",
      "Requirement already satisfied: webencodings in /Users/benjamin/miniforge3/envs/vectorose-update/lib/python3.10/site-packages (from bleach!=5.0.0->bleach[css]!=5.0.0->nbconvert>=6.4.4->jupyter-server>=1.24.0->jupyter-server-proxy->pyvista[all,jupyter]<1,>=0.44.1->vectorose) (0.5.1)\n",
      "Requirement already satisfied: tinycss2<1.5,>=1.1.0 in /Users/benjamin/miniforge3/envs/vectorose-update/lib/python3.10/site-packages (from bleach[css]!=5.0.0->nbconvert>=6.4.4->jupyter-server>=1.24.0->jupyter-server-proxy->pyvista[all,jupyter]<1,>=0.44.1->vectorose) (1.4.0)\n",
      "Requirement already satisfied: fqdn in /Users/benjamin/miniforge3/envs/vectorose-update/lib/python3.10/site-packages (from jsonschema[format-nongpl]>=4.18.0->jupyter-events>=0.11.0->jupyter-server>=1.24.0->jupyter-server-proxy->pyvista[all,jupyter]<1,>=0.44.1->vectorose) (1.4.0)\n",
      "Requirement already satisfied: isoduration in /Users/benjamin/miniforge3/envs/vectorose-update/lib/python3.10/site-packages (from jsonschema[format-nongpl]>=4.18.0->jupyter-events>=0.11.0->jupyter-server>=1.24.0->jupyter-server-proxy->pyvista[all,jupyter]<1,>=0.44.1->vectorose) (20.11.0)\n",
      "Requirement already satisfied: jsonpointer>1.13 in /Users/benjamin/miniforge3/envs/vectorose-update/lib/python3.10/site-packages (from jsonschema[format-nongpl]>=4.18.0->jupyter-events>=0.11.0->jupyter-server>=1.24.0->jupyter-server-proxy->pyvista[all,jupyter]<1,>=0.44.1->vectorose) (3.0.0)\n",
      "Requirement already satisfied: uri-template in /Users/benjamin/miniforge3/envs/vectorose-update/lib/python3.10/site-packages (from jsonschema[format-nongpl]>=4.18.0->jupyter-events>=0.11.0->jupyter-server>=1.24.0->jupyter-server-proxy->pyvista[all,jupyter]<1,>=0.44.1->vectorose) (1.3.0)\n",
      "Requirement already satisfied: webcolors>=24.6.0 in /Users/benjamin/miniforge3/envs/vectorose-update/lib/python3.10/site-packages (from jsonschema[format-nongpl]>=4.18.0->jupyter-events>=0.11.0->jupyter-server>=1.24.0->jupyter-server-proxy->pyvista[all,jupyter]<1,>=0.44.1->vectorose) (24.11.1)\n",
      "Requirement already satisfied: mdurl~=0.1 in /Users/benjamin/miniforge3/envs/vectorose-update/lib/python3.10/site-packages (from markdown-it-py>=2.2.0->rich->meshio>=5.2->pyvista<1,>=0.44.1->pyvista[all,jupyter]<1,>=0.44.1->vectorose) (0.1.2)\n",
      "Requirement already satisfied: cffi>=1.0.1 in /Users/benjamin/miniforge3/envs/vectorose-update/lib/python3.10/site-packages (from argon2-cffi-bindings->argon2-cffi>=21.1->jupyter-server>=1.24.0->jupyter-server-proxy->pyvista[all,jupyter]<1,>=0.44.1->vectorose) (1.17.1)\n",
      "Requirement already satisfied: soupsieve>1.2 in /Users/benjamin/miniforge3/envs/vectorose-update/lib/python3.10/site-packages (from beautifulsoup4->nbconvert>=6.4.4->jupyter-server>=1.24.0->jupyter-server-proxy->pyvista[all,jupyter]<1,>=0.44.1->vectorose) (2.7)\n",
      "Requirement already satisfied: pycparser in /Users/benjamin/miniforge3/envs/vectorose-update/lib/python3.10/site-packages (from cffi>=1.0.1->argon2-cffi-bindings->argon2-cffi>=21.1->jupyter-server>=1.24.0->jupyter-server-proxy->pyvista[all,jupyter]<1,>=0.44.1->vectorose) (2.22)\n",
      "Requirement already satisfied: arrow>=0.15.0 in /Users/benjamin/miniforge3/envs/vectorose-update/lib/python3.10/site-packages (from isoduration->jsonschema[format-nongpl]>=4.18.0->jupyter-events>=0.11.0->jupyter-server>=1.24.0->jupyter-server-proxy->pyvista[all,jupyter]<1,>=0.44.1->vectorose) (1.3.0)\n",
      "Requirement already satisfied: types-python-dateutil>=2.8.10 in /Users/benjamin/miniforge3/envs/vectorose-update/lib/python3.10/site-packages (from arrow>=0.15.0->isoduration->jsonschema[format-nongpl]>=4.18.0->jupyter-events>=0.11.0->jupyter-server>=1.24.0->jupyter-server-proxy->pyvista[all,jupyter]<1,>=0.44.1->vectorose) (2.9.0.20241206)\n",
      "Note: you may need to restart the kernel to use updated packages.\n"
     ]
    }
   ],
   "source": [
    "# Install vectorose\n",
    "# Only run this cell if you don't have vectorose installed.\n",
    "%pip install vectorose"
   ]
  },
  {
   "cell_type": "markdown",
   "id": "fa773535-8111-487f-98d8-44ad6c609aeb",
   "metadata": {},
   "source": [
    "And, as usual, the first thing we need to do is import our package. To save space, we will give `vectorose` the shorter name `vr` when we import it.\n",
    "\n",
    "> 📝 **Note**\\\n",
    "> This is just a convention. You can rename the package to anything else meaningful."
   ]
  },
  {
   "cell_type": "code",
   "execution_count": 4,
   "id": "f6374450-240e-4c75-bef2-2d2e1cdb2390",
   "metadata": {
    "execution": {
     "iopub.execute_input": "2025-07-30T18:33:15.952118Z",
     "iopub.status.busy": "2025-07-30T18:33:15.951900Z",
     "iopub.status.idle": "2025-07-30T18:33:18.742358Z",
     "shell.execute_reply": "2025-07-30T18:33:18.741940Z",
     "shell.execute_reply.started": "2025-07-30T18:33:15.952099Z"
    }
   },
   "outputs": [],
   "source": [
    "# Your code here to import vectorose\n",
    "import vectorose as vr"
   ]
  },
  {
   "cell_type": "markdown",
   "id": "5ed6f6a1-9776-482d-b45e-200e10854598",
   "metadata": {},
   "source": [
    "## Loading Vector Data\n",
    "\n",
    "To study the orientations of the fibres, I've computed an anisotropy field using [**Dragonfly 3D World**](https://dragonfly.comet.tech/en/product-overview/dragonfly-3d-world). These vectors are stored in a *binary NumPy file*, located at [`assets/CaseStudy1/RandomCylinders2_S5_R5_SMOOTH1_EIG_MASKED.npy`](assets/CaseStudy1/RandomCylinders2_S5_R5_SMOOTH1_EIG_MASKED.npy).\n",
    "\n",
    "To be able to work with vectors, first we need to load them into our Python session. To do this, we're going to use the function [`vr.io.import_vector_field`](https://vectorose.readthedocs.io/en/latest/autoapi/vectorose/io/index.html#vectorose.io.import_vector_field). For more details about the types of files that can contain vector data and how to format vectors in these files, make sure to check out the VectoRose [**User's Guide**](https://vectorose.readthedocs.io/en/latest/users_guide/data_format.html)."
   ]
  },
  {
   "cell_type": "code",
   "execution_count": 5,
   "id": "8b8a6fbd-8e82-424d-8ecf-f321252f470e",
   "metadata": {
    "execution": {
     "iopub.execute_input": "2025-07-30T18:33:18.743266Z",
     "iopub.status.busy": "2025-07-30T18:33:18.742894Z",
     "iopub.status.idle": "2025-07-30T18:33:18.747786Z",
     "shell.execute_reply": "2025-07-30T18:33:18.747543Z",
     "shell.execute_reply.started": "2025-07-30T18:33:18.743255Z"
    }
   },
   "outputs": [
    {
     "data": {
      "text/plain": [
       "array([[ 2.17249995e-04,  7.25000018e-06,  2.25000008e-06,\n",
       "        -6.73993230e-01,  1.24919660e-01, -5.77550344e-02],\n",
       "       [ 2.17249995e-04,  1.22499996e-05,  2.25000008e-06,\n",
       "         7.59395778e-01,  5.05454898e-01, -6.63871085e-03],\n",
       "       [ 2.22250004e-04,  1.22499996e-05,  2.25000008e-06,\n",
       "        -3.93639039e-03,  4.86057311e-01, -1.23139396e-01],\n",
       "       ...,\n",
       "       [ 1.62249999e-04,  4.92250023e-04,  4.97250003e-04,\n",
       "        -3.81766051e-01,  6.32507682e-01, -8.24042037e-02],\n",
       "       [ 1.67249993e-04,  4.92250023e-04,  4.97250003e-04,\n",
       "         5.29863775e-01, -4.66158479e-01,  1.98084395e-02],\n",
       "       [ 1.62249999e-04,  4.97250003e-04,  4.97250003e-04,\n",
       "         6.54519856e-01, -3.34748834e-01,  2.82837033e-01]],\n",
       "      shape=(18716, 6))"
      ]
     },
     "execution_count": 5,
     "metadata": {},
     "output_type": "execute_result"
    }
   ],
   "source": [
    "vectors_filename = \"../assets/CaseStudy1/RandomCylinders2_S5_R5_SMOOTH1_EIG_MASKED.npy\"\n",
    "\n",
    "# Your code here to load the vectors\n",
    "vectors = vr.io.import_vector_field(vectors_filename)\n",
    "\n",
    "vectors"
   ]
  },
  {
   "cell_type": "markdown",
   "id": "3a0a5c00-59e9-4124-9af6-d00455b6f074",
   "metadata": {},
   "source": [
    "We can now see that we have an array containing 18 716 vectors. The first three columns correspond to the spatial `x`, `y`, `z` coordinates, while the last three correspond to the vector `x`, `y`, `z` components."
   ]
  },
  {
   "cell_type": "markdown",
   "id": "9a2d524c-60d9-43d1-b24d-b3c749e51829",
   "metadata": {},
   "source": [
    "Now that we have the vectors loaded, we can start performing he analysis. But we need to be careful! We can't analyse the orientations of any vectors with zero magnitude... since they don't have orientation. So, we need to perform a pruning step. We'll call the function [`vr.util.remove_zero_vectors`](https://vectorose.readthedocs.io/en/latest/autoapi/vectorose/util/index.html#vectorose.util.remove_zero_vectors) to perform this step."
   ]
  },
  {
   "cell_type": "code",
   "execution_count": 6,
   "id": "0d2e8dca-b8f6-4a32-b90b-aa6ef47037d3",
   "metadata": {
    "execution": {
     "iopub.execute_input": "2025-07-30T18:33:18.748378Z",
     "iopub.status.busy": "2025-07-30T18:33:18.748252Z",
     "iopub.status.idle": "2025-07-30T18:33:18.751045Z",
     "shell.execute_reply": "2025-07-30T18:33:18.750812Z",
     "shell.execute_reply.started": "2025-07-30T18:33:18.748367Z"
    }
   },
   "outputs": [
    {
     "data": {
      "text/plain": [
       "array([[ 2.17249995e-04,  7.25000018e-06,  2.25000008e-06,\n",
       "        -6.73993230e-01,  1.24919660e-01, -5.77550344e-02],\n",
       "       [ 2.17249995e-04,  1.22499996e-05,  2.25000008e-06,\n",
       "         7.59395778e-01,  5.05454898e-01, -6.63871085e-03],\n",
       "       [ 2.22250004e-04,  1.22499996e-05,  2.25000008e-06,\n",
       "        -3.93639039e-03,  4.86057311e-01, -1.23139396e-01],\n",
       "       ...,\n",
       "       [ 1.62249999e-04,  4.92250023e-04,  4.97250003e-04,\n",
       "        -3.81766051e-01,  6.32507682e-01, -8.24042037e-02],\n",
       "       [ 1.67249993e-04,  4.92250023e-04,  4.97250003e-04,\n",
       "         5.29863775e-01, -4.66158479e-01,  1.98084395e-02],\n",
       "       [ 1.62249999e-04,  4.97250003e-04,  4.97250003e-04,\n",
       "         6.54519856e-01, -3.34748834e-01,  2.82837033e-01]],\n",
       "      shape=(18711, 6))"
      ]
     },
     "execution_count": 6,
     "metadata": {},
     "output_type": "execute_result"
    }
   ],
   "source": [
    "# Your code here to remove zero-vectors\n",
    "vectors = vr.util.remove_zero_vectors(vectors)\n",
    "\n",
    "vectors"
   ]
  },
  {
   "cell_type": "markdown",
   "id": "2c84577f-608a-4ebc-95ca-1a8e188862bd",
   "metadata": {},
   "source": [
    "We can see that we now have 18 711 vectors, so we've removed a few vectors with zero magnitude."
   ]
  },
  {
   "cell_type": "markdown",
   "id": "35def00d-8a68-48d4-97e8-4e732c24bbbb",
   "metadata": {},
   "source": [
    "There's one last processing step that we'd like to do. Our fibres don't actually have any inherent *direction*. So, we want to make sure that all antiparallel vectors are considered as the same. To do this, we will flip all vectors with a negative `z`-component so that all vectors lie in the upper hemisphere. Since we're doing this to convert vectorial data into axial data, we'll be using the function [`vr.util.convert_vectors_to_axes`](https://vectorose.readthedocs.io/en/latest/autoapi/vectorose/util/index.html#vectorose.util.convert_vectors_to_axes)."
   ]
  },
  {
   "cell_type": "code",
   "execution_count": 7,
   "id": "a476b9ea-33a2-4aee-a560-0d06c11df349",
   "metadata": {
    "execution": {
     "iopub.execute_input": "2025-07-30T18:33:18.751576Z",
     "iopub.status.busy": "2025-07-30T18:33:18.751464Z",
     "iopub.status.idle": "2025-07-30T18:33:18.754691Z",
     "shell.execute_reply": "2025-07-30T18:33:18.754414Z",
     "shell.execute_reply.started": "2025-07-30T18:33:18.751566Z"
    }
   },
   "outputs": [
    {
     "data": {
      "text/plain": [
       "array([[ 2.17249995e-04,  7.25000018e-06,  2.25000008e-06,\n",
       "         6.73993230e-01, -1.24919660e-01,  5.77550344e-02],\n",
       "       [ 2.17249995e-04,  1.22499996e-05,  2.25000008e-06,\n",
       "        -7.59395778e-01, -5.05454898e-01,  6.63871085e-03],\n",
       "       [ 2.22250004e-04,  1.22499996e-05,  2.25000008e-06,\n",
       "         3.93639039e-03, -4.86057311e-01,  1.23139396e-01],\n",
       "       ...,\n",
       "       [ 1.62249999e-04,  4.92250023e-04,  4.97250003e-04,\n",
       "         3.81766051e-01, -6.32507682e-01,  8.24042037e-02],\n",
       "       [ 1.67249993e-04,  4.92250023e-04,  4.97250003e-04,\n",
       "         5.29863775e-01, -4.66158479e-01,  1.98084395e-02],\n",
       "       [ 1.62249999e-04,  4.97250003e-04,  4.97250003e-04,\n",
       "         6.54519856e-01, -3.34748834e-01,  2.82837033e-01]],\n",
       "      shape=(18711, 6))"
      ]
     },
     "execution_count": 7,
     "metadata": {},
     "output_type": "execute_result"
    }
   ],
   "source": [
    "# Your code here to convert vectors to axes\n",
    "vectors = vr.util.convert_vectors_to_axes(vectors)\n",
    "\n",
    "vectors"
   ]
  },
  {
   "cell_type": "markdown",
   "id": "61bb259a-3aa4-471a-a9fa-c88228ccbda3",
   "metadata": {},
   "source": [
    "As you can see, all vectors now have a positive `z`-component. All our vectors now lie in the upper hemisphere.\n",
    "\n",
    "While this will be helpful for computing statistics, it will make the spherical visualisations a bit less exciting. Well, we can duplicate the vectors and create flipped copies on the bottom hemisphere to make sure that we get histograms plotted on the full sphere. We'll use the function [`vr.util.create_symmetric_vectors_from_axes`](https://vectorose.readthedocs.io/en/latest/autoapi/vectorose/util/index.html#vectorose.util.create_symmetric_vectors_from_axes)."
   ]
  },
  {
   "cell_type": "code",
   "execution_count": 8,
   "id": "e35a64df-836f-46b0-9147-477b787afa7e",
   "metadata": {
    "execution": {
     "iopub.execute_input": "2025-07-30T18:33:18.755279Z",
     "iopub.status.busy": "2025-07-30T18:33:18.755152Z",
     "iopub.status.idle": "2025-07-30T18:33:18.758524Z",
     "shell.execute_reply": "2025-07-30T18:33:18.758235Z",
     "shell.execute_reply.started": "2025-07-30T18:33:18.755266Z"
    }
   },
   "outputs": [
    {
     "data": {
      "text/plain": [
       "array([[ 2.17249995e-04,  7.25000018e-06,  2.25000008e-06,\n",
       "         6.73993230e-01, -1.24919660e-01,  5.77550344e-02],\n",
       "       [ 2.17249995e-04,  1.22499996e-05,  2.25000008e-06,\n",
       "        -7.59395778e-01, -5.05454898e-01,  6.63871085e-03],\n",
       "       [ 2.22250004e-04,  1.22499996e-05,  2.25000008e-06,\n",
       "         3.93639039e-03, -4.86057311e-01,  1.23139396e-01],\n",
       "       ...,\n",
       "       [ 1.62249999e-04,  4.92250023e-04,  4.97250003e-04,\n",
       "        -3.81766051e-01,  6.32507682e-01, -8.24042037e-02],\n",
       "       [ 1.67249993e-04,  4.92250023e-04,  4.97250003e-04,\n",
       "        -5.29863775e-01,  4.66158479e-01, -1.98084395e-02],\n",
       "       [ 1.62249999e-04,  4.97250003e-04,  4.97250003e-04,\n",
       "        -6.54519856e-01,  3.34748834e-01, -2.82837033e-01]],\n",
       "      shape=(37422, 6))"
      ]
     },
     "execution_count": 8,
     "metadata": {},
     "output_type": "execute_result"
    }
   ],
   "source": [
    "# Your code here to create symmetric vectors\n",
    "symmetric_vectors = vr.util.create_symmetric_vectors_from_axes(vectors)\n",
    "\n",
    "symmetric_vectors"
   ]
  },
  {
   "cell_type": "markdown",
   "id": "a55bdb7c-93fe-4e84-9c74-95378bfc73e2",
   "metadata": {},
   "source": [
    "Now you can see that we have twice as many vectors as before! Now that we've done all this pre-processing, we can begin analysing our data!"
   ]
  },
  {
   "cell_type": "markdown",
   "id": "eda441cd-04aa-4c29-b336-d970f56dd2c5",
   "metadata": {},
   "source": [
    "## Constructing Orientation Histograms\n",
    "\n",
    "We'll now begin the process of constructing an orientation histogram. Remember that one of the key features of a histogram is the binning. A histogram shows the frequency of the data in each bin. When we're talking about orientations and directions, we need to assign the data to bins on the surface of a sphere.\n",
    "\n",
    "There are many different ways of defining these bins. One such way involves a (largely) rectangular tiling, based on the work by [Beckers & Beckers (2012)](10.1016/j.comgeo.2012.01.011), known as a *Tregenza sphere*. In VectoRose, we can create different Tregenza spheres with different-sized bins. We'll focus primarly on the [`FineTregenzaSphere`](https://vectorose.readthedocs.io/en/latest/autoapi/vectorose/tregenza_sphere/index.html#vectorose.tregenza_sphere.FineTregenzaSphere). This sphere representation consists of 54 rings, containing a total of 5806 bins.\n",
    "\n",
    "Let's now create a `FineTregenzaSphere` so that we can compute our histograms:"
   ]
  },
  {
   "cell_type": "code",
   "execution_count": 9,
   "id": "4951123e-d68b-4f92-9de4-08c5e26ca744",
   "metadata": {
    "execution": {
     "iopub.execute_input": "2025-07-30T18:33:18.759258Z",
     "iopub.status.busy": "2025-07-30T18:33:18.758988Z",
     "iopub.status.idle": "2025-07-30T18:33:18.763357Z",
     "shell.execute_reply": "2025-07-30T18:33:18.762997Z",
     "shell.execute_reply.started": "2025-07-30T18:33:18.759246Z"
    }
   },
   "outputs": [],
   "source": [
    "# Your code here for generating a FineTregenzaSphere\n",
    "my_sphere = vr.tregenza_sphere.FineTregenzaSphere()"
   ]
  },
  {
   "cell_type": "markdown",
   "id": "4b582d01-dbeb-4269-9c3c-f4aeb2368d4c",
   "metadata": {},
   "source": [
    "Now, we can assign our vectors to different orientation bins using the method [`assign_histogram_bins`](https://vectorose.readthedocs.io/en/latest/autoapi/vectorose/sphere_base/index.html#vectorose.sphere_base.SphereBase.assign_histogram_bins). This method returns **two** objects, with the first being the labelled vectors. We'll discuss the second object in another example.\n",
    "\n",
    "Let's now assign our vectors to bins!"
   ]
  },
  {
   "cell_type": "code",
   "execution_count": 10,
   "id": "0b69ab1f-9e28-4325-b5d3-3950f76e032e",
   "metadata": {
    "execution": {
     "iopub.execute_input": "2025-07-30T18:33:18.763975Z",
     "iopub.status.busy": "2025-07-30T18:33:18.763864Z",
     "iopub.status.idle": "2025-07-30T18:33:18.778036Z",
     "shell.execute_reply": "2025-07-30T18:33:18.777515Z",
     "shell.execute_reply.started": "2025-07-30T18:33:18.763963Z"
    }
   },
   "outputs": [
    {
     "data": {
      "text/html": [
       "<div>\n",
       "<style scoped>\n",
       "    .dataframe tbody tr th:only-of-type {\n",
       "        vertical-align: middle;\n",
       "    }\n",
       "\n",
       "    .dataframe tbody tr th {\n",
       "        vertical-align: top;\n",
       "    }\n",
       "\n",
       "    .dataframe thead th {\n",
       "        text-align: right;\n",
       "    }\n",
       "</style>\n",
       "<table border=\"1\" class=\"dataframe\">\n",
       "  <thead>\n",
       "    <tr style=\"text-align: right;\">\n",
       "      <th></th>\n",
       "      <th>x</th>\n",
       "      <th>y</th>\n",
       "      <th>z</th>\n",
       "      <th>phi</th>\n",
       "      <th>theta</th>\n",
       "      <th>magnitude</th>\n",
       "      <th>shell</th>\n",
       "      <th>ring</th>\n",
       "      <th>bin</th>\n",
       "    </tr>\n",
       "  </thead>\n",
       "  <tbody>\n",
       "    <tr>\n",
       "      <th>0</th>\n",
       "      <td>0.000217</td>\n",
       "      <td>0.000007</td>\n",
       "      <td>0.000002</td>\n",
       "      <td>85.183870</td>\n",
       "      <td>100.500197</td>\n",
       "      <td>0.687901</td>\n",
       "      <td>0</td>\n",
       "      <td>25</td>\n",
       "      <td>48</td>\n",
       "    </tr>\n",
       "    <tr>\n",
       "      <th>1</th>\n",
       "      <td>0.000217</td>\n",
       "      <td>0.000012</td>\n",
       "      <td>0.000002</td>\n",
       "      <td>89.583041</td>\n",
       "      <td>236.352208</td>\n",
       "      <td>0.912256</td>\n",
       "      <td>0</td>\n",
       "      <td>26</td>\n",
       "      <td>113</td>\n",
       "    </tr>\n",
       "    <tr>\n",
       "      <th>2</th>\n",
       "      <td>0.000222</td>\n",
       "      <td>0.000012</td>\n",
       "      <td>0.000002</td>\n",
       "      <td>75.784054</td>\n",
       "      <td>179.535994</td>\n",
       "      <td>0.501428</td>\n",
       "      <td>0</td>\n",
       "      <td>22</td>\n",
       "      <td>83</td>\n",
       "    </tr>\n",
       "    <tr>\n",
       "      <th>3</th>\n",
       "      <td>0.000227</td>\n",
       "      <td>0.000012</td>\n",
       "      <td>0.000002</td>\n",
       "      <td>72.793514</td>\n",
       "      <td>236.650681</td>\n",
       "      <td>0.856323</td>\n",
       "      <td>0</td>\n",
       "      <td>21</td>\n",
       "      <td>108</td>\n",
       "    </tr>\n",
       "    <tr>\n",
       "      <th>4</th>\n",
       "      <td>0.000227</td>\n",
       "      <td>0.000017</td>\n",
       "      <td>0.000002</td>\n",
       "      <td>76.777555</td>\n",
       "      <td>229.473854</td>\n",
       "      <td>0.821028</td>\n",
       "      <td>0</td>\n",
       "      <td>23</td>\n",
       "      <td>109</td>\n",
       "    </tr>\n",
       "    <tr>\n",
       "      <th>...</th>\n",
       "      <td>...</td>\n",
       "      <td>...</td>\n",
       "      <td>...</td>\n",
       "      <td>...</td>\n",
       "      <td>...</td>\n",
       "      <td>...</td>\n",
       "      <td>...</td>\n",
       "      <td>...</td>\n",
       "      <td>...</td>\n",
       "    </tr>\n",
       "    <tr>\n",
       "      <th>37417</th>\n",
       "      <td>0.000167</td>\n",
       "      <td>0.000487</td>\n",
       "      <td>0.000497</td>\n",
       "      <td>93.148396</td>\n",
       "      <td>298.085863</td>\n",
       "      <td>0.697202</td>\n",
       "      <td>0</td>\n",
       "      <td>27</td>\n",
       "      <td>143</td>\n",
       "    </tr>\n",
       "    <tr>\n",
       "      <th>37418</th>\n",
       "      <td>0.000172</td>\n",
       "      <td>0.000487</td>\n",
       "      <td>0.000497</td>\n",
       "      <td>94.294715</td>\n",
       "      <td>3.853788</td>\n",
       "      <td>0.661866</td>\n",
       "      <td>0</td>\n",
       "      <td>28</td>\n",
       "      <td>1</td>\n",
       "    </tr>\n",
       "    <tr>\n",
       "      <th>37419</th>\n",
       "      <td>0.000162</td>\n",
       "      <td>0.000492</td>\n",
       "      <td>0.000497</td>\n",
       "      <td>96.364428</td>\n",
       "      <td>328.885854</td>\n",
       "      <td>0.743372</td>\n",
       "      <td>0</td>\n",
       "      <td>28</td>\n",
       "      <td>158</td>\n",
       "    </tr>\n",
       "    <tr>\n",
       "      <th>37420</th>\n",
       "      <td>0.000167</td>\n",
       "      <td>0.000492</td>\n",
       "      <td>0.000497</td>\n",
       "      <td>91.607749</td>\n",
       "      <td>311.340363</td>\n",
       "      <td>0.706011</td>\n",
       "      <td>0</td>\n",
       "      <td>27</td>\n",
       "      <td>149</td>\n",
       "    </tr>\n",
       "    <tr>\n",
       "      <th>37421</th>\n",
       "      <td>0.000162</td>\n",
       "      <td>0.000497</td>\n",
       "      <td>0.000497</td>\n",
       "      <td>111.043287</td>\n",
       "      <td>297.087102</td>\n",
       "      <td>0.787686</td>\n",
       "      <td>0</td>\n",
       "      <td>33</td>\n",
       "      <td>132</td>\n",
       "    </tr>\n",
       "  </tbody>\n",
       "</table>\n",
       "<p>37422 rows × 9 columns</p>\n",
       "</div>"
      ],
      "text/plain": [
       "              x         y         z         phi       theta  magnitude  shell  \\\n",
       "0      0.000217  0.000007  0.000002   85.183870  100.500197   0.687901      0   \n",
       "1      0.000217  0.000012  0.000002   89.583041  236.352208   0.912256      0   \n",
       "2      0.000222  0.000012  0.000002   75.784054  179.535994   0.501428      0   \n",
       "3      0.000227  0.000012  0.000002   72.793514  236.650681   0.856323      0   \n",
       "4      0.000227  0.000017  0.000002   76.777555  229.473854   0.821028      0   \n",
       "...         ...       ...       ...         ...         ...        ...    ...   \n",
       "37417  0.000167  0.000487  0.000497   93.148396  298.085863   0.697202      0   \n",
       "37418  0.000172  0.000487  0.000497   94.294715    3.853788   0.661866      0   \n",
       "37419  0.000162  0.000492  0.000497   96.364428  328.885854   0.743372      0   \n",
       "37420  0.000167  0.000492  0.000497   91.607749  311.340363   0.706011      0   \n",
       "37421  0.000162  0.000497  0.000497  111.043287  297.087102   0.787686      0   \n",
       "\n",
       "       ring  bin  \n",
       "0        25   48  \n",
       "1        26  113  \n",
       "2        22   83  \n",
       "3        21  108  \n",
       "4        23  109  \n",
       "...     ...  ...  \n",
       "37417    27  143  \n",
       "37418    28    1  \n",
       "37419    28  158  \n",
       "37420    27  149  \n",
       "37421    33  132  \n",
       "\n",
       "[37422 rows x 9 columns]"
      ]
     },
     "execution_count": 10,
     "metadata": {},
     "output_type": "execute_result"
    }
   ],
   "source": [
    "# Your code here to assign vectors to orientation bins\n",
    "labelled_vectors, _ = my_sphere.assign_histogram_bins(symmetric_vectors)\n",
    "\n",
    "labelled_vectors"
   ]
  },
  {
   "cell_type": "markdown",
   "id": "1014b814-7237-4838-a6db-eaedb94f0b1e",
   "metadata": {},
   "source": [
    "We can see that our vectors are now a bit different... Instead of a simple array, we have something that looks more like a spreadsheet. This is a `DataFrame`, included in the pandas package. We can see that our vectors are now represented using their spatial locations (**x**, **y**, **z**), as well as their orientations (**phi**, **theta**) and lengths (**magnitude**).\n",
    "\n",
    "We also have the three histogram-related columns **shell**, **ring**, **bin**. We won't worry about the **shell** right now, since we're only focussing on orientation. The **ring** and the **bin** tell us where in the Tregenza sphere our vectors land. These columns are really important for building our histograms!\n",
    "\n",
    "Now that we have our data assigned to bins, we need to figure out how many vectors are in each bin to construct a histogram. Thankfully, we don't have to do any of these calculations ourselves! VectoRose takes care of everything. We can construct our orientation histogram using the method [`construct_marginal_orientation_histogram`](https://vectorose.readthedocs.io/en/latest/autoapi/vectorose/sphere_base/index.html#vectorose.sphere_base.SphereBase.construct_marginal_orientation_histogram) defined on the `FineTregenzaSphere`."
   ]
  },
  {
   "cell_type": "code",
   "execution_count": 11,
   "id": "db6b686d-8445-4dcf-95c4-9f8ff62a126e",
   "metadata": {
    "execution": {
     "iopub.execute_input": "2025-07-30T18:33:18.778607Z",
     "iopub.status.busy": "2025-07-30T18:33:18.778490Z",
     "iopub.status.idle": "2025-07-30T18:33:18.805943Z",
     "shell.execute_reply": "2025-07-30T18:33:18.805652Z",
     "shell.execute_reply.started": "2025-07-30T18:33:18.778595Z"
    }
   },
   "outputs": [
    {
     "data": {
      "text/plain": [
       "ring  bin\n",
       "0     0      0.000027\n",
       "1     0      0.000428\n",
       "      1      0.000080\n",
       "      2      0.000027\n",
       "      3      0.000027\n",
       "               ...   \n",
       "52    2      0.000027\n",
       "      3      0.000428\n",
       "      4      0.000080\n",
       "      5      0.000027\n",
       "53    0      0.000027\n",
       "Length: 5806, dtype: float64"
      ]
     },
     "execution_count": 11,
     "metadata": {},
     "output_type": "execute_result"
    }
   ],
   "source": [
    "# Your code here to compute the orientation histogram\n",
    "orientation_histogram = my_sphere.construct_marginal_orientation_histogram(labelled_vectors)\n",
    "\n",
    "orientation_histogram"
   ]
  },
  {
   "cell_type": "markdown",
   "id": "450e7db5-d620-48e2-a57c-111def74306a",
   "metadata": {},
   "source": [
    "We now have a single column with fractions represented as decimals. Each row contains the fraction of vectors lying in each face of the sphere. Notice how we have a multi-level index, where we are looking by ring, and then by bin in the ring.\n",
    "\n",
    "We can make sure that everything makes sense here by checking the sum of all these entries. We expect that the total sum of the fractions should equal 1."
   ]
  },
  {
   "cell_type": "code",
   "execution_count": 12,
   "id": "fe33f1e2-988e-4204-b01d-2ad5b85cf031",
   "metadata": {
    "execution": {
     "iopub.execute_input": "2025-07-30T18:33:18.806535Z",
     "iopub.status.busy": "2025-07-30T18:33:18.806426Z",
     "iopub.status.idle": "2025-07-30T18:33:18.808720Z",
     "shell.execute_reply": "2025-07-30T18:33:18.808338Z",
     "shell.execute_reply.started": "2025-07-30T18:33:18.806523Z"
    }
   },
   "outputs": [
    {
     "name": "stdout",
     "output_type": "stream",
     "text": [
      "1.0\n"
     ]
    }
   ],
   "source": [
    "# Your code here to check the sum of all entries\n",
    "\n",
    "print(orientation_histogram.sum())"
   ]
  },
  {
   "cell_type": "markdown",
   "id": "d47b8086-17d2-416c-8634-b07f30166b7c",
   "metadata": {},
   "source": [
    "Yay! It worked!\n",
    "\n",
    "So, we have all the data that we need to create our histogram, but we still have a small problem... we're looking at a flat list of numbers. But we want a nice visual, 3D spherical histogram.\n",
    "\n",
    "We can construct this histogram quite easily.\n",
    "\n",
    "First, we need to create a mesh of the sphere we want to visualise using the method [`create_shell_mesh`](https://vectorose.readthedocs.io/en/latest/autoapi/vectorose/sphere_base/index.html#vectorose.sphere_base.SphereBase.create_shell_mesh)."
   ]
  },
  {
   "cell_type": "code",
   "execution_count": 13,
   "id": "a6e3ff98-79fe-40c2-9ff4-f4fb9db0ff60",
   "metadata": {
    "execution": {
     "iopub.execute_input": "2025-07-30T18:33:18.809296Z",
     "iopub.status.busy": "2025-07-30T18:33:18.809178Z",
     "iopub.status.idle": "2025-07-30T18:33:18.834147Z",
     "shell.execute_reply": "2025-07-30T18:33:18.833791Z",
     "shell.execute_reply.started": "2025-07-30T18:33:18.809285Z"
    }
   },
   "outputs": [
    {
     "data": {
      "text/html": [
       "<table style='width: 100%;'><tr><th>Header</th><th>Data Arrays</th></tr><tr><td>\n",
       "<table style='width: 100%;'>\n",
       "<tr><th>PolyData</th><th>Information</th></tr>\n",
       "<tr><td>N Cells</td><td>5806</td></tr>\n",
       "<tr><td>N Points</td><td>10619</td></tr>\n",
       "<tr><td>N Strips</td><td>0</td></tr>\n",
       "<tr><td>X Bounds</td><td>-1.000e+00, 1.000e+00</td></tr>\n",
       "<tr><td>Y Bounds</td><td>-9.998e-01, 1.000e+00</td></tr>\n",
       "<tr><td>Z Bounds</td><td>-9.997e-01, 9.997e-01</td></tr>\n",
       "<tr><td>N Arrays</td><td>3</td></tr>\n",
       "</table>\n",
       "\n",
       "</td><td>\n",
       "<table style='width: 100%;'>\n",
       "<tr><th>Name</th><th>Field</th><th>Type</th><th>N Comp</th><th>Min</th><th>Max</th></tr>\n",
       "<tr><td>bin</td><td>Cells</td><td>int64</td><td>1</td><td>0.000e+00</td><td>1.720e+02</td></tr>\n",
       "<tr><td><b>ring</b></td><td>Cells</td><td>int64</td><td>1</td><td>0.000e+00</td><td>5.300e+01</td></tr>\n",
       "<tr><td>frequency</td><td>Cells</td><td>float64</td><td>1</td><td>0.000e+00</td><td>1.050e-02</td></tr>\n",
       "</table>\n",
       "\n",
       "</td></tr> </table>"
      ],
      "text/plain": [
       "PolyData (0x14ad441c0)\n",
       "  N Cells:    5806\n",
       "  N Points:   10619\n",
       "  N Strips:   0\n",
       "  X Bounds:   -1.000e+00, 1.000e+00\n",
       "  Y Bounds:   -9.998e-01, 1.000e+00\n",
       "  Z Bounds:   -9.997e-01, 9.997e-01\n",
       "  N Arrays:   3"
      ]
     },
     "execution_count": 13,
     "metadata": {},
     "output_type": "execute_result"
    }
   ],
   "source": [
    "# Your code here to construct the histogram mesh\n",
    "\n",
    "orientation_mesh = my_sphere.create_shell_mesh(orientation_histogram)\n",
    "\n",
    "orientation_mesh"
   ]
  },
  {
   "cell_type": "markdown",
   "id": "9dad4e43-2070-4f5b-8243-8b9bdde571d9",
   "metadata": {},
   "source": [
    "Now that we have the mesh, we must plot it. We could do this directly using PyVista, like we did in the intro. But VectoRose provides a [`SpherePlotter`](https://vectorose.readthedocs.io/en/latest/autoapi/vectorose/plotting/index.html#vectorose.plotting.SpherePlotter) class that helps with some of the plotting tasks that we'll see.\n",
    "\n",
    "> ⚠️ **Warning**\\\n",
    "> It is super important that after creating the `SpherePlotter`, you **must** call the method [`produce_plot`](https://vectorose.readthedocs.io/en/latest/autoapi/vectorose/plotting/index.html#vectorose.plotting.SpherePlotter.produce_plot). Otherwise, you won't be able to see the histogram."
   ]
  },
  {
   "cell_type": "code",
   "execution_count": 14,
   "id": "468b46c5-9076-4ed9-bee6-95305b14546d",
   "metadata": {
    "execution": {
     "iopub.execute_input": "2025-07-30T18:33:18.834776Z",
     "iopub.status.busy": "2025-07-30T18:33:18.834622Z",
     "iopub.status.idle": "2025-07-30T18:33:18.963453Z",
     "shell.execute_reply": "2025-07-30T18:33:18.963024Z",
     "shell.execute_reply.started": "2025-07-30T18:33:18.834765Z"
    }
   },
   "outputs": [
    {
     "data": {
      "application/vnd.jupyter.widget-view+json": {
       "model_id": "c72d2e98147640028ab5fb9b9e45960d",
       "version_major": 2,
       "version_minor": 0
      },
      "text/plain": [
       "Widget(value='<iframe src=\"http://localhost:57329/index.html?ui=P_0x13ad256c0_1&reconnect=auto\" class=\"pyvista…"
      ]
     },
     "metadata": {},
     "output_type": "display_data"
    }
   ],
   "source": [
    "# Your code here to produce the SpherePlotter\n",
    "\n",
    "my_plotter = vr.plotting.SpherePlotter(orientation_mesh)\n",
    "my_plotter.produce_plot()\n",
    "my_plotter.show()"
   ]
  },
  {
   "cell_type": "markdown",
   "id": "e5732f92-9cf6-482a-876c-b0940af1778c",
   "metadata": {},
   "source": [
    "We did it! Now we have a spherical histogram! We can see bright spots representing the different fibres observed in our dataset.\n",
    "\n",
    "Confused about the angles? Well, we can add some spherical axes using the [`add_spherical_axes`](https://vectorose.readthedocs.io/en/latest/autoapi/vectorose/plotting/index.html#vectorose.plotting.SpherePlotter.add_spherical_axes) method."
   ]
  },
  {
   "cell_type": "code",
   "execution_count": 15,
   "id": "ab29b291-1c2f-444f-8118-7057640e5178",
   "metadata": {
    "execution": {
     "iopub.execute_input": "2025-07-30T18:33:18.964083Z",
     "iopub.status.busy": "2025-07-30T18:33:18.963969Z",
     "iopub.status.idle": "2025-07-30T18:33:19.015271Z",
     "shell.execute_reply": "2025-07-30T18:33:19.014908Z",
     "shell.execute_reply.started": "2025-07-30T18:33:18.964072Z"
    }
   },
   "outputs": [],
   "source": [
    "# Your code here to add spherical axes\n",
    "\n",
    "my_plotter.add_spherical_axes()"
   ]
  },
  {
   "cell_type": "markdown",
   "id": "3ae017ee-5037-425f-b6ac-2d614b861301",
   "metadata": {},
   "source": [
    "Congratulations! You've just created your first orientation histogram plot 🎉!\n",
    "\n",
    "> 💡 **Tip**\\\n",
    "> Don't lose track of this plotter. We'll come back to it in later sections."
   ]
  },
  {
   "cell_type": "markdown",
   "id": "25649762-86db-42b4-a3f5-b0b0bee1f4ee",
   "metadata": {},
   "source": [
    "## Exporting Screenshots and Animations\n",
    "\n",
    "At this point, we have a 3D spherical histogram that is fun to interact with, but it only lives in our Jupyter notebook. If we stop the notebook and reopen it, we no longer have access to our plotter. How can we save our insights for later use?\n",
    "\n",
    "Good news! With VectoRose, it's easy to save images from plotters, and even to generate videos. In this section, we'll see the basics of these tasks."
   ]
  },
  {
   "cell_type": "markdown",
   "id": "3b03aa0e-bb56-495f-ae68-d7f47066682d",
   "metadata": {},
   "source": [
    "### Exporting Screenshots\n",
    "\n",
    "A picture is worth a thousand words...\n",
    "\n",
    "VectoRose contains two methods for saving screenshots:\n",
    "\n",
    "* [`SpherePlotter.export_screenshot`](https://vectorose.readthedocs.io/en/latest/autoapi/vectorose/plotting/index.html#vectorose.plotting.SpherePlotter.export_screenshot) - export raster images of plots, such as `PNG` or `TIFF`.\n",
    "* [`SpherePlotter.export_graphic`](https://vectorose.readthedocs.io/en/latest/autoapi/vectorose/plotting/index.html#vectorose.plotting.SpherePlotter.export_graphic) - export vector graphics of plots, such as `PDF` or `SVG`.\n",
    "\n",
    "> ⚠️ **Attention**\\\n",
    "> When exporting to a vector graphics format, the plot is still rendered as a raster image. However, any text becomes easily editable (and does not look pixelated).\n",
    "\n",
    "Let's see some examples with our previous plot."
   ]
  },
  {
   "cell_type": "code",
   "execution_count": 16,
   "id": "0c99b5a2-9df6-4871-b437-8b7ace4cbac6",
   "metadata": {
    "execution": {
     "iopub.execute_input": "2025-07-30T18:33:19.015732Z",
     "iopub.status.busy": "2025-07-30T18:33:19.015639Z",
     "iopub.status.idle": "2025-07-30T18:33:19.064447Z",
     "shell.execute_reply": "2025-07-30T18:33:19.064086Z",
     "shell.execute_reply.started": "2025-07-30T18:33:19.015722Z"
    }
   },
   "outputs": [],
   "source": [
    "# Your code here to save a screenshot\n",
    "\n",
    "my_plotter.export_screenshot(\"simulated_fibres.png\")"
   ]
  },
  {
   "cell_type": "markdown",
   "id": "357ed392-eece-4d86-beeb-af875f6caa05",
   "metadata": {},
   "source": [
    "Let's now take a quick look at our image..."
   ]
  },
  {
   "cell_type": "code",
   "execution_count": 17,
   "id": "bb0bba5f-dffd-45b4-91a4-77127307ec8c",
   "metadata": {
    "execution": {
     "iopub.execute_input": "2025-07-30T18:33:19.064989Z",
     "iopub.status.busy": "2025-07-30T18:33:19.064871Z",
     "iopub.status.idle": "2025-07-30T18:33:19.151768Z",
     "shell.execute_reply": "2025-07-30T18:33:19.151242Z",
     "shell.execute_reply.started": "2025-07-30T18:33:19.064979Z"
    }
   },
   "outputs": [
    {
     "data": {
      "image/png": "[encoded data removed]",
      "text/plain": [
       "<Figure size 640x480 with 1 Axes>"
      ]
     },
     "metadata": {},
     "output_type": "display_data"
    }
   ],
   "source": [
    "import matplotlib.pyplot as plt\n",
    "import PIL\n",
    "\n",
    "im = PIL.Image.open(\"simulated_fibres.png\")\n",
    "\n",
    "plt.imshow(im)\n",
    "plt.show()"
   ]
  },
  {
   "cell_type": "code",
   "execution_count": 18,
   "id": "c75bfe8a-6d55-4080-92bb-71bff900087a",
   "metadata": {
    "execution": {
     "iopub.execute_input": "2025-07-30T18:33:19.152768Z",
     "iopub.status.busy": "2025-07-30T18:33:19.152618Z",
     "iopub.status.idle": "2025-07-30T18:33:19.292580Z",
     "shell.execute_reply": "2025-07-30T18:33:19.292198Z",
     "shell.execute_reply.started": "2025-07-30T18:33:19.152754Z"
    }
   },
   "outputs": [],
   "source": [
    "# Your code here to save PDF\n",
    "\n",
    "my_plotter.export_graphic(\"simulated_fibres.pdf\", \"simulated_fibres\")"
   ]
  },
  {
   "cell_type": "markdown",
   "id": "e7ca2fd1-3b9e-4b0d-9697-a24f6ca0f19f",
   "metadata": {},
   "source": [
    "These functions both have different parameters that can be set. Make sure to check out the documentation to learn more about all the possibilities."
   ]
  },
  {
   "cell_type": "markdown",
   "id": "e36ab6fe-babe-4340-86e0-f0b2098f5e32",
   "metadata": {},
   "source": [
    "### Exporting Animations\n",
    "\n",
    "So... a picture is worth a thousand words... about the side of the sphere that is currently visible!\n",
    "\n",
    "In a screenshot, we can only see one side of the spherical orientation histogram. What if we want to view the sphere from many different angles?\n",
    "\n",
    "Well... a video is worth a thousand pictures! We can create animations that show the orientation histogram from many different perspectives. The simplest type of video we can create is a *rotation animation*. We do this using the method [`produce_rotating_video`](https://vectorose.readthedocs.io/en/latest/autoapi/vectorose/plotting/index.html#vectorose.plotting.SpherePlotter.produce_rotating_video).\n",
    "\n",
    "Make sure to check out the documentation to learn about the various parameters.\n",
    "\n",
    "The first parameter is the output filename, which must either be a an `mp4` or `gif` file."
   ]
  },
  {
   "cell_type": "code",
   "execution_count": 19,
   "id": "c85904b3-734d-40f9-b07e-d34540fc4318",
   "metadata": {
    "execution": {
     "iopub.execute_input": "2025-07-30T18:33:19.293051Z",
     "iopub.status.busy": "2025-07-30T18:33:19.292939Z",
     "iopub.status.idle": "2025-07-30T18:33:22.216915Z",
     "shell.execute_reply": "2025-07-30T18:33:22.216474Z",
     "shell.execute_reply.started": "2025-07-30T18:33:19.293041Z"
    }
   },
   "outputs": [],
   "source": [
    "# Your code here to create a rotating animation\n",
    "\n",
    "my_plotter.produce_rotating_video(\"rotating_sphere.mp4\", fps=10, number_of_frames=60)"
   ]
  },
  {
   "cell_type": "markdown",
   "id": "2da9d9c0-1aff-4480-a25b-b7e62891c767",
   "metadata": {},
   "source": [
    "And now, let's take a look at the video we've produced."
   ]
  },
  {
   "cell_type": "code",
   "execution_count": 20,
   "id": "ef93a65f-ddf6-465c-9511-784cce7db85c",
   "metadata": {
    "execution": {
     "iopub.execute_input": "2025-07-30T18:33:22.217612Z",
     "iopub.status.busy": "2025-07-30T18:33:22.217487Z",
     "iopub.status.idle": "2025-07-30T18:33:22.220810Z",
     "shell.execute_reply": "2025-07-30T18:33:22.220483Z",
     "shell.execute_reply.started": "2025-07-30T18:33:22.217599Z"
    }
   },
   "outputs": [
    {
     "data": {
      "text/html": [
       "<video src=\"rotating_sphere.mp4\" loop autoplay controls  >\n",
       "      Your browser does not support the <code>video</code> element.\n",
       "    </video>"
      ],
      "text/plain": [
       "<IPython.core.display.Video object>"
      ]
     },
     "execution_count": 20,
     "metadata": {},
     "output_type": "execute_result"
    }
   ],
   "source": [
    "Video(\"rotating_sphere.mp4\", html_attributes=\"loop autoplay controls\")"
   ]
  },
  {
   "cell_type": "markdown",
   "id": "e5596852-54c7-4b9e-815a-162140e2c35f",
   "metadata": {},
   "source": [
    "We can now see the sphere rotating about its axis and examine the results more easily."
   ]
  },
  {
   "cell_type": "markdown",
   "id": "416383fd-a82f-409b-b92f-5b7d3d0b211f",
   "metadata": {},
   "source": [
    "## Orientation Filtering\n",
    "\n",
    "Looking at the orientation histogram, we see a bunch of spots. Thinking back to our data, what do these different spots represent?\n",
    "\n",
    "Well, our data consist of perfectly straight fibres in different orientations. So, it would stand to reason that the different bright spots correspond to fibres in different orientations.\n",
    "\n",
    "Wouldn't it be nice if we could manually select these different bright spots and then extract the corresponding vectors?\n",
    "\n",
    "Let's see how we can do this sort of **orientation filtering** with VectoRose."
   ]
  },
  {
   "cell_type": "markdown",
   "id": "ede8ef40-c6b2-4977-8fb1-437302ae256a",
   "metadata": {},
   "source": [
    "### Enabling Cell Picking\n",
    "\n",
    "The first thing we need to do is enable cell picking. We do this by setting the property [`cell_picking_active`](https://vectorose.readthedocs.io/en/latest/autoapi/vectorose/plotting/index.html#vectorose.plotting.SpherePlotter.cell_picking_active) to `True` on the `SpherePlotter`."
   ]
  },
  {
   "cell_type": "code",
   "execution_count": 21,
   "id": "6f77ef22-61e2-448d-8138-c191b73021c7",
   "metadata": {
    "execution": {
     "iopub.execute_input": "2025-07-30T18:33:22.221489Z",
     "iopub.status.busy": "2025-07-30T18:33:22.221344Z",
     "iopub.status.idle": "2025-07-30T18:33:22.223579Z",
     "shell.execute_reply": "2025-07-30T18:33:22.223223Z",
     "shell.execute_reply.started": "2025-07-30T18:33:22.221477Z"
    }
   },
   "outputs": [],
   "source": [
    "# Your code here to enable cell picking\n",
    "\n",
    "my_plotter.cell_picking_active = True"
   ]
  },
  {
   "cell_type": "markdown",
   "id": "1a8334ed-2d4c-46db-bf3c-de1d9eb74b99",
   "metadata": {},
   "source": [
    "Now, let's go back up to our sphere plotter. If we **right-click** on a face, we see that it becomes outlined in magenta. If we click again, the outline disappears.\n",
    "\n",
    "By right-clicking, we can select and deselect cells.\n",
    "\n",
    "> ⚠️ **Warning**\\\n",
    "> Don't forget, you must **right-click** to select cells.\n"
   ]
  },
  {
   "cell_type": "code",
   "execution_count": 22,
   "id": "92ef25ee-a2f8-427f-9b18-7d003e8b4e59",
   "metadata": {
    "execution": {
     "iopub.execute_input": "2025-07-30T18:33:22.224207Z",
     "iopub.status.busy": "2025-07-30T18:33:22.224068Z",
     "iopub.status.idle": "2025-07-30T18:33:22.380526Z",
     "shell.execute_reply": "2025-07-30T18:33:22.380208Z",
     "shell.execute_reply.started": "2025-07-30T18:33:22.224193Z"
    }
   },
   "outputs": [],
   "source": [
    "# Note, in this solutions notebook, we'll cheat and programmatically select the cells\n",
    "import pandas as pd\n",
    "selected_cells = pd.read_csv(\"case_study_1_selected_cells.csv\")\n",
    "my_plotter.pick_cells(selected_cells)"
   ]
  },
  {
   "cell_type": "markdown",
   "id": "4831dfdf-5bed-42d8-9a84-2143f61b2496",
   "metadata": {},
   "source": [
    "### Extracting Vectors from Picked Cells\n",
    "\n",
    "Choose a patch of faces that you are interested in exploring further. Select the cells by right-clicking. Now, we'll see how to extract the vectors that are only aligned with that orientation.\n",
    "\n",
    "The cells that we've selected are stored in the [`picked_cells`](https://vectorose.readthedocs.io/en/latest/autoapi/vectorose/plotting/index.html#vectorose.plotting.SpherePlotter.cell_picking_active) property of the `SpherePlotter`. Let's look at the cells we've selected."
   ]
  },
  {
   "cell_type": "code",
   "execution_count": 23,
   "id": "51d0e02d-8c4a-4473-b871-7346678a4d3d",
   "metadata": {
    "execution": {
     "iopub.execute_input": "2025-07-30T18:33:22.381078Z",
     "iopub.status.busy": "2025-07-30T18:33:22.380974Z",
     "iopub.status.idle": "2025-07-30T18:33:22.388299Z",
     "shell.execute_reply": "2025-07-30T18:33:22.387932Z",
     "shell.execute_reply.started": "2025-07-30T18:33:22.381067Z"
    }
   },
   "outputs": [
    {
     "data": {
      "text/html": [
       "<div>\n",
       "<style scoped>\n",
       "    .dataframe tbody tr th:only-of-type {\n",
       "        vertical-align: middle;\n",
       "    }\n",
       "\n",
       "    .dataframe tbody tr th {\n",
       "        vertical-align: top;\n",
       "    }\n",
       "\n",
       "    .dataframe thead th {\n",
       "        text-align: right;\n",
       "    }\n",
       "</style>\n",
       "<table border=\"1\" class=\"dataframe\">\n",
       "  <thead>\n",
       "    <tr style=\"text-align: right;\">\n",
       "      <th></th>\n",
       "      <th>bin</th>\n",
       "      <th>ring</th>\n",
       "      <th>frequency</th>\n",
       "      <th>Data</th>\n",
       "      <th>vtkOriginalCellIds</th>\n",
       "    </tr>\n",
       "  </thead>\n",
       "  <tbody>\n",
       "    <tr>\n",
       "      <th>0</th>\n",
       "      <td>2.0</td>\n",
       "      <td>17.0</td>\n",
       "      <td>0.002165</td>\n",
       "      <td>0.002165</td>\n",
       "      <td>1265.0</td>\n",
       "    </tr>\n",
       "    <tr>\n",
       "      <th>1</th>\n",
       "      <td>3.0</td>\n",
       "      <td>17.0</td>\n",
       "      <td>0.001710</td>\n",
       "      <td>0.001710</td>\n",
       "      <td>1266.0</td>\n",
       "    </tr>\n",
       "    <tr>\n",
       "      <th>2</th>\n",
       "      <td>3.0</td>\n",
       "      <td>18.0</td>\n",
       "      <td>0.002485</td>\n",
       "      <td>0.002485</td>\n",
       "      <td>1413.0</td>\n",
       "    </tr>\n",
       "    <tr>\n",
       "      <th>3</th>\n",
       "      <td>2.0</td>\n",
       "      <td>18.0</td>\n",
       "      <td>0.002271</td>\n",
       "      <td>0.002271</td>\n",
       "      <td>1412.0</td>\n",
       "    </tr>\n",
       "    <tr>\n",
       "      <th>4</th>\n",
       "      <td>4.0</td>\n",
       "      <td>17.0</td>\n",
       "      <td>0.000374</td>\n",
       "      <td>0.000374</td>\n",
       "      <td>1267.0</td>\n",
       "    </tr>\n",
       "    <tr>\n",
       "      <th>5</th>\n",
       "      <td>4.0</td>\n",
       "      <td>18.0</td>\n",
       "      <td>0.000428</td>\n",
       "      <td>0.000428</td>\n",
       "      <td>1414.0</td>\n",
       "    </tr>\n",
       "  </tbody>\n",
       "</table>\n",
       "</div>"
      ],
      "text/plain": [
       "   bin  ring  frequency      Data  vtkOriginalCellIds\n",
       "0  2.0  17.0   0.002165  0.002165              1265.0\n",
       "1  3.0  17.0   0.001710  0.001710              1266.0\n",
       "2  3.0  18.0   0.002485  0.002485              1413.0\n",
       "3  2.0  18.0   0.002271  0.002271              1412.0\n",
       "4  4.0  17.0   0.000374  0.000374              1267.0\n",
       "5  4.0  18.0   0.000428  0.000428              1414.0"
      ]
     },
     "execution_count": 23,
     "metadata": {},
     "output_type": "execute_result"
    }
   ],
   "source": [
    "# Your code here to get the selected cells\n",
    "\n",
    "selected_cells = my_plotter.picked_cells\n",
    "\n",
    "selected_cells"
   ]
  },
  {
   "cell_type": "markdown",
   "id": "832752eb-8878-4df9-b556-de4cf343cb55",
   "metadata": {},
   "source": [
    "So, we can see for each cell we've selected what the bin, ring and frequency are. Using our `FineTregenzaSphere`, we can extract the vectors falling in those bins using the method [`get_vectors_from_selected_cells`](https://vectorose.readthedocs.io/en/latest/autoapi/vectorose/sphere_base/index.html#vectorose.sphere_base.SphereBase.get_vectors_from_selected_cells)."
   ]
  },
  {
   "cell_type": "code",
   "execution_count": 24,
   "id": "c811b33c-947f-447e-8e30-52ce55efa899",
   "metadata": {
    "execution": {
     "iopub.execute_input": "2025-07-30T18:33:22.388914Z",
     "iopub.status.busy": "2025-07-30T18:33:22.388810Z",
     "iopub.status.idle": "2025-07-30T18:33:22.401056Z",
     "shell.execute_reply": "2025-07-30T18:33:22.400726Z",
     "shell.execute_reply.started": "2025-07-30T18:33:22.388903Z"
    }
   },
   "outputs": [
    {
     "data": {
      "text/html": [
       "<div>\n",
       "<style scoped>\n",
       "    .dataframe tbody tr th:only-of-type {\n",
       "        vertical-align: middle;\n",
       "    }\n",
       "\n",
       "    .dataframe tbody tr th {\n",
       "        vertical-align: top;\n",
       "    }\n",
       "\n",
       "    .dataframe thead th {\n",
       "        text-align: right;\n",
       "    }\n",
       "</style>\n",
       "<table border=\"1\" class=\"dataframe\">\n",
       "  <thead>\n",
       "    <tr style=\"text-align: right;\">\n",
       "      <th></th>\n",
       "      <th>x</th>\n",
       "      <th>y</th>\n",
       "      <th>z</th>\n",
       "      <th>phi</th>\n",
       "      <th>theta</th>\n",
       "      <th>magnitude</th>\n",
       "      <th>shell</th>\n",
       "      <th>ring</th>\n",
       "      <th>bin</th>\n",
       "    </tr>\n",
       "  </thead>\n",
       "  <tbody>\n",
       "    <tr>\n",
       "      <th>4375</th>\n",
       "      <td>0.000387</td>\n",
       "      <td>0.000007</td>\n",
       "      <td>0.000117</td>\n",
       "      <td>58.766588</td>\n",
       "      <td>7.128947</td>\n",
       "      <td>0.839519</td>\n",
       "      <td>0</td>\n",
       "      <td>17</td>\n",
       "      <td>2</td>\n",
       "    </tr>\n",
       "    <tr>\n",
       "      <th>4376</th>\n",
       "      <td>0.000382</td>\n",
       "      <td>0.000012</td>\n",
       "      <td>0.000117</td>\n",
       "      <td>56.520019</td>\n",
       "      <td>6.453820</td>\n",
       "      <td>0.816740</td>\n",
       "      <td>0</td>\n",
       "      <td>17</td>\n",
       "      <td>2</td>\n",
       "    </tr>\n",
       "    <tr>\n",
       "      <th>4569</th>\n",
       "      <td>0.000387</td>\n",
       "      <td>0.000017</td>\n",
       "      <td>0.000127</td>\n",
       "      <td>58.322349</td>\n",
       "      <td>7.272413</td>\n",
       "      <td>0.850816</td>\n",
       "      <td>0</td>\n",
       "      <td>17</td>\n",
       "      <td>2</td>\n",
       "    </tr>\n",
       "    <tr>\n",
       "      <th>4572</th>\n",
       "      <td>0.000387</td>\n",
       "      <td>0.000027</td>\n",
       "      <td>0.000127</td>\n",
       "      <td>58.141725</td>\n",
       "      <td>5.502851</td>\n",
       "      <td>0.788213</td>\n",
       "      <td>0</td>\n",
       "      <td>17</td>\n",
       "      <td>2</td>\n",
       "    </tr>\n",
       "    <tr>\n",
       "      <th>4796</th>\n",
       "      <td>0.000392</td>\n",
       "      <td>0.000037</td>\n",
       "      <td>0.000137</td>\n",
       "      <td>57.548939</td>\n",
       "      <td>6.751624</td>\n",
       "      <td>0.817688</td>\n",
       "      <td>0</td>\n",
       "      <td>17</td>\n",
       "      <td>2</td>\n",
       "    </tr>\n",
       "    <tr>\n",
       "      <th>...</th>\n",
       "      <td>...</td>\n",
       "      <td>...</td>\n",
       "      <td>...</td>\n",
       "      <td>...</td>\n",
       "      <td>...</td>\n",
       "      <td>...</td>\n",
       "      <td>...</td>\n",
       "      <td>...</td>\n",
       "      <td>...</td>\n",
       "    </tr>\n",
       "    <tr>\n",
       "      <th>9022</th>\n",
       "      <td>0.000417</td>\n",
       "      <td>0.000227</td>\n",
       "      <td>0.000252</td>\n",
       "      <td>59.377062</td>\n",
       "      <td>9.907766</td>\n",
       "      <td>0.793165</td>\n",
       "      <td>0</td>\n",
       "      <td>18</td>\n",
       "      <td>4</td>\n",
       "    </tr>\n",
       "    <tr>\n",
       "      <th>10962</th>\n",
       "      <td>0.000427</td>\n",
       "      <td>0.000297</td>\n",
       "      <td>0.000292</td>\n",
       "      <td>59.561131</td>\n",
       "      <td>11.195378</td>\n",
       "      <td>0.809060</td>\n",
       "      <td>0</td>\n",
       "      <td>18</td>\n",
       "      <td>4</td>\n",
       "    </tr>\n",
       "    <tr>\n",
       "      <th>11572</th>\n",
       "      <td>0.000427</td>\n",
       "      <td>0.000302</td>\n",
       "      <td>0.000302</td>\n",
       "      <td>59.358040</td>\n",
       "      <td>9.641356</td>\n",
       "      <td>0.858831</td>\n",
       "      <td>0</td>\n",
       "      <td>18</td>\n",
       "      <td>4</td>\n",
       "    </tr>\n",
       "    <tr>\n",
       "      <th>14630</th>\n",
       "      <td>0.000447</td>\n",
       "      <td>0.000432</td>\n",
       "      <td>0.000377</td>\n",
       "      <td>59.639438</td>\n",
       "      <td>11.495977</td>\n",
       "      <td>0.810854</td>\n",
       "      <td>0</td>\n",
       "      <td>18</td>\n",
       "      <td>4</td>\n",
       "    </tr>\n",
       "    <tr>\n",
       "      <th>14631</th>\n",
       "      <td>0.000447</td>\n",
       "      <td>0.000437</td>\n",
       "      <td>0.000377</td>\n",
       "      <td>59.910356</td>\n",
       "      <td>9.896130</td>\n",
       "      <td>0.805611</td>\n",
       "      <td>0</td>\n",
       "      <td>18</td>\n",
       "      <td>4</td>\n",
       "    </tr>\n",
       "  </tbody>\n",
       "</table>\n",
       "<p>353 rows × 9 columns</p>\n",
       "</div>"
      ],
      "text/plain": [
       "              x         y         z        phi      theta  magnitude  shell  \\\n",
       "4375   0.000387  0.000007  0.000117  58.766588   7.128947   0.839519      0   \n",
       "4376   0.000382  0.000012  0.000117  56.520019   6.453820   0.816740      0   \n",
       "4569   0.000387  0.000017  0.000127  58.322349   7.272413   0.850816      0   \n",
       "4572   0.000387  0.000027  0.000127  58.141725   5.502851   0.788213      0   \n",
       "4796   0.000392  0.000037  0.000137  57.548939   6.751624   0.817688      0   \n",
       "...         ...       ...       ...        ...        ...        ...    ...   \n",
       "9022   0.000417  0.000227  0.000252  59.377062   9.907766   0.793165      0   \n",
       "10962  0.000427  0.000297  0.000292  59.561131  11.195378   0.809060      0   \n",
       "11572  0.000427  0.000302  0.000302  59.358040   9.641356   0.858831      0   \n",
       "14630  0.000447  0.000432  0.000377  59.639438  11.495977   0.810854      0   \n",
       "14631  0.000447  0.000437  0.000377  59.910356   9.896130   0.805611      0   \n",
       "\n",
       "       ring  bin  \n",
       "4375     17    2  \n",
       "4376     17    2  \n",
       "4569     17    2  \n",
       "4572     17    2  \n",
       "4796     17    2  \n",
       "...     ...  ...  \n",
       "9022     18    4  \n",
       "10962    18    4  \n",
       "11572    18    4  \n",
       "14630    18    4  \n",
       "14631    18    4  \n",
       "\n",
       "[353 rows x 9 columns]"
      ]
     },
     "execution_count": 24,
     "metadata": {},
     "output_type": "execute_result"
    }
   ],
   "source": [
    "# Your code here to extract the vectors\n",
    "\n",
    "selected_vectors = my_sphere.get_vectors_from_selected_cells(labelled_vectors, selected_cells)\n",
    "\n",
    "selected_vectors"
   ]
  },
  {
   "cell_type": "markdown",
   "id": "9c300df8-c8cb-4495-80dd-5f7f0b728111",
   "metadata": {},
   "source": [
    "We can now see that there are much fewer vectors in our selected dataset. We can also use the locations to plot where these vectors lie in our dataset in 3D."
   ]
  },
  {
   "cell_type": "code",
   "execution_count": 25,
   "id": "1b571615-5a8e-43f4-abaa-b3f7411864f8",
   "metadata": {
    "execution": {
     "iopub.execute_input": "2025-07-30T18:33:22.401713Z",
     "iopub.status.busy": "2025-07-30T18:33:22.401554Z",
     "iopub.status.idle": "2025-07-30T18:33:22.828600Z",
     "shell.execute_reply": "2025-07-30T18:33:22.828148Z",
     "shell.execute_reply.started": "2025-07-30T18:33:22.401702Z"
    }
   },
   "outputs": [
    {
     "data": {
      "application/vnd.jupyter.widget-view+json": {
       "model_id": "cb2d927e664c46f2b8bc29f9d4f5220d",
       "version_major": 2,
       "version_minor": 0
      },
      "text/plain": [
       "Widget(value='<iframe src=\"http://localhost:57329/index.html?ui=P_0x14efff730_2&reconnect=auto\" class=\"pyvista…"
      ]
     },
     "metadata": {},
     "output_type": "display_data"
    }
   ],
   "source": [
    "mesh_plotter = pv.Plotter()\n",
    "mesh_plotter.add_mesh(mesh, opacity=0.5)\n",
    "\n",
    "vector_locations = selected_vectors[[\"x\", \"y\", \"z\"]].to_numpy()\n",
    "vector_locations_mesh = pv.PointSet(vector_locations)\n",
    "mesh_plotter.add_mesh(vector_locations_mesh, color=\"red\", render_points_as_spheres=True)\n",
    "mesh_plotter.show()"
   ]
  },
  {
   "cell_type": "markdown",
   "id": "a5f4c513-4025-4afb-b74e-31c192d263b0",
   "metadata": {},
   "source": [
    "We can now see that most of the vectors we've extracted are contained within a single fibre. So, for clean data, we can easily perform orientation filtering."
   ]
  },
  {
   "cell_type": "markdown",
   "id": "8ae48742-a205-4518-ac8f-c06d0992ece4",
   "metadata": {},
   "source": [
    "## Computing Directional Statistics\n",
    "\n",
    "So far, we've seen how to visualise collections of vectorial data. Spherical histograms give us a great way to quickly see how our data are distributed. However, sometimes, we want to put numbers on things. Let's start applying some directional statistics to our collection of orientation vectors."
   ]
  },
  {
   "cell_type": "markdown",
   "id": "174213d2-327e-4e2b-b038-2d28b87d4823",
   "metadata": {},
   "source": [
    "### Preparing Data for Statistical Analysis\n",
    "\n",
    "Before computing statistics, we need to get our data into the right format. We need to get the vector components in cartesian form. Since we are looking at statistics for pure orientations, we need to consider **unit vectors**. We also need to consider the original, **unduplicated** axes.\n",
    "\n",
    "We'll create a collection of unit vectors using the function [`vr.util.normalise_vectors`](https://vectorose.readthedocs.io/en/latest/autoapi/vectorose/util/index.html#vectorose.util.normalise_vectors)."
   ]
  },
  {
   "cell_type": "code",
   "execution_count": 26,
   "id": "29f70e31-eaea-4c30-a244-93b45b4afc8b",
   "metadata": {
    "execution": {
     "iopub.execute_input": "2025-07-30T18:33:22.829148Z",
     "iopub.status.busy": "2025-07-30T18:33:22.829035Z",
     "iopub.status.idle": "2025-07-30T18:33:22.833590Z",
     "shell.execute_reply": "2025-07-30T18:33:22.833300Z",
     "shell.execute_reply.started": "2025-07-30T18:33:22.829137Z"
    }
   },
   "outputs": [
    {
     "data": {
      "text/plain": [
       "array([[ 0.97978267, -0.18159547,  0.08395838],\n",
       "       [-0.83243731, -0.55407144,  0.00727725],\n",
       "       [ 0.00785035, -0.96934525,  0.24557719],\n",
       "       ...,\n",
       "       [ 0.51355999, -0.85086308,  0.11085193],\n",
       "       [ 0.75050343, -0.66027072,  0.02805684],\n",
       "       [ 0.83093968, -0.42497731,  0.35907316]], shape=(18711, 3))"
      ]
     },
     "execution_count": 26,
     "metadata": {},
     "output_type": "execute_result"
    }
   ],
   "source": [
    "# Your code here to get unit axes\n",
    "vector_components = vectors[:, 3:]\n",
    "unit_vectors, _ = vr.util.normalise_vectors(vector_components)\n",
    "\n",
    "unit_vectors"
   ]
  },
  {
   "cell_type": "markdown",
   "id": "f06a232e-1504-48fd-a9a5-f596740ff663",
   "metadata": {},
   "source": [
    "### Computing the Mean Resultant Vector\n",
    "\n",
    "We can compute a few different statistical measurements. Let's start with computing the mean resultant vector. We can do this using the function [`vr.stats.compute_resultant_vector`](https://vectorose.readthedocs.io/en/latest/autoapi/vectorose/stats/index.html#vectorose.stats.compute_resultant_vector)."
   ]
  },
  {
   "cell_type": "code",
   "execution_count": 27,
   "id": "2c00f83f-8e4d-46fb-9965-3a8ee94ae11e",
   "metadata": {
    "execution": {
     "iopub.execute_input": "2025-07-30T18:33:22.834138Z",
     "iopub.status.busy": "2025-07-30T18:33:22.834030Z",
     "iopub.status.idle": "2025-07-30T18:33:22.841254Z",
     "shell.execute_reply": "2025-07-30T18:33:22.840959Z",
     "shell.execute_reply.started": "2025-07-30T18:33:22.834127Z"
    }
   },
   "outputs": [
    {
     "name": "stdout",
     "output_type": "stream",
     "text": [
      "Mean resultant vector has magnitude 0.3848457016791921 and orientation [  4.47785244 272.36840552].\n"
     ]
    }
   ],
   "source": [
    "# Your code here to compute the mean resultant vector\n",
    "\n",
    "resultant_vector = vr.stats.compute_resultant_vector(unit_vectors, compute_mean_resultant=True)\n",
    "\n",
    "resultant_vector_spherical = vr.util.compute_spherical_coordinates(resultant_vector, use_degrees=True)\n",
    "\n",
    "print(f\"Mean resultant vector has magnitude {resultant_vector[-1]}\"\n",
    "      f\" and orientation {resultant_vector_spherical[:2]}.\")"
   ]
  },
  {
   "cell_type": "markdown",
   "id": "85bf746d-bef8-4462-9085-e6ec2a0a41da",
   "metadata": {},
   "source": [
    "We can now see that the mean resultant vector has a fairly short length. This makes sense, given the diverse fibre orientations.\n",
    "\n",
    "The orientation is fairly close to the sphere pole (think about just how close 4.5° is to the pole). This also makes sense. We're considering **orientations**, not directions, so all our vectors are in the upper hemisphere. So, the **Z**-components can't cancel each other out."
   ]
  },
  {
   "cell_type": "markdown",
   "id": "320016a5-3b12-4b51-b9fd-9dec9ab60be2",
   "metadata": {},
   "source": [
    "### Computing Woodcock's Shape and Strength Parameters\n",
    "\n",
    "The mean resultant vector gives us a quick way to assess the level of coalignment of the vectors. But if we want a clearer picture of the overall shape of the distribution, we can compute the **orientation matrix** and Woodcock's **shape and strength parameters** based on the orientation matrix eigenvalues.\n",
    "\n",
    "We can first compute the orientation matrix eigen-decomposition by calling the function [`vr.stats.compute_orientation_matrix_eigs`](https://vectorose.readthedocs.io/en/latest/autoapi/vectorose/stats/index.html#vectorose.stats.compute_orientation_matrix_eigs). Then, we can compute the shape and strength parameters by calling the function [`compute_orientation_matrix_parameters`](https://vectorose.readthedocs.io/en/latest/autoapi/vectorose/stats/index.html#vectorose.stats.compute_orientation_matrix_parameters).\n",
    "\n",
    "Let's see how to do it:"
   ]
  },
  {
   "cell_type": "code",
   "execution_count": 28,
   "id": "da1397ca-212b-42a8-b07c-0dc4f01520e6",
   "metadata": {
    "execution": {
     "iopub.execute_input": "2025-07-30T18:33:22.841850Z",
     "iopub.status.busy": "2025-07-30T18:33:22.841737Z",
     "iopub.status.idle": "2025-07-30T18:33:22.849896Z",
     "shell.execute_reply": "2025-07-30T18:33:22.849617Z",
     "shell.execute_reply.started": "2025-07-30T18:33:22.841839Z"
    }
   },
   "outputs": [
    {
     "name": "stdout",
     "output_type": "stream",
     "text": [
      "Strength parameter: 0.6549086394198407\n",
      "Shape parameter: 1.7445991587671679\n"
     ]
    }
   ],
   "source": [
    "# Your code here to compute Woodcock's shape and strength parameters\n",
    "eigs, _ = vr.stats.compute_orientation_matrix_eigs(unit_vectors)\n",
    "params = vr.stats.compute_orientation_matrix_parameters(eigs)\n",
    "\n",
    "print(f\"Strength parameter: {params.strength_parameter}\")\n",
    "print(f\"Shape parameter: {params.shape_parameter}\")"
   ]
  },
  {
   "cell_type": "markdown",
   "id": "60032411-def0-4140-a046-4ef9a51ec398",
   "metadata": {},
   "source": [
    "The strength parameter is quite low, indicating that the distribution is fairly uniform.\n",
    "\n",
    "Let's try doing the same thing, but with the vectors we extracted for a single fibre. To convert these to unit vectors, we'll use a different approach. We can convert the filtered vectors `DataFrame` to an array containing unit vectors using the [`convert_vectors_to_cartesian_array`](https://vectorose.readthedocs.io/en/latest/autoapi/vectorose/sphere_base/index.html#vectorose.sphere_base.SphereBase.convert_vectors_to_cartesian_array) method of our sphere representation."
   ]
  },
  {
   "cell_type": "code",
   "execution_count": 29,
   "id": "f72e9b60-4f30-4993-b186-6140616536cb",
   "metadata": {
    "execution": {
     "iopub.execute_input": "2025-07-30T18:33:22.850481Z",
     "iopub.status.busy": "2025-07-30T18:33:22.850358Z",
     "iopub.status.idle": "2025-07-30T18:33:22.853479Z",
     "shell.execute_reply": "2025-07-30T18:33:22.853124Z",
     "shell.execute_reply.started": "2025-07-30T18:33:22.850470Z"
    }
   },
   "outputs": [
    {
     "name": "stdout",
     "output_type": "stream",
     "text": [
      "Strength parameter: 7.959806060015406\n",
      "Shape parameter: 23.60253873615821\n"
     ]
    }
   ],
   "source": [
    "unit_filtered_vectors = my_sphere.convert_vectors_to_cartesian_array(\n",
    "    selected_vectors, create_unit_vectors=True\n",
    ")\n",
    "\n",
    "eigs, _ = vr.stats.compute_orientation_matrix_eigs(unit_filtered_vectors)\n",
    "params = vr.stats.compute_orientation_matrix_parameters(eigs)\n",
    "\n",
    "print(f\"Strength parameter: {params.strength_parameter}\")\n",
    "print(f\"Shape parameter: {params.shape_parameter}\")"
   ]
  },
  {
   "cell_type": "markdown",
   "id": "a655400d-1412-43ef-bf30-6609e7301dd3",
   "metadata": {},
   "source": [
    "So, when we look within a narrow window, we get a very strong cluster at a single location.\n",
    "\n",
    "So... What else can we do with these filtered vectors?"
   ]
  },
  {
   "cell_type": "markdown",
   "id": "36dc372c-6be6-4b6f-8396-bb3ecca5cf22",
   "metadata": {},
   "source": [
    "### Estimating VMF Parameters\n",
    "\n",
    "Well, since we have vectors around a single direction, we could estimate the parameters for a von Mises-Fisher distribution. Recall that this distribution is similar to the Gaussian distribution. We have two parameters:\n",
    "\n",
    "* $\\mu$ - the mean direction\n",
    "* $\\kappa$ - the concentration parameter (higher = more compact cluster)\n",
    "\n",
    "In VectoRose, we can estimate these parameters using the function [`vr.stats.fit_fisher_vonmises_distribution`](https://vectorose.readthedocs.io/en/latest/autoapi/vectorose/stats/index.html#vectorose.stats.fit_fisher_vonmises_distribution). Let's do this for our original data and for our filtered data."
   ]
  },
  {
   "cell_type": "code",
   "execution_count": 30,
   "id": "ee174226-b5ad-4528-8671-b05d236b5fa1",
   "metadata": {
    "execution": {
     "iopub.execute_input": "2025-07-30T18:33:22.854131Z",
     "iopub.status.busy": "2025-07-30T18:33:22.853957Z",
     "iopub.status.idle": "2025-07-30T18:33:22.857556Z",
     "shell.execute_reply": "2025-07-30T18:33:22.857254Z",
     "shell.execute_reply.started": "2025-07-30T18:33:22.854119Z"
    }
   },
   "outputs": [
    {
     "name": "stdout",
     "output_type": "stream",
     "text": [
      "The original dataset has mu=[-0.07800704  0.00322637  0.99694759] and kappa=1.2788314390139088.\n"
     ]
    }
   ],
   "source": [
    "# Your code here to compute the VMF parameters for original data\n",
    "vmf_parameters = vr.stats.fit_fisher_vonmises_distribution(unit_vectors)\n",
    "\n",
    "print(f\"The original dataset has mu={vmf_parameters.mu} and kappa={vmf_parameters.kappa}.\")"
   ]
  },
  {
   "cell_type": "code",
   "execution_count": 31,
   "id": "aa63196a-54e7-4024-8c2f-911d64259c82",
   "metadata": {
    "execution": {
     "iopub.execute_input": "2025-07-30T18:33:22.858088Z",
     "iopub.status.busy": "2025-07-30T18:33:22.857991Z",
     "iopub.status.idle": "2025-07-30T18:33:22.861173Z",
     "shell.execute_reply": "2025-07-30T18:33:22.860833Z",
     "shell.execute_reply.started": "2025-07-30T18:33:22.858077Z"
    }
   },
   "outputs": [
    {
     "name": "stdout",
     "output_type": "stream",
     "text": [
      "The original dataset has mu=[0.11393334 0.8508583  0.51289311] and kappa=2405.335625397555.\n"
     ]
    }
   ],
   "source": [
    "# Your code here to compute the VMF parameters for the filtered data\n",
    "vmf_parameters_filtered = vr.stats.fit_fisher_vonmises_distribution(unit_filtered_vectors)\n",
    "\n",
    "print(f\"The original dataset has mu={vmf_parameters_filtered.mu} and kappa={vmf_parameters_filtered.kappa}.\")"
   ]
  },
  {
   "cell_type": "markdown",
   "id": "8843e320-1ca5-48be-ab13-1996d9bc4c04",
   "metadata": {},
   "source": [
    "These results shouldn't be very surprising.\n",
    "\n",
    "Since we have fibres aligned in many different orientations, we get a very low concentration parameter in the first example.\n",
    "\n",
    "Since we then selected vectors that are very closely aligned with each other, it makes sense that the concentration parameter is much higher.\n",
    "\n",
    "> ⚠️ **Warning**\\\n",
    "> This was an artificial example just to demonstrate differences in the results. In practice, doing a calculation like this introduces **bias** into your dataset. We knew *a priori* that we would get a high concentration parameter simply by virtue of selecting vectors that are co-aligned in a small neighbourhood. Think very carefully about your statistical workflow and whether fitlering will unnecessarily bias your results.\n",
    "\n",
    "\n",
    "There are other statistical routines implemented in VectoRose. Make sure to check out the documentation for the [`vr.stats`](https://vectorose.readthedocs.io/en/latest/autoapi/vectorose/stats/index.html) module, as well as the [Users' Guide](https://vectorose.readthedocs.io/en/latest/users_guide/statistics.html) page on statistics."
   ]
  },
  {
   "cell_type": "markdown",
   "id": "130af8b4-638b-45e6-9187-4b7918df79c3",
   "metadata": {},
   "source": [
    "## Polar Plotting (Optional)\n",
    "\n",
    "Up until now, we've been focussing on looking at orientation in 3D. But, sometimes, you may want to look at the orientation a bit differently...\n",
    "\n",
    "Orientation in 3D can be defined in two different ways:\n",
    "\n",
    "* Cartesian coordinates: the familiar *x*, *y*, *z* system\n",
    "* Spherical coordinates: a length (*r*) and two angles ($\\phi$, $\\theta$)\n",
    "\n",
    "These two angles represent different aspects of the orientation:\n",
    "\n",
    "* $\\phi$ - the **angle of inclination**, measured downwards from the positive *z*-axis (0°) to the *xy*-plane (90°, for axial data) or the negative *z*-axis (180°, for vectorial data).\n",
    "* $\\theta$ - the **azimuthal angle**, measured in the *xy*-plane as the clockwise angle from the positive *y*-axis (0° and 360°).\n",
    "\n",
    "While these two angles are used to define orientations in 3D, we can also construct **polar histograms** of each angle separately. In VectoRose, most of the heavy lifting is done by the [`vr.polar_data`](https://vectorose.readthedocs.io/en/latest/autoapi/vectorose/polar_data/index.html) module.\n",
    "\n",
    "We'll see how to assign vectors to angular bins and then how to visualise the resulting polar histograms."
   ]
  },
  {
   "cell_type": "markdown",
   "id": "7f9eb99a-8d95-4165-bf29-1de239230b96",
   "metadata": {},
   "source": [
    "### Assigning Polar Histogram Bins\n",
    "\n",
    "To assign polar histogram bins, we need to create a [`PolarDiscretiser`](https://vectorose.readthedocs.io/en/latest/autoapi/vectorose/polar_data/index.html#vectorose.polar_data.PolarDiscretiser). Similar to our `FineTregenzaSphere` from earlier, this object is responsible for labelling vectors and computing histograms. Based on the documentation, we need to provide:\n",
    "\n",
    "* the number of bins we want for the $\\phi$ histogram\n",
    "* the number of bins we want for the $\\theta$ histogram\n",
    "* an indication of whether the data are axial\n",
    "\n",
    "Let's now create a `PolarDiscretiser` for our simulated fibre data. We'll set there to be 10 bins along the $\\phi$ axis and 36 bins along the $\\theta$ axis, so that our bins each contain 10 degrees.\n",
    "\n",
    "> ⚠️ **Attention**\\\n",
    "> For technical reasons, we need an extra bin in the $\\phi$ axis to account for any vectors that are perfectly aligned with the last bin edge. Though this may be rare in real-world data, it can occur in simulated vectors.\n"
   ]
  },
  {
   "cell_type": "code",
   "execution_count": 32,
   "id": "02700234-4531-4cc9-b866-7f391abc6e03",
   "metadata": {
    "execution": {
     "iopub.execute_input": "2025-07-30T18:33:22.861749Z",
     "iopub.status.busy": "2025-07-30T18:33:22.861637Z",
     "iopub.status.idle": "2025-07-30T18:33:22.863984Z",
     "shell.execute_reply": "2025-07-30T18:33:22.863638Z",
     "shell.execute_reply.started": "2025-07-30T18:33:22.861738Z"
    }
   },
   "outputs": [],
   "source": [
    "# Your code here to construct a polar discretiser\n",
    "\n",
    "polar_discretiser = vr.polar_data.PolarDiscretiser(10, 36, True)"
   ]
  },
  {
   "cell_type": "markdown",
   "id": "6b40082e-e467-4c77-86c3-5dd015627b17",
   "metadata": {},
   "source": [
    "Now, like with our Tregenza sphere earlier, we can use the method [`assign_histogram_bins`](https://vectorose.readthedocs.io/en/latest/autoapi/vectorose/polar_data/index.html#vectorose.polar_data.PolarDiscretiser.assign_histogram_bins). Unlike when working with the 3D spherical plots, we will work with the **unduplicated axes**."
   ]
  },
  {
   "cell_type": "code",
   "execution_count": 33,
   "id": "9694c3b2-b397-4403-b0e3-808bdf5e0d1c",
   "metadata": {
    "execution": {
     "iopub.execute_input": "2025-07-30T18:33:22.864548Z",
     "iopub.status.busy": "2025-07-30T18:33:22.864441Z",
     "iopub.status.idle": "2025-07-30T18:33:22.872761Z",
     "shell.execute_reply": "2025-07-30T18:33:22.872460Z",
     "shell.execute_reply.started": "2025-07-30T18:33:22.864537Z"
    }
   },
   "outputs": [
    {
     "data": {
      "text/html": [
       "<div>\n",
       "<style scoped>\n",
       "    .dataframe tbody tr th:only-of-type {\n",
       "        vertical-align: middle;\n",
       "    }\n",
       "\n",
       "    .dataframe tbody tr th {\n",
       "        vertical-align: top;\n",
       "    }\n",
       "\n",
       "    .dataframe thead th {\n",
       "        text-align: right;\n",
       "    }\n",
       "</style>\n",
       "<table border=\"1\" class=\"dataframe\">\n",
       "  <thead>\n",
       "    <tr style=\"text-align: right;\">\n",
       "      <th></th>\n",
       "      <th>x</th>\n",
       "      <th>y</th>\n",
       "      <th>z</th>\n",
       "      <th>vx</th>\n",
       "      <th>vy</th>\n",
       "      <th>vz</th>\n",
       "      <th>phi</th>\n",
       "      <th>theta</th>\n",
       "      <th>magnitude</th>\n",
       "      <th>phi_bin</th>\n",
       "      <th>theta_bin</th>\n",
       "    </tr>\n",
       "  </thead>\n",
       "  <tbody>\n",
       "    <tr>\n",
       "      <th>0</th>\n",
       "      <td>0.000217</td>\n",
       "      <td>0.000007</td>\n",
       "      <td>0.000002</td>\n",
       "      <td>0.673993</td>\n",
       "      <td>-0.124920</td>\n",
       "      <td>0.057755</td>\n",
       "      <td>85.183870</td>\n",
       "      <td>100.500197</td>\n",
       "      <td>0.687901</td>\n",
       "      <td>8</td>\n",
       "      <td>10</td>\n",
       "    </tr>\n",
       "    <tr>\n",
       "      <th>1</th>\n",
       "      <td>0.000217</td>\n",
       "      <td>0.000012</td>\n",
       "      <td>0.000002</td>\n",
       "      <td>-0.759396</td>\n",
       "      <td>-0.505455</td>\n",
       "      <td>0.006639</td>\n",
       "      <td>89.583041</td>\n",
       "      <td>236.352208</td>\n",
       "      <td>0.912256</td>\n",
       "      <td>8</td>\n",
       "      <td>23</td>\n",
       "    </tr>\n",
       "    <tr>\n",
       "      <th>2</th>\n",
       "      <td>0.000222</td>\n",
       "      <td>0.000012</td>\n",
       "      <td>0.000002</td>\n",
       "      <td>0.003936</td>\n",
       "      <td>-0.486057</td>\n",
       "      <td>0.123139</td>\n",
       "      <td>75.784054</td>\n",
       "      <td>179.535994</td>\n",
       "      <td>0.501428</td>\n",
       "      <td>7</td>\n",
       "      <td>17</td>\n",
       "    </tr>\n",
       "    <tr>\n",
       "      <th>3</th>\n",
       "      <td>0.000227</td>\n",
       "      <td>0.000012</td>\n",
       "      <td>0.000002</td>\n",
       "      <td>-0.683302</td>\n",
       "      <td>-0.449688</td>\n",
       "      <td>0.253314</td>\n",
       "      <td>72.793514</td>\n",
       "      <td>236.650681</td>\n",
       "      <td>0.856323</td>\n",
       "      <td>7</td>\n",
       "      <td>23</td>\n",
       "    </tr>\n",
       "    <tr>\n",
       "      <th>4</th>\n",
       "      <td>0.000227</td>\n",
       "      <td>0.000017</td>\n",
       "      <td>0.000002</td>\n",
       "      <td>-0.607527</td>\n",
       "      <td>-0.519356</td>\n",
       "      <td>0.187796</td>\n",
       "      <td>76.777555</td>\n",
       "      <td>229.473854</td>\n",
       "      <td>0.821028</td>\n",
       "      <td>7</td>\n",
       "      <td>22</td>\n",
       "    </tr>\n",
       "    <tr>\n",
       "      <th>...</th>\n",
       "      <td>...</td>\n",
       "      <td>...</td>\n",
       "      <td>...</td>\n",
       "      <td>...</td>\n",
       "      <td>...</td>\n",
       "      <td>...</td>\n",
       "      <td>...</td>\n",
       "      <td>...</td>\n",
       "      <td>...</td>\n",
       "      <td>...</td>\n",
       "      <td>...</td>\n",
       "    </tr>\n",
       "    <tr>\n",
       "      <th>18706</th>\n",
       "      <td>0.000167</td>\n",
       "      <td>0.000487</td>\n",
       "      <td>0.000497</td>\n",
       "      <td>0.614173</td>\n",
       "      <td>-0.327743</td>\n",
       "      <td>0.038292</td>\n",
       "      <td>86.851604</td>\n",
       "      <td>118.085863</td>\n",
       "      <td>0.697202</td>\n",
       "      <td>8</td>\n",
       "      <td>11</td>\n",
       "    </tr>\n",
       "    <tr>\n",
       "      <th>18707</th>\n",
       "      <td>0.000172</td>\n",
       "      <td>0.000487</td>\n",
       "      <td>0.000497</td>\n",
       "      <td>-0.044359</td>\n",
       "      <td>-0.658515</td>\n",
       "      <td>0.049565</td>\n",
       "      <td>85.705285</td>\n",
       "      <td>183.853788</td>\n",
       "      <td>0.661866</td>\n",
       "      <td>8</td>\n",
       "      <td>18</td>\n",
       "    </tr>\n",
       "    <tr>\n",
       "      <th>18708</th>\n",
       "      <td>0.000162</td>\n",
       "      <td>0.000492</td>\n",
       "      <td>0.000497</td>\n",
       "      <td>0.381766</td>\n",
       "      <td>-0.632508</td>\n",
       "      <td>0.082404</td>\n",
       "      <td>83.635572</td>\n",
       "      <td>148.885854</td>\n",
       "      <td>0.743372</td>\n",
       "      <td>8</td>\n",
       "      <td>14</td>\n",
       "    </tr>\n",
       "    <tr>\n",
       "      <th>18709</th>\n",
       "      <td>0.000167</td>\n",
       "      <td>0.000492</td>\n",
       "      <td>0.000497</td>\n",
       "      <td>0.529864</td>\n",
       "      <td>-0.466158</td>\n",
       "      <td>0.019808</td>\n",
       "      <td>88.392251</td>\n",
       "      <td>131.340363</td>\n",
       "      <td>0.706011</td>\n",
       "      <td>8</td>\n",
       "      <td>13</td>\n",
       "    </tr>\n",
       "    <tr>\n",
       "      <th>18710</th>\n",
       "      <td>0.000162</td>\n",
       "      <td>0.000497</td>\n",
       "      <td>0.000497</td>\n",
       "      <td>0.654520</td>\n",
       "      <td>-0.334749</td>\n",
       "      <td>0.282837</td>\n",
       "      <td>68.956713</td>\n",
       "      <td>117.087102</td>\n",
       "      <td>0.787686</td>\n",
       "      <td>6</td>\n",
       "      <td>11</td>\n",
       "    </tr>\n",
       "  </tbody>\n",
       "</table>\n",
       "<p>18711 rows × 11 columns</p>\n",
       "</div>"
      ],
      "text/plain": [
       "              x         y         z        vx        vy        vz        phi  \\\n",
       "0      0.000217  0.000007  0.000002  0.673993 -0.124920  0.057755  85.183870   \n",
       "1      0.000217  0.000012  0.000002 -0.759396 -0.505455  0.006639  89.583041   \n",
       "2      0.000222  0.000012  0.000002  0.003936 -0.486057  0.123139  75.784054   \n",
       "3      0.000227  0.000012  0.000002 -0.683302 -0.449688  0.253314  72.793514   \n",
       "4      0.000227  0.000017  0.000002 -0.607527 -0.519356  0.187796  76.777555   \n",
       "...         ...       ...       ...       ...       ...       ...        ...   \n",
       "18706  0.000167  0.000487  0.000497  0.614173 -0.327743  0.038292  86.851604   \n",
       "18707  0.000172  0.000487  0.000497 -0.044359 -0.658515  0.049565  85.705285   \n",
       "18708  0.000162  0.000492  0.000497  0.381766 -0.632508  0.082404  83.635572   \n",
       "18709  0.000167  0.000492  0.000497  0.529864 -0.466158  0.019808  88.392251   \n",
       "18710  0.000162  0.000497  0.000497  0.654520 -0.334749  0.282837  68.956713   \n",
       "\n",
       "            theta  magnitude  phi_bin  theta_bin  \n",
       "0      100.500197   0.687901        8         10  \n",
       "1      236.352208   0.912256        8         23  \n",
       "2      179.535994   0.501428        7         17  \n",
       "3      236.650681   0.856323        7         23  \n",
       "4      229.473854   0.821028        7         22  \n",
       "...           ...        ...      ...        ...  \n",
       "18706  118.085863   0.697202        8         11  \n",
       "18707  183.853788   0.661866        8         18  \n",
       "18708  148.885854   0.743372        8         14  \n",
       "18709  131.340363   0.706011        8         13  \n",
       "18710  117.087102   0.787686        6         11  \n",
       "\n",
       "[18711 rows x 11 columns]"
      ]
     },
     "execution_count": 33,
     "metadata": {},
     "output_type": "execute_result"
    }
   ],
   "source": [
    "# Your code here to assign bins to the vectors\n",
    "\n",
    "labelled_polar_vectors = polar_discretiser.assign_histogram_bins(vectors)\n",
    "\n",
    "labelled_polar_vectors"
   ]
  },
  {
   "cell_type": "markdown",
   "id": "5c26e456-51d7-466f-87be-50c4ba5281ce",
   "metadata": {},
   "source": [
    "Like before, we now have a `DataFrame` containing the vectors and their associated bins."
   ]
  },
  {
   "cell_type": "markdown",
   "id": "09f38453-031f-460a-8a7c-f022bffb7508",
   "metadata": {},
   "source": [
    "### Computing Polar Histograms\n",
    "\n",
    "We can now gather the bin information and construct $\\phi$ and $\\theta$ histograms using the `PolarDiscretiser` methods [`construct_phi_histogram`](https://vectorose.readthedocs.io/en/latest/autoapi/vectorose/polar_data/index.html#vectorose.polar_data.PolarDiscretiser.construct_phi_histogram) and [`construct_theta_histogram`](https://vectorose.readthedocs.io/en/latest/autoapi/vectorose/polar_data/index.html#vectorose.polar_data.PolarDiscretiser.construct_theta_histogram)."
   ]
  },
  {
   "cell_type": "code",
   "execution_count": 34,
   "id": "2465c5a1-b8d9-4a54-b8b9-04d2156a2875",
   "metadata": {
    "execution": {
     "iopub.execute_input": "2025-07-30T18:33:22.873417Z",
     "iopub.status.busy": "2025-07-30T18:33:22.873258Z",
     "iopub.status.idle": "2025-07-30T18:33:22.880224Z",
     "shell.execute_reply": "2025-07-30T18:33:22.879890Z",
     "shell.execute_reply.started": "2025-07-30T18:33:22.873405Z"
    }
   },
   "outputs": [
    {
     "data": {
      "text/html": [
       "<div>\n",
       "<style scoped>\n",
       "    .dataframe tbody tr th:only-of-type {\n",
       "        vertical-align: middle;\n",
       "    }\n",
       "\n",
       "    .dataframe tbody tr th {\n",
       "        vertical-align: top;\n",
       "    }\n",
       "\n",
       "    .dataframe thead th {\n",
       "        text-align: right;\n",
       "    }\n",
       "</style>\n",
       "<table border=\"1\" class=\"dataframe\">\n",
       "  <thead>\n",
       "    <tr style=\"text-align: right;\">\n",
       "      <th></th>\n",
       "      <th>start</th>\n",
       "      <th>end</th>\n",
       "      <th>count</th>\n",
       "      <th>frequency</th>\n",
       "    </tr>\n",
       "  </thead>\n",
       "  <tbody>\n",
       "    <tr>\n",
       "      <th>0</th>\n",
       "      <td>0.0</td>\n",
       "      <td>10.0</td>\n",
       "      <td>350</td>\n",
       "      <td>0.018706</td>\n",
       "    </tr>\n",
       "    <tr>\n",
       "      <th>1</th>\n",
       "      <td>10.0</td>\n",
       "      <td>20.0</td>\n",
       "      <td>125</td>\n",
       "      <td>0.006681</td>\n",
       "    </tr>\n",
       "    <tr>\n",
       "      <th>2</th>\n",
       "      <td>20.0</td>\n",
       "      <td>30.0</td>\n",
       "      <td>905</td>\n",
       "      <td>0.048367</td>\n",
       "    </tr>\n",
       "    <tr>\n",
       "      <th>3</th>\n",
       "      <td>30.0</td>\n",
       "      <td>40.0</td>\n",
       "      <td>1530</td>\n",
       "      <td>0.081770</td>\n",
       "    </tr>\n",
       "    <tr>\n",
       "      <th>4</th>\n",
       "      <td>40.0</td>\n",
       "      <td>50.0</td>\n",
       "      <td>1508</td>\n",
       "      <td>0.080594</td>\n",
       "    </tr>\n",
       "    <tr>\n",
       "      <th>5</th>\n",
       "      <td>50.0</td>\n",
       "      <td>60.0</td>\n",
       "      <td>2614</td>\n",
       "      <td>0.139704</td>\n",
       "    </tr>\n",
       "    <tr>\n",
       "      <th>6</th>\n",
       "      <td>60.0</td>\n",
       "      <td>70.0</td>\n",
       "      <td>2680</td>\n",
       "      <td>0.143231</td>\n",
       "    </tr>\n",
       "    <tr>\n",
       "      <th>7</th>\n",
       "      <td>70.0</td>\n",
       "      <td>80.0</td>\n",
       "      <td>1843</td>\n",
       "      <td>0.098498</td>\n",
       "    </tr>\n",
       "    <tr>\n",
       "      <th>8</th>\n",
       "      <td>80.0</td>\n",
       "      <td>90.0</td>\n",
       "      <td>6973</td>\n",
       "      <td>0.372668</td>\n",
       "    </tr>\n",
       "    <tr>\n",
       "      <th>9</th>\n",
       "      <td>90.0</td>\n",
       "      <td>100.0</td>\n",
       "      <td>183</td>\n",
       "      <td>0.009780</td>\n",
       "    </tr>\n",
       "  </tbody>\n",
       "</table>\n",
       "</div>"
      ],
      "text/plain": [
       "   start    end  count  frequency\n",
       "0    0.0   10.0    350   0.018706\n",
       "1   10.0   20.0    125   0.006681\n",
       "2   20.0   30.0    905   0.048367\n",
       "3   30.0   40.0   1530   0.081770\n",
       "4   40.0   50.0   1508   0.080594\n",
       "5   50.0   60.0   2614   0.139704\n",
       "6   60.0   70.0   2680   0.143231\n",
       "7   70.0   80.0   1843   0.098498\n",
       "8   80.0   90.0   6973   0.372668\n",
       "9   90.0  100.0    183   0.009780"
      ]
     },
     "execution_count": 34,
     "metadata": {},
     "output_type": "execute_result"
    }
   ],
   "source": [
    "# Your code here to construct the phi histogram\n",
    "\n",
    "phi_histogram = polar_discretiser.construct_phi_histogram(labelled_polar_vectors)\n",
    "\n",
    "phi_histogram"
   ]
  },
  {
   "cell_type": "code",
   "execution_count": 35,
   "id": "e89bd9f6-116a-4cb1-974b-316f7688879e",
   "metadata": {
    "execution": {
     "iopub.execute_input": "2025-07-30T18:33:22.880811Z",
     "iopub.status.busy": "2025-07-30T18:33:22.880709Z",
     "iopub.status.idle": "2025-07-30T18:33:22.889915Z",
     "shell.execute_reply": "2025-07-30T18:33:22.889621Z",
     "shell.execute_reply.started": "2025-07-30T18:33:22.880801Z"
    }
   },
   "outputs": [
    {
     "data": {
      "text/html": [
       "<div>\n",
       "<style scoped>\n",
       "    .dataframe tbody tr th:only-of-type {\n",
       "        vertical-align: middle;\n",
       "    }\n",
       "\n",
       "    .dataframe tbody tr th {\n",
       "        vertical-align: top;\n",
       "    }\n",
       "\n",
       "    .dataframe thead th {\n",
       "        text-align: right;\n",
       "    }\n",
       "</style>\n",
       "<table border=\"1\" class=\"dataframe\">\n",
       "  <thead>\n",
       "    <tr style=\"text-align: right;\">\n",
       "      <th></th>\n",
       "      <th>start</th>\n",
       "      <th>end</th>\n",
       "      <th>count</th>\n",
       "      <th>frequency</th>\n",
       "    </tr>\n",
       "  </thead>\n",
       "  <tbody>\n",
       "    <tr>\n",
       "      <th>0</th>\n",
       "      <td>0.0</td>\n",
       "      <td>10.0</td>\n",
       "      <td>573</td>\n",
       "      <td>0.030624</td>\n",
       "    </tr>\n",
       "    <tr>\n",
       "      <th>1</th>\n",
       "      <td>10.0</td>\n",
       "      <td>20.0</td>\n",
       "      <td>390</td>\n",
       "      <td>0.020843</td>\n",
       "    </tr>\n",
       "    <tr>\n",
       "      <th>2</th>\n",
       "      <td>20.0</td>\n",
       "      <td>30.0</td>\n",
       "      <td>371</td>\n",
       "      <td>0.019828</td>\n",
       "    </tr>\n",
       "    <tr>\n",
       "      <th>3</th>\n",
       "      <td>30.0</td>\n",
       "      <td>40.0</td>\n",
       "      <td>266</td>\n",
       "      <td>0.014216</td>\n",
       "    </tr>\n",
       "    <tr>\n",
       "      <th>4</th>\n",
       "      <td>40.0</td>\n",
       "      <td>50.0</td>\n",
       "      <td>781</td>\n",
       "      <td>0.041740</td>\n",
       "    </tr>\n",
       "    <tr>\n",
       "      <th>5</th>\n",
       "      <td>50.0</td>\n",
       "      <td>60.0</td>\n",
       "      <td>1415</td>\n",
       "      <td>0.075624</td>\n",
       "    </tr>\n",
       "    <tr>\n",
       "      <th>6</th>\n",
       "      <td>60.0</td>\n",
       "      <td>70.0</td>\n",
       "      <td>156</td>\n",
       "      <td>0.008337</td>\n",
       "    </tr>\n",
       "    <tr>\n",
       "      <th>7</th>\n",
       "      <td>70.0</td>\n",
       "      <td>80.0</td>\n",
       "      <td>472</td>\n",
       "      <td>0.025226</td>\n",
       "    </tr>\n",
       "    <tr>\n",
       "      <th>8</th>\n",
       "      <td>80.0</td>\n",
       "      <td>90.0</td>\n",
       "      <td>930</td>\n",
       "      <td>0.049703</td>\n",
       "    </tr>\n",
       "    <tr>\n",
       "      <th>9</th>\n",
       "      <td>90.0</td>\n",
       "      <td>100.0</td>\n",
       "      <td>973</td>\n",
       "      <td>0.052001</td>\n",
       "    </tr>\n",
       "    <tr>\n",
       "      <th>10</th>\n",
       "      <td>100.0</td>\n",
       "      <td>110.0</td>\n",
       "      <td>851</td>\n",
       "      <td>0.045481</td>\n",
       "    </tr>\n",
       "    <tr>\n",
       "      <th>11</th>\n",
       "      <td>110.0</td>\n",
       "      <td>120.0</td>\n",
       "      <td>70</td>\n",
       "      <td>0.003741</td>\n",
       "    </tr>\n",
       "    <tr>\n",
       "      <th>12</th>\n",
       "      <td>120.0</td>\n",
       "      <td>130.0</td>\n",
       "      <td>245</td>\n",
       "      <td>0.013094</td>\n",
       "    </tr>\n",
       "    <tr>\n",
       "      <th>13</th>\n",
       "      <td>130.0</td>\n",
       "      <td>140.0</td>\n",
       "      <td>131</td>\n",
       "      <td>0.007001</td>\n",
       "    </tr>\n",
       "    <tr>\n",
       "      <th>14</th>\n",
       "      <td>140.0</td>\n",
       "      <td>150.0</td>\n",
       "      <td>516</td>\n",
       "      <td>0.027577</td>\n",
       "    </tr>\n",
       "    <tr>\n",
       "      <th>15</th>\n",
       "      <td>150.0</td>\n",
       "      <td>160.0</td>\n",
       "      <td>111</td>\n",
       "      <td>0.005932</td>\n",
       "    </tr>\n",
       "    <tr>\n",
       "      <th>16</th>\n",
       "      <td>160.0</td>\n",
       "      <td>170.0</td>\n",
       "      <td>263</td>\n",
       "      <td>0.014056</td>\n",
       "    </tr>\n",
       "    <tr>\n",
       "      <th>17</th>\n",
       "      <td>170.0</td>\n",
       "      <td>180.0</td>\n",
       "      <td>259</td>\n",
       "      <td>0.013842</td>\n",
       "    </tr>\n",
       "    <tr>\n",
       "      <th>18</th>\n",
       "      <td>180.0</td>\n",
       "      <td>190.0</td>\n",
       "      <td>303</td>\n",
       "      <td>0.016194</td>\n",
       "    </tr>\n",
       "    <tr>\n",
       "      <th>19</th>\n",
       "      <td>190.0</td>\n",
       "      <td>200.0</td>\n",
       "      <td>1030</td>\n",
       "      <td>0.055048</td>\n",
       "    </tr>\n",
       "    <tr>\n",
       "      <th>20</th>\n",
       "      <td>200.0</td>\n",
       "      <td>210.0</td>\n",
       "      <td>921</td>\n",
       "      <td>0.049222</td>\n",
       "    </tr>\n",
       "    <tr>\n",
       "      <th>21</th>\n",
       "      <td>210.0</td>\n",
       "      <td>220.0</td>\n",
       "      <td>1019</td>\n",
       "      <td>0.054460</td>\n",
       "    </tr>\n",
       "    <tr>\n",
       "      <th>22</th>\n",
       "      <td>220.0</td>\n",
       "      <td>230.0</td>\n",
       "      <td>426</td>\n",
       "      <td>0.022767</td>\n",
       "    </tr>\n",
       "    <tr>\n",
       "      <th>23</th>\n",
       "      <td>230.0</td>\n",
       "      <td>240.0</td>\n",
       "      <td>95</td>\n",
       "      <td>0.005077</td>\n",
       "    </tr>\n",
       "    <tr>\n",
       "      <th>24</th>\n",
       "      <td>240.0</td>\n",
       "      <td>250.0</td>\n",
       "      <td>455</td>\n",
       "      <td>0.024317</td>\n",
       "    </tr>\n",
       "    <tr>\n",
       "      <th>25</th>\n",
       "      <td>250.0</td>\n",
       "      <td>260.0</td>\n",
       "      <td>316</td>\n",
       "      <td>0.016888</td>\n",
       "    </tr>\n",
       "    <tr>\n",
       "      <th>26</th>\n",
       "      <td>260.0</td>\n",
       "      <td>270.0</td>\n",
       "      <td>836</td>\n",
       "      <td>0.044680</td>\n",
       "    </tr>\n",
       "    <tr>\n",
       "      <th>27</th>\n",
       "      <td>270.0</td>\n",
       "      <td>280.0</td>\n",
       "      <td>1415</td>\n",
       "      <td>0.075624</td>\n",
       "    </tr>\n",
       "    <tr>\n",
       "      <th>28</th>\n",
       "      <td>280.0</td>\n",
       "      <td>290.0</td>\n",
       "      <td>221</td>\n",
       "      <td>0.011811</td>\n",
       "    </tr>\n",
       "    <tr>\n",
       "      <th>29</th>\n",
       "      <td>290.0</td>\n",
       "      <td>300.0</td>\n",
       "      <td>1102</td>\n",
       "      <td>0.058896</td>\n",
       "    </tr>\n",
       "    <tr>\n",
       "      <th>30</th>\n",
       "      <td>300.0</td>\n",
       "      <td>310.0</td>\n",
       "      <td>353</td>\n",
       "      <td>0.018866</td>\n",
       "    </tr>\n",
       "    <tr>\n",
       "      <th>31</th>\n",
       "      <td>310.0</td>\n",
       "      <td>320.0</td>\n",
       "      <td>15</td>\n",
       "      <td>0.000802</td>\n",
       "    </tr>\n",
       "    <tr>\n",
       "      <th>32</th>\n",
       "      <td>320.0</td>\n",
       "      <td>330.0</td>\n",
       "      <td>220</td>\n",
       "      <td>0.011758</td>\n",
       "    </tr>\n",
       "    <tr>\n",
       "      <th>33</th>\n",
       "      <td>330.0</td>\n",
       "      <td>340.0</td>\n",
       "      <td>238</td>\n",
       "      <td>0.012720</td>\n",
       "    </tr>\n",
       "    <tr>\n",
       "      <th>34</th>\n",
       "      <td>340.0</td>\n",
       "      <td>350.0</td>\n",
       "      <td>485</td>\n",
       "      <td>0.025921</td>\n",
       "    </tr>\n",
       "    <tr>\n",
       "      <th>35</th>\n",
       "      <td>350.0</td>\n",
       "      <td>0.0</td>\n",
       "      <td>488</td>\n",
       "      <td>0.026081</td>\n",
       "    </tr>\n",
       "  </tbody>\n",
       "</table>\n",
       "</div>"
      ],
      "text/plain": [
       "    start    end  count  frequency\n",
       "0     0.0   10.0    573   0.030624\n",
       "1    10.0   20.0    390   0.020843\n",
       "2    20.0   30.0    371   0.019828\n",
       "3    30.0   40.0    266   0.014216\n",
       "4    40.0   50.0    781   0.041740\n",
       "5    50.0   60.0   1415   0.075624\n",
       "6    60.0   70.0    156   0.008337\n",
       "7    70.0   80.0    472   0.025226\n",
       "8    80.0   90.0    930   0.049703\n",
       "9    90.0  100.0    973   0.052001\n",
       "10  100.0  110.0    851   0.045481\n",
       "11  110.0  120.0     70   0.003741\n",
       "12  120.0  130.0    245   0.013094\n",
       "13  130.0  140.0    131   0.007001\n",
       "14  140.0  150.0    516   0.027577\n",
       "15  150.0  160.0    111   0.005932\n",
       "16  160.0  170.0    263   0.014056\n",
       "17  170.0  180.0    259   0.013842\n",
       "18  180.0  190.0    303   0.016194\n",
       "19  190.0  200.0   1030   0.055048\n",
       "20  200.0  210.0    921   0.049222\n",
       "21  210.0  220.0   1019   0.054460\n",
       "22  220.0  230.0    426   0.022767\n",
       "23  230.0  240.0     95   0.005077\n",
       "24  240.0  250.0    455   0.024317\n",
       "25  250.0  260.0    316   0.016888\n",
       "26  260.0  270.0    836   0.044680\n",
       "27  270.0  280.0   1415   0.075624\n",
       "28  280.0  290.0    221   0.011811\n",
       "29  290.0  300.0   1102   0.058896\n",
       "30  300.0  310.0    353   0.018866\n",
       "31  310.0  320.0     15   0.000802\n",
       "32  320.0  330.0    220   0.011758\n",
       "33  330.0  340.0    238   0.012720\n",
       "34  340.0  350.0    485   0.025921\n",
       "35  350.0    0.0    488   0.026081"
      ]
     },
     "execution_count": 35,
     "metadata": {},
     "output_type": "execute_result"
    }
   ],
   "source": [
    "# Your code here to construct the theta histogram\n",
    "\n",
    "theta_histogram = polar_discretiser.construct_theta_histogram(labelled_polar_vectors)\n",
    "\n",
    "theta_histogram"
   ]
  },
  {
   "cell_type": "markdown",
   "id": "2d8c7a97-e0cd-4901-a90e-4c7d60529ac1",
   "metadata": {},
   "source": [
    "So, we can now see how many vectors fall into each polar bin, as both counts and frequencies.\n",
    "\n",
    "But... this isn't **yet** a plot..."
   ]
  },
  {
   "cell_type": "markdown",
   "id": "4f651ef0-8351-4a79-9e8c-af58b067ea76",
   "metadata": {},
   "source": [
    "### Visualising Polar Histograms\n",
    "\n",
    "The final step here is to create visual polar plots of the histogram data. While we could manually do this with Matplotlib, VectoRose provides some helpful functions to make the process easier.\n",
    "\n",
    "We can easily create a single figure with both the $\\phi$ and $\\theta$ histograms using the function [`vr.plotting.produce_phi_theta_polar_histogram_plots`](https://vectorose.readthedocs.io/en/latest/autoapi/vectorose/plotting/index.html#vectorose.plotting.produce_phi_theta_polar_histogram_plots).\n",
    "\n",
    "While this function has lots of different parameters, the most important ones for us are the first two: the $\\phi$ histogram data and the $\\theta$ histogram data.\n",
    "\n",
    "Another helpful parameter is `use_counts`, where we can set whether we want the histogram to show counts or fractions.\n",
    "\n",
    "Let's use this function to visualise our polar histograms."
   ]
  },
  {
   "cell_type": "code",
   "execution_count": 36,
   "id": "ea1ad342-8d5f-423e-989c-b6a2e2e5b633",
   "metadata": {
    "execution": {
     "iopub.execute_input": "2025-07-30T18:33:22.890548Z",
     "iopub.status.busy": "2025-07-30T18:33:22.890443Z",
     "iopub.status.idle": "2025-07-30T18:33:23.132684Z",
     "shell.execute_reply": "2025-07-30T18:33:23.132390Z",
     "shell.execute_reply.started": "2025-07-30T18:33:22.890537Z"
    }
   },
   "outputs": [
    {
     "data": {
      "image/png": "[encoded data removed]",
      "text/plain": [
       "<Figure size 700x500 with 2 Axes>"
      ]
     },
     "metadata": {},
     "output_type": "display_data"
    }
   ],
   "source": [
    "# Your code here to visualise the polar histograms\n",
    "\n",
    "fig = vr.plotting.produce_phi_theta_polar_histogram_plots(\n",
    "    phi_histogram, theta_histogram, use_counts=False\n",
    ")"
   ]
  },
  {
   "cell_type": "markdown",
   "id": "ec5653b2-bac1-4a42-a8aa-db77c025ad5f",
   "metadata": {},
   "source": [
    "Looking at these plots, we can see that many of the vectors in our simulated fibres are inclined to near the *xy*-plane, and have a variety of different headings."
   ]
  },
  {
   "cell_type": "markdown",
   "id": "ff77e39a-6802-4994-ab5f-1b767e862fcc",
   "metadata": {},
   "source": [
    "## Conclusion\n",
    "\n",
    "In this notebook, we've seen the basics of using VectoRose to analyse vectors computed based on a simulated fibre system. Here's a summary of what we've covered:\n",
    "\n",
    "* We can use VectoRose to construct **spherical orientation histograms**.\n",
    "* We can easily capture **screenshots** and **animations** of these 3D plots.\n",
    "* We can **interactively** select specific sphere faces to **filter vectors by orientation**.\n",
    "* We can compute **directional statistics** to gain additional quantitative insights into the data.\n",
    "* We can construct **polar plots** to get a broader overview of the orientations present in the data.\n",
    "\n",
    "At this point, we've covered many of the basics of VectoRose... but there's an important idea that we haven't seen yet.\n",
    "\n",
    "What if your vectors have a non-unit length, and you want to look at more than just the orientation/direction?\n",
    "\n",
    "The answer is coming up... in the next notebook!"
   ]
  },
  {
   "cell_type": "markdown",
   "id": "766e966a-125f-4d4e-b002-460b3354eae7",
   "metadata": {},
   "source": [
    "## Extra Practice\n",
    "\n",
    "Want extra practice using VectoRose? Here's another simulated fibre system, along with its orientation field. The orientation field can be found in [`../assets/CaseStudy1/RandomCylinders3_R5_S5_SMOOTH1_EIG_MASKED.npy`](../assets/CaseStudy1/RandomCylinders3_R5_S5_SMOOTH1_EIG_MASKED.npy) and the mesh is found in [`../assets/CaseStudy1/RandomCylinders3.ply`](../assets/CaseStudy1/RandomCylinders3.ply). Try to redo the steps that we did, but with different data. Look at the orientation patterns. Were these fibres generated in a similar or different way from the ones we considered in this notebook?"
   ]
  },
  {
   "cell_type": "code",
   "execution_count": 37,
   "id": "7281d755-ed6d-487f-851b-56960966ca6f",
   "metadata": {
    "execution": {
     "iopub.execute_input": "2025-07-30T18:33:23.133205Z",
     "iopub.status.busy": "2025-07-30T18:33:23.133108Z",
     "iopub.status.idle": "2025-07-30T18:33:23.135479Z",
     "shell.execute_reply": "2025-07-30T18:33:23.135235Z",
     "shell.execute_reply.started": "2025-07-30T18:33:23.133195Z"
    }
   },
   "outputs": [
    {
     "data": {
      "text/html": [
       "<video src=\"../assets/CaseStudy1/RandomCylinders3.mp4\" controls  width=\"720\" >\n",
       "      Your browser does not support the <code>video</code> element.\n",
       "    </video>"
      ],
      "text/plain": [
       "<IPython.core.display.Video object>"
      ]
     },
     "execution_count": 37,
     "metadata": {},
     "output_type": "execute_result"
    }
   ],
   "source": [
    "Video(\"../assets/CaseStudy1/RandomCylinders3.mp4\", width=720)"
   ]
  },
  {
   "cell_type": "code",
   "execution_count": 38,
   "id": "1756502e-7c8f-453a-ab27-8a4f5a4c7953",
   "metadata": {
    "execution": {
     "iopub.execute_input": "2025-07-30T18:33:23.135988Z",
     "iopub.status.busy": "2025-07-30T18:33:23.135886Z",
     "iopub.status.idle": "2025-07-30T18:33:23.137531Z",
     "shell.execute_reply": "2025-07-30T18:33:23.137279Z",
     "shell.execute_reply.started": "2025-07-30T18:33:23.135979Z"
    }
   },
   "outputs": [],
   "source": [
    "# Your analysis code here\n"
   ]
  }
 ],
 "metadata": {
  "kernelspec": {
   "display_name": "Python 3 (ipykernel)",
   "language": "python",
   "name": "python3"
  },
  "language_info": {
   "codemirror_mode": {
    "name": "ipython",
    "version": 3
   },
   "file_extension": ".py",
   "mimetype": "text/x-python",
   "name": "python",
   "nbconvert_exporter": "python",
   "pygments_lexer": "ipython3",
   "version": "3.10.14"
  },
  "widgets": {
   "application/vnd.jupyter.widget-state+json": {
    "state": {
     "6c3d53088e794324977debda796743db": {
      "model_module": "@jupyter-widgets/controls",
      "model_module_version": "2.0.0",
      "model_name": "HTMLStyleModel",
      "state": {
       "description_width": "",
       "font_size": null,
       "text_color": null
      }
     },
     "86fc6e8cfbbe4b16813456b9b2b10f1a": {
      "model_module": "@jupyter-widgets/controls",
      "model_module_version": "2.0.0",
      "model_name": "HTMLStyleModel",
      "state": {
       "description_width": "",
       "font_size": null,
       "text_color": null
      }
     },
     "b29192fb6b7e494fa6ab5186801f8764": {
      "model_module": "@jupyter-widgets/base",
      "model_module_version": "2.0.0",
      "model_name": "LayoutModel",
      "state": {}
     },
     "c72d2e98147640028ab5fb9b9e45960d": {
      "model_module": "@jupyter-widgets/controls",
      "model_module_version": "2.0.0",
      "model_name": "HTMLModel",
      "state": {
       "layout": "IPY_MODEL_f4bfa2cdc7f5473394d042517307b728",
       "style": "IPY_MODEL_86fc6e8cfbbe4b16813456b9b2b10f1a",
       "value": "<iframe src=\"http://localhost:57329/index.html?ui=P_0x13ad256c0_1&reconnect=auto\" class=\"pyvista\" style=\"width: 99%; height: 600px; border: 1px solid rgb(221,221,221);\"></iframe>"
      }
     },
     "cb2d927e664c46f2b8bc29f9d4f5220d": {
      "model_module": "@jupyter-widgets/controls",
      "model_module_version": "2.0.0",
      "model_name": "HTMLModel",
      "state": {
       "layout": "IPY_MODEL_ee750d2038f246619445226da9c979f6",
       "style": "IPY_MODEL_f162a30e015f4f5c969782a16764b5af",
       "value": "<iframe src=\"http://localhost:57329/index.html?ui=P_0x14efff730_2&reconnect=auto\" class=\"pyvista\" style=\"width: 99%; height: 600px; border: 1px solid rgb(221,221,221);\"></iframe>"
      }
     },
     "ee750d2038f246619445226da9c979f6": {
      "model_module": "@jupyter-widgets/base",
      "model_module_version": "2.0.0",
      "model_name": "LayoutModel",
      "state": {}
     },
     "f162a30e015f4f5c969782a16764b5af": {
      "model_module": "@jupyter-widgets/controls",
      "model_module_version": "2.0.0",
      "model_name": "HTMLStyleModel",
      "state": {
       "description_width": "",
       "font_size": null,
       "text_color": null
      }
     },
     "f2b73780751a4471b333ea2a622ddc9b": {
      "model_module": "@jupyter-widgets/controls",
      "model_module_version": "2.0.0",
      "model_name": "HTMLModel",
      "state": {
       "layout": "IPY_MODEL_b29192fb6b7e494fa6ab5186801f8764",
       "style": "IPY_MODEL_6c3d53088e794324977debda796743db",
       "value": "<iframe src=\"http://localhost:57329/index.html?ui=P_0x1033f0670_0&reconnect=auto\" class=\"pyvista\" style=\"width: 99%; height: 600px; border: 1px solid rgb(221,221,221);\"></iframe>"
      }
     },
     "f4bfa2cdc7f5473394d042517307b728": {
      "model_module": "@jupyter-widgets/base",
      "model_module_version": "2.0.0",
      "model_name": "LayoutModel",
      "state": {}
     }
    },
    "version_major": 2,
    "version_minor": 0
   }
  }
 },
 "nbformat": 4,
 "nbformat_minor": 5
}
