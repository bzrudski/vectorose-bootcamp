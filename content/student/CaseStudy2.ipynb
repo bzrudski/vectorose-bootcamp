{
 "cells": [
  {
   "cell_type": "markdown",
   "id": "e669894c-4dc6-4865-8a04-9b143dc6f236",
   "metadata": {},
   "source": [
    "# Case Study 2 - Sheep Femur Trabecular Bone\n",
    "\n",
    "CRBS VectoRose Bootcamp\n",
    "\n",
    "Benjamin Z. Rudski <benjamin.rudski@mail.mcgill.ca>\n",
    "\n",
    "August 6, 2025\n",
    "\n",
    "In the previous case study notebook, we saw how to use VectoRose for analysing pure orientations. We constructed spherical orientation histograms and filtered based on orientation.\n",
    "\n",
    "Now, we're going to kick things up a notch.\n",
    "\n",
    "What if your data aren't pure directions or orientations? What if your vectors have some sort of **magnitude** associated with them? How can we visualise these quantities?\n",
    "\n",
    "Stay tuned to find out!\n",
    "\n",
    "In this notebook, we'll explore these additional functionalities of VectoRose through the analysis of trabecular bone anisotropy in a sheep femur.\n",
    "\n",
    "## Outline\n",
    "\n",
    "Before we begin, here's the outline of the material we'll cover in this notebook.\n",
    "\n",
    "1. Sample Data\n",
    "2. Review: Getting Started\n",
    "3. Preparing the Sphere\n",
    "4. Constructing Magnitude Histograms\n",
    "5. Constructing Bivariate Nested Spherical Histograms\n",
    "6. Animating Bivariate Histograms\n",
    "7. Constructing Conditional Histograms\n",
    "8. Note on Computing Statistics\n",
    "\n",
    "After following this notebook (in addition to the previous one), you will be familiar with almost all the basic functionality of VectoRose. You will then be able to apply VectoRose to analyse your data, regardless of the sample under study or the data acquisition method used."
   ]
  },
  {
   "cell_type": "markdown",
   "id": "90a0993b-8909-4f70-ba61-8e6f7273a8e2",
   "metadata": {},
   "source": [
    "## Sample Data\n",
    "\n",
    "Bones are not fully-filled structures. Inside bone, there is a network of dense, interconnected struts, known as *trabeculae*. \n",
    "\n",
    "In this example, we'll focus on the trabecular bone in the femur of a mature sheep. Trabecular bone isn't found throughout the entire bone. Instead, in long bones, like the femur, it's found at the two ends, or *epiphyses*.\n",
    "\n",
    "Through the worked example, we'll analyse the trabecular bone in the *proximal* epiphysis, the end that is closest to the hip. Later, you'll be able to analyse the trabecular bone in the *distal* epiphysis, which is part of the knee.\n",
    "\n",
    "The entire sheep femur is a very, very big dataset. Instead of looking at the entire volume here, we'll look at two different meshes for a start. We'll look at the exterior shell of the femur, just to get a feel for the bone, and then, we'll look at some simplified cubes of trabecular bone to understand this structure a bit better."
   ]
  },
  {
   "cell_type": "code",
   "execution_count": null,
   "id": "093b40bf-4bbb-4ab7-b597-dff90efc53ed",
   "metadata": {},
   "outputs": [],
   "source": [
    "from IPython.display import Video\n",
    "\n",
    "Video(\"../assets/CaseStudy2/SheepFemur.mp4\", width=720)"
   ]
  },
  {
   "cell_type": "markdown",
   "id": "10acee4e-ba98-4f6f-9244-176423307dd8",
   "metadata": {},
   "source": [
    "> 📝 **Note**\\\n",
    "> We will analyse larger volumes of the bone to understand the trabecular architecture. This simplification was just for the purposes of illustration.\n",
    "\n",
    "### Trabecular Anisotropy Overview\n",
    "\n",
    "One last thing that we need to go over is... well... the actual vector collection.\n",
    "\n",
    "The bone is just an image! Where do the vectors come in? Well, we'll look at **trabecular anisotropy**, which is a measurement of the local co-alignment of the trabecular struts.\n",
    "\n",
    "This quantity provides us **two** pieces of information:\n",
    "\n",
    "1. the dominant local orientation of trabeculae in a certain volume\n",
    "2. the degree of co-alignment of the trabeculae\n",
    "\n",
    "Trabecular anisotropy can be thought of as a **vector field**; at each spatial location, we have a vector pointing in the dominant local orientation with a magnitude corresponding to the degree of co-alignment.\n",
    "\n",
    "So, in this case, we don't just want to look at the local orientations! We also want to consider the associated magnitudes.\n",
    "\n",
    "Let's see how to take care of this type of data using VectoRose."
   ]
  },
  {
   "cell_type": "markdown",
   "id": "89af3b49-71cc-44de-a85f-d43ef876039b",
   "metadata": {},
   "source": [
    "## Review: Getting Started\n",
    "\n",
    "As we did before, we need to start by loading our vector data into Python using VectoRose, and we need to perform some data cleaning.\n",
    "\n",
    "Let's do all the steps in one block this time."
   ]
  },
  {
   "cell_type": "code",
   "execution_count": null,
   "id": "290f208b-fb4d-4f35-9bd5-4f70f0a5ef12",
   "metadata": {},
   "outputs": [],
   "source": [
    "vectors_path = \"../assets/CaseStudy2/MatureSheepFemur_Proximal_S750_R1500_SMOOTH1_EIG_MASKED.npy\"\n",
    "\n",
    "# Your code here for vector loading and preprocessing\n"
   ]
  },
  {
   "cell_type": "markdown",
   "id": "c0227945-37ad-4697-b47c-180bee96d126",
   "metadata": {},
   "source": [
    "## Preparing the Sphere\n",
    "\n",
    "Now, we need to create a sphere to build our histograms. Like last time, we'll use a [`FineTregenzaSphere`](https://vectorose.readthedocs.io/en/latest/autoapi/vectorose/tregenza_sphere/index.html#vectorose.tregenza_sphere.FineTregenzaSphere).\n",
    "\n",
    "But we'll do something different when we create it!\n",
    "\n",
    "Since we want to look at the magnitude distribution also, we're going to create more than one shell. Let's consider 10 magnitude bins. When creating the `FineTregenzaSphere`, we need to set `number_of_shells=10`.\n",
    "\n",
    "By default, the highest and lowest bin edges will be determined based on the magnitudes present in the data. We can change these bounds using the `magnitude_range` parameter. In the case of trabecular anisotropy, values can only be in the interval `[0, 1]`, where an anisotropy of 0 represents structures with no co-alignment and 1 represents structures with perfect co-alignment. We'll use these as the bounds for our `magnitude_range`, as well."
   ]
  },
  {
   "cell_type": "code",
   "execution_count": null,
   "id": "c3832e80-bf3a-4a49-9882-21c7a1476e96",
   "metadata": {},
   "outputs": [],
   "source": [
    "# Your code here to create the Tregenza sphere\n"
   ]
  },
  {
   "cell_type": "markdown",
   "id": "8fddd84b-0be6-4a9c-b87b-c73dd76a0f3d",
   "metadata": {},
   "source": [
    "Now, we have a sphere that we can use to bin by both magnitude and orientation!\n",
    "\n",
    "Like before, the next step is to assign the vectors to histogram bins. Since our sphere has multiple magnitude shells, the [`assign_histogram_bins`](https://vectorose.readthedocs.io/en/latest/autoapi/vectorose/sphere_base/index.html#vectorose.sphere_base.SphereBase.assign_histogram_bins) method takes care of both the magnitude and the orientation. This method produces two outputs:\n",
    "\n",
    "1. the `DataFrame` with the bin assignments\n",
    "2. the edges of the magnitude bins\n",
    "\n",
    "We haven't seen the second returned value yet, but this is important. It tells us where each magnitude bin starts and ends. These will be very important when we want to plot our magnitude histograms.\n",
    "\n",
    "So, let's now assign our vectors to bins!"
   ]
  },
  {
   "cell_type": "code",
   "execution_count": null,
   "id": "9fc8a58f-88d6-451a-909d-9ba4f935ec5b",
   "metadata": {},
   "outputs": [],
   "source": [
    "# Your code here to assign vectors to their bins\n"
   ]
  },
  {
   "cell_type": "markdown",
   "id": "8fd88dde-beb5-4eb2-8bb5-cedd6fd0164c",
   "metadata": {},
   "source": [
    "## Constructing Magnitude Histograms\n",
    "\n",
    "At first, the table above looks quite similar to what we had last time... but notice that the **`shell`** column now doesn't contain all zeros. We have a variety of different values in there.\n",
    "\n",
    "The `shell` column contains the bin indices for the magnitude histogram! We're going to use these bin assignments to construct a magnitude histogram.\n",
    "\n",
    "Using VectoRose, we can easily collect all these bin assignments into a histogram using the method [`construct_marginal_magnitude_histogram`](https://vectorose.readthedocs.io/en/latest/autoapi/vectorose/sphere_base/index.html#vectorose.sphere_base.SphereBase.construct_marginal_magnitude_histogram) on our `FineTregenzaSphere`.\n",
    "\n",
    "Let's see what this produces."
   ]
  },
  {
   "cell_type": "code",
   "execution_count": null,
   "id": "0844701c-65f7-4ba7-a37c-da19fc11c8d9",
   "metadata": {},
   "outputs": [],
   "source": [
    "# Your code here to compute the magnitude histogram\n"
   ]
  },
  {
   "cell_type": "markdown",
   "id": "96da9bf1-07ec-4cbd-930b-8b5b7bb61a21",
   "metadata": {},
   "source": [
    "We can see that we now have the fraction of vectors that are associated with each magnitude histogram bin.\n",
    "\n",
    "> 💡 **Tip**\\\n",
    "> Interested in counts instead of frequencies? Set `return_fraction=False` when calling this method, and you'll get a histogram based on counts instead.\n",
    "\n",
    "This is great... but we want a nice bar plot, not just a list of numbers.\n",
    "\n",
    "Thankfully, using [`vr.plotting.produce_1d_scalar_histogram`](https://vectorose.readthedocs.io/en/latest/autoapi/vectorose/plotting/index.html#vectorose.plotting.produce_1d_scalar_histogram), we can get our histogram plot.\n",
    "\n",
    "This function requires the histogram data, as well as those bin boundaries we computed before.\n",
    "\n",
    "Let's now visualise our magnitude histogram!"
   ]
  },
  {
   "cell_type": "code",
   "execution_count": null,
   "id": "dddb8e0d-d9ce-46cd-a948-9ec1009b56c6",
   "metadata": {},
   "outputs": [],
   "source": [
    "# Your code here to visualise the magnitude histogram\n"
   ]
  },
  {
   "cell_type": "markdown",
   "id": "d48ffdb7-47ca-4472-b5c8-7e9c8de8185f",
   "metadata": {},
   "source": [
    "This plot is generated with [Matplotlib](https://matplotlib.org/), and so, we can apply all the usual Matplotlib customisations to it, like adding titles and axis labels.\n",
    "\n",
    "Another helpful thing we can do is set the *y*-axis to use a logarithmic scale by passing `log=True` to the function call.\n",
    "\n",
    "Let's see what happens for these data."
   ]
  },
  {
   "cell_type": "code",
   "execution_count": null,
   "id": "e5cfe416-48ad-479c-8d11-c0edef58a537",
   "metadata": {},
   "outputs": [],
   "source": [
    "# Your code here to construct a log histogram\n"
   ]
  },
  {
   "cell_type": "markdown",
   "id": "15b35b07-a60d-4184-9fef-14ba2755802a",
   "metadata": {},
   "source": [
    "Now we successfully have a log-scale plot!"
   ]
  },
  {
   "cell_type": "markdown",
   "id": "5fa9755d-2e80-4e56-8979-dcebcf277a9c",
   "metadata": {},
   "source": [
    "## Constructing Bivariate Histograms\n",
    "\n",
    "So, by now we've seen how to construct histograms of just orientation or just magnitude... but what if we want to see which orientations are more common for high magnitudes, or for low magnitudes, what can we do?\n",
    "\n",
    "Well, we can construct **bivariate histograms** of magnitude and orientation. These histograms show a frequency value for each **combination** of magnitude and orientation.\n",
    "\n",
    "To visualise these combinations, we rely on **nested spherical histograms**. Each level in the spherical histogram corresponds to a different range of magnitude values."
   ]
  },
  {
   "cell_type": "markdown",
   "id": "9dc686cc-9afb-4f7d-bfe0-611ac806c962",
   "metadata": {},
   "source": [
    "### Computing Bivariate Histograms\n",
    "\n",
    "As always, before we can visualise a histogram, we need to compute the bin frequencies. For the bivariate histograms, we do this using the [`construct_histogram`](https://vectorose.readthedocs.io/en/latest/autoapi/vectorose/sphere_base/index.html#vectorose.sphere_base.SphereBase.construct_histogram) method on our `FineTregenzaSphere`.\n",
    "\n",
    "As usual, if we want to work with counts instead of frequencies, we can pass `return_fraction=False`."
   ]
  },
  {
   "cell_type": "code",
   "execution_count": null,
   "id": "8de9f0c8-9917-49bf-b2cc-d7637e0f816f",
   "metadata": {},
   "outputs": [],
   "source": [
    "# Your code here to compute the bivariate histogram\n"
   ]
  },
  {
   "cell_type": "markdown",
   "id": "7ee7a432-ee41-4a37-b6ef-5731c90d028a",
   "metadata": {},
   "source": [
    "We now have something that looks similar to the orientation histogram, but with a twist. We now have an extra layer of indexing. We see the frequency associated with each ring and bin in each shell."
   ]
  },
  {
   "cell_type": "markdown",
   "id": "96dd3aa1-e5e1-447a-8363-f45619cd2f78",
   "metadata": {},
   "source": [
    "### Visualising the Bivariate Histogram\n",
    "\n",
    "Now, to visualise the histogram, we'll once again use the [`SpherePlotter`](https://vectorose.readthedocs.io/en/latest/autoapi/vectorose/plotting/index.html#vectorose.plotting.SpherePlotter). But first, we need to provide histogram meshes.\n",
    "\n",
    "To construct histogram meshes for the bivariate histogram, we must pass the histogram data to the method [`create_histogram_meshes`](https://vectorose.readthedocs.io/en/latest/autoapi/vectorose/sphere_base/index.html#vectorose.sphere_base.SphereBase.create_histogram_meshes). \n",
    "\n",
    "This method produces one spherical mesh for each histogram shell.\n",
    "\n",
    "There is one other required parameter: the magnitude bins. These bin bounds are used to set the size of the produced spheres:\n",
    "\n",
    "* If the bin edges found above are provided, then they are used to determine the radius of each sphere. The sphere radii correspond to the **upper bound** of the bins.\n",
    "* If `None` is provided, then the sphere all have the common radius of one.\n",
    "\n",
    "Let's start by providing the bin edges."
   ]
  },
  {
   "cell_type": "code",
   "execution_count": null,
   "id": "57683f35-860b-424f-a93c-e4f66c992058",
   "metadata": {},
   "outputs": [],
   "source": [
    "# Your code here to create the histogram meshes\n"
   ]
  },
  {
   "cell_type": "markdown",
   "id": "aa17964c-b754-45fa-9d93-8df3f83506c4",
   "metadata": {},
   "source": [
    "We can now see that we have a number of meshes that have been produced. If we look at the bounds for each in their descriptions, we see that they get progressively larger.\n",
    "\n",
    "Now, let's use the `SpherePlotter` to visualise these histogram shells.\n",
    "\n",
    "> ⚠️ **Caution**\\\n",
    "> As always, don't forget to call `SpherePlotter.produce_plot` before trying to `show` the plot."
   ]
  },
  {
   "cell_type": "code",
   "execution_count": null,
   "id": "cf57cfc6-07b5-4ebc-b955-506c4ac12768",
   "metadata": {},
   "outputs": [],
   "source": [
    "# Your code here to create the sphere plotter\n"
   ]
  },
  {
   "cell_type": "markdown",
   "id": "4fa77367-dac1-44ee-84d5-bd51064135c7",
   "metadata": {},
   "source": [
    "While this plot initially looks pretty similar to the orientation histogram, you may notice an important difference. At the top, instead of having a single slider, controlling the opacity of the histogram, we now have three sliders.\n",
    "\n",
    "Try playing with each one. You'll notice that:\n",
    "\n",
    "* The left slider controls which shell is currently active.\n",
    "* The central slider controls the opacity of this active shell.\n",
    "* The right slider controls the opacity of all other inactive shells.\n",
    "\n",
    "At the extreme case, if the central slider is set to `1` and the right slider is set to `0`, we only have one shell visible at a time. The visible shell is determined by the left slider.\n",
    "\n",
    "So, we can get a pretty clear view of the vector distribution by flipping through these different shells.\n",
    "\n",
    "Wouldn't it be nice if there were an easier way to do this?"
   ]
  },
  {
   "cell_type": "markdown",
   "id": "6bddb9cc-173e-4163-a070-e0dd8d5712da",
   "metadata": {},
   "source": [
    "## Animating Bivariate Histograms\n",
    "\n",
    "In addition to the rotation animations we covered in the previous notebook, we can also create bivariate histogram shell animations. In these animations, each frame contains a different spherical shell.\n",
    "\n",
    "To create a shell animation, we call the method [`produce_shells_video`](https://vectorose.readthedocs.io/en/latest/autoapi/vectorose/plotting/index.html#vectorose.plotting.SpherePlotter.produce_shells_video) on the `SpherePlotter`."
   ]
  },
  {
   "cell_type": "code",
   "execution_count": null,
   "id": "e0e735a6-ef93-4471-aee5-195c40a11291",
   "metadata": {},
   "outputs": [],
   "source": [
    "# Your code here to produce a shell animation video\n"
   ]
  },
  {
   "cell_type": "code",
   "execution_count": null,
   "id": "501c189b-b5eb-4023-8dc1-b4ee1d763d40",
   "metadata": {},
   "outputs": [],
   "source": [
    "Video(\"shells_animation.mp4\", width=720, html_attributes=\"loop autoplay controls\")"
   ]
  },
  {
   "cell_type": "markdown",
   "id": "0282baa6-9641-4cc9-a9d4-049d443c340d",
   "metadata": {},
   "source": [
    "> 💡 **Tip**\\\n",
    "> Unlike the rotation videos, the shell videos only capture a single perspective of the sphere. You may want to rotate the spherical histogram and capture a shell video of the back to ensure that you have viewed the entire surface."
   ]
  },
  {
   "cell_type": "markdown",
   "id": "73cad489-d9d6-464e-85ae-3d7cf9d505a2",
   "metadata": {},
   "source": [
    "## Constructing Conditional Histograms\n",
    "\n",
    "The bivariate histograms are very helpful for showing us the frequency of all orientations at all magnitudes.\n",
    "\n",
    "But what if we only want to look at how higher-magnitude vectors are oriented?\n",
    "\n",
    "There are a couple of different approaches we can use:\n",
    "\n",
    "1. Filtering using tools in [pandas](https://pandas.pydata.org/).\n",
    "2. Computing conditional histograms with VectoRose.\n",
    "\n",
    "Right now, we'll focus on the second approach.\n",
    "\n",
    "Recall that a **conditional distribution** looks at the frequency of one variable given certain values for the other variable."
   ]
  },
  {
   "cell_type": "markdown",
   "id": "fa7b7ca1-dfc9-4562-9371-8b5c31a3b9cd",
   "metadata": {},
   "source": [
    "### Conditioning Orientation on Magnitude\n",
    "\n",
    "Let's say we want to look at the orientation distribution of vectors with a magnitude in a certain range. In this case, we look at the frequency of orientations **only among vectors with the specified magnitudes**.\n",
    "\n",
    "We're *conditioning* orientation on magnitude.\n",
    "\n",
    "To do this, we can use the method [`construct_conditional_orientation_histogram`](https://vectorose.readthedocs.io/en/latest/autoapi/vectorose/sphere_base/index.html#vectorose.sphere_base.SphereBase.construct_conditional_orientation_histogram) of the `FineTregenzaSphere`.\n",
    "\n",
    "> ⚠️ **Attention**\\\n",
    "> Unlike the other histogram methods, we can only get the frequencies as fractions in conditional histograms. We can't get the results in terms of counts."
   ]
  },
  {
   "cell_type": "code",
   "execution_count": null,
   "id": "19e0e7a4-210d-4ab3-aa28-2cce38e9350b",
   "metadata": {},
   "outputs": [],
   "source": [
    "# Your code here to compute the conditional orientation histogram\n",
    "\n",
    "conditional_orientation_histogram = my_sphere.construct_conditional_orientation_histogram(\n",
    "    labelled_vectors\n",
    ")\n",
    "\n",
    "conditional_orientation_histogram.to_frame()"
   ]
  },
  {
   "cell_type": "markdown",
   "id": "0ef5c835-0148-4459-8886-d309155bf169",
   "metadata": {},
   "source": [
    "At first glance, this looks pretty similar to the bivariate histogram. But the important difference is that the frequencies are normalised by shell.\n",
    "\n",
    "Within each shell, the frequencies sum to 1 (unless there are no vectors in that shell).\n",
    "\n",
    "Let's look, for example, at shell 6 (index 5). We'll extract this shell using pandas indexing."
   ]
  },
  {
   "cell_type": "code",
   "execution_count": null,
   "id": "32a6bc14-d88f-4abb-ae44-438b5f47f156",
   "metadata": {},
   "outputs": [],
   "source": [
    "# Your code here to select shell index 5\n"
   ]
  },
  {
   "cell_type": "markdown",
   "id": "8ab1c316-9663-45af-82b1-3cad0d38015d",
   "metadata": {},
   "source": [
    "We now have an orientation histogram for a single shell! We can now use this to generate a spherical orientation histogram like we did in the previous notebook."
   ]
  },
  {
   "cell_type": "code",
   "execution_count": null,
   "id": "0f65ee65-c0d5-4673-8f19-2fce07ddf0f0",
   "metadata": {},
   "outputs": [],
   "source": [
    "# Your code here to generate a spherical orientation histogram\n"
   ]
  },
  {
   "cell_type": "markdown",
   "id": "e3b7eb20-fb60-495c-8fb7-b9bc6e21eb31",
   "metadata": {},
   "source": [
    "Notice that now we can see the features in this sphere more clearly. We can now see orientation patterns that are present in specific shells that may otherwise be invisible due to relatively low frequencies."
   ]
  },
  {
   "attachments": {},
   "cell_type": "markdown",
   "id": "96efebcb-770e-415d-a2ff-31c2c3f67753",
   "metadata": {},
   "source": [
    "What if we want to do the opposite, now?\n",
    "\n",
    "We can also look at the distribution of magnitude values assuming vectors have a certain orientation. In this case, we'd look at the frequency of magnitudes **only among vectors with the specified orientations**.\n",
    "\n",
    "We are *conditioning* magnitude on orientation.\n",
    "\n",
    "We can compute the conditional orientation distribution using the method [`construct_conditional_magnitude_histogram`](https://vectorose.readthedocs.io/en/latest/autoapi/vectorose/sphere_base/index.html#vectorose.sphere_base.SphereBase.construct_conditional_magnitude_histogram) on the `FineTregenzaSphere`.\n",
    "\n",
    "But, this approach may be overly fine-grained, as it considers each face on its own... Instead, let's do some manual filtering.\n",
    "\n",
    "First, we need to have some orientations to use for filtering.\n",
    "\n",
    "To do this, let's once again turn to interactive cell picking! We'll quickly create a marginal orientation histogram and pick cells on it."
   ]
  },
  {
   "cell_type": "code",
   "execution_count": null,
   "id": "140bf4fa-1f66-4236-a0fc-db4dc30e9815",
   "metadata": {},
   "outputs": [],
   "source": [
    "# Your code here for creating and visualising the marginal orientation histogram\n"
   ]
  },
  {
   "cell_type": "markdown",
   "id": "8f52b66d-3c98-4ee7-a473-528a5a410a1c",
   "metadata": {},
   "source": [
    "We can see that there are a lot of vectors near the pole. Let's pick some of those bright patches.\n",
    "\n",
    "> ⚠️ **Attention**\\\n",
    "> Remember to pick the cells by **right-clicking**.\n",
    "\n",
    "Now that we have some cells selected, we can extract the vectors contained within these orientations."
   ]
  },
  {
   "cell_type": "code",
   "execution_count": null,
   "id": "6f13bc94-033b-43a2-8645-5dc48d55dd7b",
   "metadata": {},
   "outputs": [],
   "source": [
    "# Your code here to get the vectors in the selected cells\n"
   ]
  },
  {
   "cell_type": "markdown",
   "id": "4e338f5d-416a-40e4-8ae9-04ee16c9323d",
   "metadata": {},
   "source": [
    "Now, we can just construct a magnitude histogram like we did above using the `construct_marginal_magnitude_histogram` method, only using these `selected_vectors` instead of all the `labelled_vectors`."
   ]
  },
  {
   "cell_type": "code",
   "execution_count": null,
   "id": "2e42c921-467e-4473-85a8-528ffa000009",
   "metadata": {},
   "outputs": [],
   "source": [
    "# Your code here to build the magnitude histogram\n",
    "\n",
    "conditional_magnitude_hist = my_sphere.construct_marginal_magnitude_histogram(\n",
    "    selected_vectors\n",
    ")\n",
    "\n",
    "ax = vr.plotting.produce_1d_scalar_histogram(\n",
    "    conditional_magnitude_hist, magnitude_bin_edges\n",
    ")"
   ]
  },
  {
   "cell_type": "markdown",
   "id": "a2f31601-c5fc-4d36-8027-587c94fefbf5",
   "metadata": {},
   "source": [
    "We can see that our magnitude distribution among the directions we've selected is different from that of all the data! These can reveal interesting insights into the relationship between magnitude and orientation, revealing potentially interesting biological findings!"
   ]
  },
  {
   "cell_type": "markdown",
   "id": "c7efb8a8-8f31-4d15-9c89-37887f6ade6e",
   "metadata": {},
   "source": [
    "## Note on Computing Statistics\n",
    "\n",
    "Up until now, all our analysis have been visual. We've been looking at the magnitude distribution, the bivariate distribution, and the conditional distributions...\n",
    "\n",
    "But what if we want to get some numerical insights?\n",
    "\n",
    "Well, the magnitude data are scalars, so we can just analyse both the marginal and conditional magnitude distributions using standard statistics (if the context allows for it).\n",
    "\n",
    "Similarly, we can just analyse conditional orientation distributions with directional statistics approaches. We saw some of these approaches that are implemented in VectoRose in the previous notebook.\n",
    "\n",
    "What about the bivariate distribution?\n",
    "\n",
    "VectoRose can compute the correlation between the orientation and magnitude data. If the two variables are statistically independent, they will not be correlated.\n",
    "\n",
    "We can compute the correlation using the function [`vr.stats.compute_magnitude_orientation_correlation`](https://vectorose.readthedocs.io/en/latest/autoapi/vectorose/stats/index.html#vectorose.stats.compute_magnitude_orientation_correlation).\n",
    "\n",
    "This function returns both the correlation coefficient and the result of the hypothesis test (containing the *p*-value).\n",
    "\n",
    "As before, we need an array containing our vectors. Unlike previously, these vectors **should not be unit vectors** (otherwise, there won't be any correlation).\n",
    "\n",
    "We could do this once again with the method [`convert_vectors_to_cartesian_array`](https://vectorose.readthedocs.io/en/latest/autoapi/vectorose/sphere_base/index.html#vectorose.sphere_base.SphereBase.convert_vectors_to_cartesian_array) of the `FineTregenzaSphere`, but we don't have to since we have our **unduplicated** vectors already stored in an array."
   ]
  },
  {
   "cell_type": "code",
   "execution_count": null,
   "id": "22ff08db-113e-4ae2-97c5-7a9a7905112e",
   "metadata": {},
   "outputs": [],
   "source": [
    "# Your code here to compute correlation\n"
   ]
  },
  {
   "cell_type": "markdown",
   "id": "c2843798-cdcf-4e94-bac2-e98828adbeeb",
   "metadata": {},
   "source": [
    "We can see a pretty strong correlation between the magnitude and the orientation, allowing us to reject the null hypothesis that magnitude and orientation are independent."
   ]
  },
  {
   "cell_type": "markdown",
   "id": "b947553b-1ab8-4a9c-b2b2-0c2350e2da8d",
   "metadata": {},
   "source": [
    "## Conclusion\n",
    "\n",
    "We've now reached the end of this notebook on using VectoRose to analyse trabecular anisotropy. Here's a recap of what we saw:\n",
    "\n",
    "* Using VectoRose, we can examine vectors that have **different magnitudes**.\n",
    "* We can construct **magnitude histograms** showing the distribution of vector lengths.\n",
    "* We can construct **bivariate histograms** showing the interplay of magnitude and orientation. We can produce **animations** showing the different histogram shells.\n",
    "* We can construct **conditional orientation and magnitude histograms** which show the distribution of one variable while filtering based on the other one.\n",
    "* We can **compute statistics** on the magnitudes and filtered data and compute the **correlation** between magnitude and orientation.\n",
    "\n",
    "At this point, we've covered the fundamentals of using VectoRose. You should be able to apply VectoRose to studying different collections of vectors, regardless of whether they are of unit or non-unit length."
   ]
  },
  {
   "cell_type": "markdown",
   "id": "5a7c2fe2-ec3f-4c42-8809-1a00bf1032d7",
   "metadata": {},
   "source": [
    "## Extra Practice\n",
    "\n",
    "In this notebook, we've been exploring the proximal epiphysis of the mature sheep femur. What about the other end of the bone? I've provided the anisotropy field for the distal epiphysis in the file [`../assets/CaseStudy2/MatureSheepFemur_Distal_S750_R1500_SMOOTH1_EIG_MASKED.npy`](../assets/CaseStudy2/MatureSheepFemur_Distal_S750_R1500_SMOOTH1_EIG_MASKED.npy). Look at it in terms of the magnitude and bivariate distributions, and then explore any interesting features using conditional plots. Does the distal end look different from the proximal end of this bone?"
   ]
  },
  {
   "cell_type": "code",
   "execution_count": null,
   "id": "46e6a222-5946-4d00-94f4-bdb8eff22c73",
   "metadata": {},
   "outputs": [],
   "source": [
    "# Your analysis code here\n"
   ]
  },
  {
   "cell_type": "markdown",
   "id": "40ec6542-0ee0-469b-a4bc-df890f7ab294",
   "metadata": {},
   "source": [
    "## Additional Resources\n",
    "\n",
    "Though this is the end of the Bootcamp material, there are more resources out there for learning about VectoRose. Make sure to check out the online documentation at <https://vectorose.readthedocs.io/en/latest/index.html>. This resource contains:\n",
    "\n",
    "* **API Reference** - explanation of all classes and functions included in VectoRose.\n",
    "* **User's Guide** - narrative explanations and code examples for using VectoRose.\n",
    "\n",
    "Make sure to check out the documentation! I wrote it to make it easier for you to learn how to use VectoRose and to explore what you can do with it.\n",
    "\n",
    "If you have any questions, feel free to reach out to me. If you find any software bugs, please open an issue on [GitHub](https://github.com/bzrudski/vectorose).\n",
    "\n",
    "Thank you very much for your participation!"
   ]
  }
 ],
 "metadata": {
  "kernelspec": {
   "display_name": "Python 3 (ipykernel)",
   "language": "python",
   "name": "python3"
  },
  "language_info": {
   "codemirror_mode": {
    "name": "ipython",
    "version": 3
   },
   "file_extension": ".py",
   "mimetype": "text/x-python",
   "name": "python",
   "nbconvert_exporter": "python",
   "pygments_lexer": "ipython3",
   "version": "3.12.11"
  },
  "widgets": {
   "application/vnd.jupyter.widget-state+json": {
    "state": {},
    "version_major": 2,
    "version_minor": 0
   }
  }
 },
 "nbformat": 4,
 "nbformat_minor": 5
}
