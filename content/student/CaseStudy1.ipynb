{
 "cells": [
  {
   "cell_type": "markdown",
   "id": "8bc0fc44-fce7-441b-9e6a-bfc7673d0791",
   "metadata": {},
   "source": [
    "# Case Study 1 - Simulated Fibre Data\n",
    "\n",
    "CRBS VectoRose Bootcamp\n",
    "\n",
    "Benjamin Z. Rudski <benjamin.rudski@mail.mcgill.ca>\n",
    "\n",
    "August 6, 2025\n",
    "\n",
    "In this notebook, we'll explore the basic functionality of VectoRose through the analysis of some artificial fibre data. These fibres have been constructed using [**Dragonfly 3D World**](https://dragonfly.comet.tech/en/products/dragonfly-3d-world), version 2024.1.\n",
    "\n",
    "## Outline\n",
    "\n",
    "This notebook shows all the major steps of a standard VectoRose workflow, from loading and cleaning data to analysing.\n",
    "\n",
    "Here's the outline for this notebook:\n",
    "\n",
    "1. Sample Data\n",
    "2. Getting Started with VectoRose\n",
    "3. Loading Vector Data\n",
    "5. Constructing Orientation Histograms\n",
    "6. Exporting Screenshots and Animations\n",
    "7. Orientation Filtering\n",
    "8. Computing Directional Statistics\n",
    "9. Polar Plotting (Optional)\n",
    "\n",
    "By following along this worked example, you should gain the skills necessary to apply VectoRose to your own data, regardless of the sample under study and the data acquisition methods used."
   ]
  },
  {
   "cell_type": "markdown",
   "id": "c0d9765c-4126-456b-bf3c-d5c226b9e85a",
   "metadata": {},
   "source": [
    "## Sample Data\n",
    "\n",
    "Before analysing the vectors, let's take a step back... The vectors reflect the architecture of some real, physical object. Let's take a look at that object in 3D! For starters, let's look at a video showing the simulated fibres and their orientations."
   ]
  },
  {
   "cell_type": "code",
   "execution_count": null,
   "id": "cb3ec7eb-04ef-4624-bef3-deeb7528d1ce",
   "metadata": {},
   "outputs": [],
   "source": [
    "from IPython.display import Video\n",
    "\n",
    "Video(\"../assets/CaseStudy1/RandomCylinders2.mp4\", width=720)"
   ]
  },
  {
   "cell_type": "markdown",
   "id": "ea25219e-5b53-4d48-948b-54ca944f0117",
   "metadata": {},
   "source": [
    "Note that the orientation colours correspond to the Cartesian axes, with red representing the *x*-axis, green representing the *y*-axis and blue representing the *z*-axis."
   ]
  },
  {
   "cell_type": "markdown",
   "id": "c6ee6d2c-e8aa-4f19-85c9-18eae441b4a7",
   "metadata": {},
   "source": [
    "We can also view the fibres interactively in 3D by taking take advantage of the [PyVista](https://docs.pyvista.org/) package. This package is built on the foundations of the [Visualization Toolkit](https://vtk.org/), which is a very fast and powerful visualisation library.\n",
    "\n",
    "I've provided a mesh showing our artificial fibres in the file [`assets/CaseStudy1/RandomCylinders2.ply`](assets/CaseStudy1/RandomCylinders2.ply).\n",
    "\n",
    "Let's import PyVista and visualise our structure:"
   ]
  },
  {
   "cell_type": "code",
   "execution_count": null,
   "id": "c61c1526-be31-468a-9258-5002585c718f",
   "metadata": {},
   "outputs": [],
   "source": [
    "import pyvista as pv\n",
    "\n",
    "mesh = pv.read(\"../assets/CaseStudy1/RandomCylinders2.ply\")\n",
    "mesh.plot()"
   ]
  },
  {
   "cell_type": "markdown",
   "id": "fe76dc15-34c1-40ab-9112-ea1ecb889d0f",
   "metadata": {},
   "source": [
    "So, we can see that we have a complicated mess of fibres, going in all sorts of different directions. Now, let's get started with the vectors!"
   ]
  },
  {
   "cell_type": "markdown",
   "id": "bc69bddc-efee-41af-aa6a-79e6f4076e3a",
   "metadata": {},
   "source": [
    "## Getting Started with VectoRose\n",
    "\n",
    "If you haven't already done so, make sure to install the `vectorose` package. This can be done easily in Jupyter Lab by running the following cell:"
   ]
  },
  {
   "cell_type": "code",
   "execution_count": null,
   "id": "f3e736b0-2117-4d95-9a78-cfac699b953b",
   "metadata": {},
   "outputs": [],
   "source": [
    "# Install vectorose\n",
    "# Only run this cell if you don't have vectorose installed.\n",
    "%pip install vectorose"
   ]
  },
  {
   "cell_type": "markdown",
   "id": "fa773535-8111-487f-98d8-44ad6c609aeb",
   "metadata": {},
   "source": [
    "And, as usual, the first thing we need to do is import our package. To save space, we will give `vectorose` the shorter name `vr` when we import it.\n",
    "\n",
    "> 📝 **Note**\\\n",
    "> This is just a convention. You can rename the package to anything else meaningful."
   ]
  },
  {
   "cell_type": "code",
   "execution_count": null,
   "id": "f6374450-240e-4c75-bef2-2d2e1cdb2390",
   "metadata": {},
   "outputs": [],
   "source": [
    "# Your code here to import vectorose\n"
   ]
  },
  {
   "cell_type": "markdown",
   "id": "5ed6f6a1-9776-482d-b45e-200e10854598",
   "metadata": {},
   "source": [
    "## Loading Vector Data\n",
    "\n",
    "To study the orientations of the fibres, I've computed an anisotropy field using [**Dragonfly 3D World**](https://dragonfly.comet.tech/en/product-overview/dragonfly-3d-world). These vectors are stored in a *binary NumPy file*, located at [`assets/CaseStudy1/RandomCylinders2_S5_R5_SMOOTH1_EIG_MASKED.npy`](assets/CaseStudy1/RandomCylinders2_S5_R5_SMOOTH1_EIG_MASKED.npy).\n",
    "\n",
    "To be able to work with vectors, first we need to load them into our Python session. To do this, we're going to use the function [`vr.io.import_vector_field`](https://vectorose.readthedocs.io/en/latest/autoapi/vectorose/io/index.html#vectorose.io.import_vector_field). For more details about the types of files that can contain vector data and how to format vectors in these files, make sure to check out the VectoRose [**User's Guide**](https://vectorose.readthedocs.io/en/latest/users_guide/data_format.html)."
   ]
  },
  {
   "cell_type": "code",
   "execution_count": null,
   "id": "8b8a6fbd-8e82-424d-8ecf-f321252f470e",
   "metadata": {},
   "outputs": [],
   "source": [
    "vectors_filename = \"../assets/CaseStudy1/RandomCylinders2_S5_R5_SMOOTH1_EIG_MASKED.npy\"\n",
    "\n",
    "# Your code here to load the vectors\n"
   ]
  },
  {
   "cell_type": "markdown",
   "id": "3a0a5c00-59e9-4124-9af6-d00455b6f074",
   "metadata": {},
   "source": [
    "We can now see that we have an array containing 18 716 vectors. The first three columns correspond to the spatial `x`, `y`, `z` coordinates, while the last three correspond to the vector `x`, `y`, `z` components."
   ]
  },
  {
   "cell_type": "markdown",
   "id": "9a2d524c-60d9-43d1-b24d-b3c749e51829",
   "metadata": {},
   "source": [
    "Now that we have the vectors loaded, we can start performing he analysis. But we need to be careful! We can't analyse the orientations of any vectors with zero magnitude... since they don't have orientation. So, we need to perform a pruning step. We'll call the function [`vr.util.remove_zero_vectors`](https://vectorose.readthedocs.io/en/latest/autoapi/vectorose/util/index.html#vectorose.util.remove_zero_vectors) to perform this step."
   ]
  },
  {
   "cell_type": "code",
   "execution_count": null,
   "id": "0d2e8dca-b8f6-4a32-b90b-aa6ef47037d3",
   "metadata": {},
   "outputs": [],
   "source": [
    "# Your code here to remove zero-vectors\n"
   ]
  },
  {
   "cell_type": "markdown",
   "id": "2c84577f-608a-4ebc-95ca-1a8e188862bd",
   "metadata": {},
   "source": [
    "We can see that we now have 18 711 vectors, so we've removed a few vectors with zero magnitude."
   ]
  },
  {
   "cell_type": "markdown",
   "id": "35def00d-8a68-48d4-97e8-4e732c24bbbb",
   "metadata": {},
   "source": [
    "There's one last processing step that we'd like to do. Our fibres don't actually have any inherent *direction*. So, we want to make sure that all antiparallel vectors are considered as the same. To do this, we will flip all vectors with a negative `z`-component so that all vectors lie in the upper hemisphere. Since we're doing this to convert vectorial data into axial data, we'll be using the function [`vr.util.convert_vectors_to_axes`](https://vectorose.readthedocs.io/en/latest/autoapi/vectorose/util/index.html#vectorose.util.convert_vectors_to_axes)."
   ]
  },
  {
   "cell_type": "code",
   "execution_count": null,
   "id": "a476b9ea-33a2-4aee-a560-0d06c11df349",
   "metadata": {},
   "outputs": [],
   "source": [
    "# Your code here to convert vectors to axes\n"
   ]
  },
  {
   "cell_type": "markdown",
   "id": "61bb259a-3aa4-471a-a9fa-c88228ccbda3",
   "metadata": {},
   "source": [
    "As you can see, all vectors now have a positive `z`-component. All our vectors now lie in the upper hemisphere.\n",
    "\n",
    "While this will be helpful for computing statistics, it will make the spherical visualisations a bit less exciting. Well, we can duplicate the vectors and create flipped copies on the bottom hemisphere to make sure that we get histograms plotted on the full sphere. We'll use the function [`vr.util.create_symmetric_vectors_from_axes`](https://vectorose.readthedocs.io/en/latest/autoapi/vectorose/util/index.html#vectorose.util.create_symmetric_vectors_from_axes)."
   ]
  },
  {
   "cell_type": "code",
   "execution_count": null,
   "id": "e35a64df-836f-46b0-9147-477b787afa7e",
   "metadata": {},
   "outputs": [],
   "source": [
    "# Your code here to create symmetric vectors\n"
   ]
  },
  {
   "cell_type": "markdown",
   "id": "a55bdb7c-93fe-4e84-9c74-95378bfc73e2",
   "metadata": {},
   "source": [
    "Now you can see that we have twice as many vectors as before! Now that we've done all this pre-processing, we can begin analysing our data!"
   ]
  },
  {
   "cell_type": "markdown",
   "id": "eda441cd-04aa-4c29-b336-d970f56dd2c5",
   "metadata": {},
   "source": [
    "## Constructing Orientation Histograms\n",
    "\n",
    "We'll now begin the process of constructing an orientation histogram. Remember that one of the key features of a histogram is the binning. A histogram shows the frequency of the data in each bin. When we're talking about orientations and directions, we need to assign the data to bins on the surface of a sphere.\n",
    "\n",
    "There are many different ways of defining these bins. One such way involves a (largely) rectangular tiling, based on the work by [Beckers & Beckers (2012)](10.1016/j.comgeo.2012.01.011), known as a *Tregenza sphere*. In VectoRose, we can create different Tregenza spheres with different-sized bins. We'll focus primarly on the [`FineTregenzaSphere`](https://vectorose.readthedocs.io/en/latest/autoapi/vectorose/tregenza_sphere/index.html#vectorose.tregenza_sphere.FineTregenzaSphere). This sphere representation consists of 54 rings, containing a total of 5806 bins.\n",
    "\n",
    "Let's now create a `FineTregenzaSphere` so that we can compute our histograms:"
   ]
  },
  {
   "cell_type": "code",
   "execution_count": null,
   "id": "4951123e-d68b-4f92-9de4-08c5e26ca744",
   "metadata": {},
   "outputs": [],
   "source": [
    "# Your code here for generating a FineTregenzaSphere\n"
   ]
  },
  {
   "cell_type": "markdown",
   "id": "4b582d01-dbeb-4269-9c3c-f4aeb2368d4c",
   "metadata": {},
   "source": [
    "Now, we can assign our vectors to different orientation bins using the method [`assign_histogram_bins`](https://vectorose.readthedocs.io/en/latest/autoapi/vectorose/sphere_base/index.html#vectorose.sphere_base.SphereBase.assign_histogram_bins). This method returns **two** objects, with the first being the labelled vectors. We'll discuss the second object in another example.\n",
    "\n",
    "Let's now assign our vectors to bins!"
   ]
  },
  {
   "cell_type": "code",
   "execution_count": null,
   "id": "0b69ab1f-9e28-4325-b5d3-3950f76e032e",
   "metadata": {},
   "outputs": [],
   "source": [
    "# Your code here to assign vectors to orientation bins\n"
   ]
  },
  {
   "cell_type": "markdown",
   "id": "1014b814-7237-4838-a6db-eaedb94f0b1e",
   "metadata": {},
   "source": [
    "We can see that our vectors are now a bit different... Instead of a simple array, we have something that looks more like a spreadsheet. This is a `DataFrame`, included in the pandas package. We can see that our vectors are now represented using their spatial locations (**x**, **y**, **z**), as well as their orientations (**phi**, **theta**) and lengths (**magnitude**).\n",
    "\n",
    "We also have the three histogram-related columns **shell**, **ring**, **bin**. We won't worry about the **shell** right now, since we're only focussing on orientation. The **ring** and the **bin** tell us where in the Tregenza sphere our vectors land. These columns are really important for building our histograms!\n",
    "\n",
    "Now that we have our data assigned to bins, we need to figure out how many vectors are in each bin to construct a histogram. Thankfully, we don't have to do any of these calculations ourselves! VectoRose takes care of everything. We can construct our orientation histogram using the method [`construct_marginal_orientation_histogram`](https://vectorose.readthedocs.io/en/latest/autoapi/vectorose/sphere_base/index.html#vectorose.sphere_base.SphereBase.construct_marginal_orientation_histogram) defined on the `FineTregenzaSphere`."
   ]
  },
  {
   "cell_type": "code",
   "execution_count": null,
   "id": "db6b686d-8445-4dcf-95c4-9f8ff62a126e",
   "metadata": {},
   "outputs": [],
   "source": [
    "# Your code here to compute the orientation histogram\n"
   ]
  },
  {
   "cell_type": "markdown",
   "id": "450e7db5-d620-48e2-a57c-111def74306a",
   "metadata": {},
   "source": [
    "We now have a single column with fractions represented as decimals. Each row contains the fraction of vectors lying in each face of the sphere. Notice how we have a multi-level index, where we are looking by ring, and then by bin in the ring.\n",
    "\n",
    "We can make sure that everything makes sense here by checking the sum of all these entries. We expect that the total sum of the fractions should equal 1."
   ]
  },
  {
   "cell_type": "code",
   "execution_count": null,
   "id": "fe33f1e2-988e-4204-b01d-2ad5b85cf031",
   "metadata": {},
   "outputs": [],
   "source": [
    "# Your code here to check the sum of all entries\n"
   ]
  },
  {
   "cell_type": "markdown",
   "id": "d47b8086-17d2-416c-8634-b07f30166b7c",
   "metadata": {},
   "source": [
    "Yay! It worked!\n",
    "\n",
    "So, we have all the data that we need to create our histogram, but we still have a small problem... we're looking at a flat list of numbers. But we want a nice visual, 3D spherical histogram.\n",
    "\n",
    "We can construct this histogram quite easily.\n",
    "\n",
    "First, we need to create a mesh of the sphere we want to visualise using the method [`create_shell_mesh`](https://vectorose.readthedocs.io/en/latest/autoapi/vectorose/sphere_base/index.html#vectorose.sphere_base.SphereBase.create_shell_mesh)."
   ]
  },
  {
   "cell_type": "code",
   "execution_count": null,
   "id": "a6e3ff98-79fe-40c2-9ff4-f4fb9db0ff60",
   "metadata": {},
   "outputs": [],
   "source": [
    "# Your code here to construct the histogram mesh\n"
   ]
  },
  {
   "cell_type": "markdown",
   "id": "9dad4e43-2070-4f5b-8243-8b9bdde571d9",
   "metadata": {},
   "source": [
    "Now that we have the mesh, we must plot it. We could do this directly using PyVista, like we did in the intro. But VectoRose provides a [`SpherePlotter`](https://vectorose.readthedocs.io/en/latest/autoapi/vectorose/plotting/index.html#vectorose.plotting.SpherePlotter) class that helps with some of the plotting tasks that we'll see.\n",
    "\n",
    "> ⚠️ **Warning**\\\n",
    "> It is super important that after creating the `SpherePlotter`, you **must** call the method [`produce_plot`](https://vectorose.readthedocs.io/en/latest/autoapi/vectorose/plotting/index.html#vectorose.plotting.SpherePlotter.produce_plot). Otherwise, you won't be able to see the histogram."
   ]
  },
  {
   "cell_type": "code",
   "execution_count": null,
   "id": "468b46c5-9076-4ed9-bee6-95305b14546d",
   "metadata": {},
   "outputs": [],
   "source": [
    "# Your code here to produce the SpherePlotter\n"
   ]
  },
  {
   "cell_type": "markdown",
   "id": "e5732f92-9cf6-482a-876c-b0940af1778c",
   "metadata": {},
   "source": [
    "We did it! Now we have a spherical histogram! We can see bright spots representing the different fibres observed in our dataset.\n",
    "\n",
    "Confused about the angles? Well, we can add some spherical axes using the [`add_spherical_axes`](https://vectorose.readthedocs.io/en/latest/autoapi/vectorose/plotting/index.html#vectorose.plotting.SpherePlotter.add_spherical_axes) method."
   ]
  },
  {
   "cell_type": "code",
   "execution_count": null,
   "id": "ab29b291-1c2f-444f-8118-7057640e5178",
   "metadata": {},
   "outputs": [],
   "source": [
    "# Your code here to add spherical axes\n"
   ]
  },
  {
   "cell_type": "markdown",
   "id": "3ae017ee-5037-425f-b6ac-2d614b861301",
   "metadata": {},
   "source": [
    "Congratulations! You've just created your first orientation histogram plot 🎉!\n",
    "\n",
    "> 💡 **Tip**\\\n",
    "> Don't lose track of this plotter. We'll come back to it in later sections."
   ]
  },
  {
   "cell_type": "markdown",
   "id": "25649762-86db-42b4-a3f5-b0b0bee1f4ee",
   "metadata": {},
   "source": [
    "## Exporting Screenshots and Animations\n",
    "\n",
    "At this point, we have a 3D spherical histogram that is fun to interact with, but it only lives in our Jupyter notebook. If we stop the notebook and reopen it, we no longer have access to our plotter. How can we save our insights for later use?\n",
    "\n",
    "Good news! With VectoRose, it's easy to save images from plotters, and even to generate videos. In this section, we'll see the basics of these tasks."
   ]
  },
  {
   "cell_type": "markdown",
   "id": "3b03aa0e-bb56-495f-ae68-d7f47066682d",
   "metadata": {},
   "source": [
    "### Exporting Screenshots\n",
    "\n",
    "A picture is worth a thousand words...\n",
    "\n",
    "VectoRose contains two methods for saving screenshots:\n",
    "\n",
    "* [`SpherePlotter.export_screenshot`](https://vectorose.readthedocs.io/en/latest/autoapi/vectorose/plotting/index.html#vectorose.plotting.SpherePlotter.export_screenshot) - export raster images of plots, such as `PNG` or `TIFF`.\n",
    "* [`SpherePlotter.export_graphic`](https://vectorose.readthedocs.io/en/latest/autoapi/vectorose/plotting/index.html#vectorose.plotting.SpherePlotter.export_graphic) - export vector graphics of plots, such as `PDF` or `SVG`.\n",
    "\n",
    "> ⚠️ **Attention**\\\n",
    "> When exporting to a vector graphics format, the plot is still rendered as a raster image. However, any text becomes easily editable (and does not look pixelated).\n",
    "\n",
    "Let's see some examples with our previous plot."
   ]
  },
  {
   "cell_type": "code",
   "execution_count": null,
   "id": "0c99b5a2-9df6-4871-b437-8b7ace4cbac6",
   "metadata": {},
   "outputs": [],
   "source": [
    "# Your code here to save a screenshot\n"
   ]
  },
  {
   "cell_type": "markdown",
   "id": "357ed392-eece-4d86-beeb-af875f6caa05",
   "metadata": {},
   "source": [
    "Let's now take a quick look at our image..."
   ]
  },
  {
   "cell_type": "code",
   "execution_count": null,
   "id": "bb0bba5f-dffd-45b4-91a4-77127307ec8c",
   "metadata": {},
   "outputs": [],
   "source": [
    "import matplotlib.pyplot as plt\n",
    "import PIL\n",
    "\n",
    "im = PIL.Image.open(\"simulated_fibres.png\")\n",
    "\n",
    "plt.imshow(im)\n",
    "plt.show()"
   ]
  },
  {
   "cell_type": "code",
   "execution_count": null,
   "id": "c75bfe8a-6d55-4080-92bb-71bff900087a",
   "metadata": {},
   "outputs": [],
   "source": [
    "# Your code here to save PDF\n"
   ]
  },
  {
   "cell_type": "markdown",
   "id": "e7ca2fd1-3b9e-4b0d-9697-a24f6ca0f19f",
   "metadata": {},
   "source": [
    "These functions both have different parameters that can be set. Make sure to check out the documentation to learn more about all the possibilities."
   ]
  },
  {
   "cell_type": "markdown",
   "id": "e36ab6fe-babe-4340-86e0-f0b2098f5e32",
   "metadata": {},
   "source": [
    "### Exporting Animations\n",
    "\n",
    "So... a picture is worth a thousand words... about the side of the sphere that is currently visible!\n",
    "\n",
    "In a screenshot, we can only see one side of the spherical orientation histogram. What if we want to view the sphere from many different angles?\n",
    "\n",
    "Well... a video is worth a thousand pictures! We can create animations that show the orientation histogram from many different perspectives. The simplest type of video we can create is a *rotation animation*. We do this using the method [`produce_rotating_video`](https://vectorose.readthedocs.io/en/latest/autoapi/vectorose/plotting/index.html#vectorose.plotting.SpherePlotter.produce_rotating_video).\n",
    "\n",
    "Make sure to check out the documentation to learn about the various parameters.\n",
    "\n",
    "The first parameter is the output filename, which must either be a an `mp4` or `gif` file."
   ]
  },
  {
   "cell_type": "code",
   "execution_count": null,
   "id": "c85904b3-734d-40f9-b07e-d34540fc4318",
   "metadata": {},
   "outputs": [],
   "source": [
    "# Your code here to create a rotating animation\n"
   ]
  },
  {
   "cell_type": "markdown",
   "id": "2da9d9c0-1aff-4480-a25b-b7e62891c767",
   "metadata": {},
   "source": [
    "And now, let's take a look at the video we've produced."
   ]
  },
  {
   "cell_type": "code",
   "execution_count": null,
   "id": "ef93a65f-ddf6-465c-9511-784cce7db85c",
   "metadata": {},
   "outputs": [],
   "source": [
    "Video(\"rotating_sphere.mp4\", html_attributes=\"loop autoplay controls\")"
   ]
  },
  {
   "cell_type": "markdown",
   "id": "e5596852-54c7-4b9e-815a-162140e2c35f",
   "metadata": {},
   "source": [
    "We can now see the sphere rotating about its axis and examine the results more easily."
   ]
  },
  {
   "cell_type": "markdown",
   "id": "416383fd-a82f-409b-b92f-5b7d3d0b211f",
   "metadata": {},
   "source": [
    "## Orientation Filtering\n",
    "\n",
    "Looking at the orientation histogram, we see a bunch of spots. Thinking back to our data, what do these different spots represent?\n",
    "\n",
    "Well, our data consist of perfectly straight fibres in different orientations. So, it would stand to reason that the different bright spots correspond to fibres in different orientations.\n",
    "\n",
    "Wouldn't it be nice if we could manually select these different bright spots and then extract the corresponding vectors?\n",
    "\n",
    "Let's see how we can do this sort of **orientation filtering** with VectoRose."
   ]
  },
  {
   "cell_type": "markdown",
   "id": "ede8ef40-c6b2-4977-8fb1-437302ae256a",
   "metadata": {},
   "source": [
    "### Enabling Cell Picking\n",
    "\n",
    "The first thing we need to do is enable cell picking. We do this by setting the property [`cell_picking_active`](https://vectorose.readthedocs.io/en/latest/autoapi/vectorose/plotting/index.html#vectorose.plotting.SpherePlotter.cell_picking_active) to `True` on the `SpherePlotter`."
   ]
  },
  {
   "cell_type": "code",
   "execution_count": null,
   "id": "6f77ef22-61e2-448d-8138-c191b73021c7",
   "metadata": {},
   "outputs": [],
   "source": [
    "# Your code here to enable cell picking\n"
   ]
  },
  {
   "cell_type": "markdown",
   "id": "1a8334ed-2d4c-46db-bf3c-de1d9eb74b99",
   "metadata": {},
   "source": [
    "Now, let's go back up to our sphere plotter. If we **right-click** on a face, we see that it becomes outlined in magenta. If we click again, the outline disappears.\n",
    "\n",
    "By right-clicking, we can select and deselect cells.\n",
    "\n",
    "> ⚠️ **Warning**\\\n",
    "> Don't forget, you must **right-click** to select cells.\n"
   ]
  },
  {
   "cell_type": "markdown",
   "id": "4831dfdf-5bed-42d8-9a84-2143f61b2496",
   "metadata": {},
   "source": [
    "### Extracting Vectors from Picked Cells\n",
    "\n",
    "Choose a patch of faces that you are interested in exploring further. Select the cells by right-clicking. Now, we'll see how to extract the vectors that are only aligned with that orientation.\n",
    "\n",
    "The cells that we've selected are stored in the [`picked_cells`](https://vectorose.readthedocs.io/en/latest/autoapi/vectorose/plotting/index.html#vectorose.plotting.SpherePlotter.cell_picking_active) property of the `SpherePlotter`. Let's look at the cells we've selected."
   ]
  },
  {
   "cell_type": "code",
   "execution_count": null,
   "id": "51d0e02d-8c4a-4473-b871-7346678a4d3d",
   "metadata": {},
   "outputs": [],
   "source": [
    "# Your code here to get the selected cells\n"
   ]
  },
  {
   "cell_type": "markdown",
   "id": "832752eb-8878-4df9-b556-de4cf343cb55",
   "metadata": {},
   "source": [
    "So, we can see for each cell we've selected what the bin, ring and frequency are. Using our `FineTregenzaSphere`, we can extract the vectors falling in those bins using the method [`get_vectors_from_selected_cells`](https://vectorose.readthedocs.io/en/latest/autoapi/vectorose/sphere_base/index.html#vectorose.sphere_base.SphereBase.get_vectors_from_selected_cells)."
   ]
  },
  {
   "cell_type": "code",
   "execution_count": null,
   "id": "c811b33c-947f-447e-8e30-52ce55efa899",
   "metadata": {},
   "outputs": [],
   "source": [
    "# Your code here to extract the vectors\n",
    "\n",
    "selected_vectors = my_sphere.get_vectors_from_selected_cells(labelled_vectors, selected_cells)\n",
    "\n",
    "selected_vectors"
   ]
  },
  {
   "cell_type": "markdown",
   "id": "9c300df8-c8cb-4495-80dd-5f7f0b728111",
   "metadata": {},
   "source": [
    "We can now see that there are much fewer vectors in our selected dataset. We can also use the locations to plot where these vectors lie in our dataset in 3D."
   ]
  },
  {
   "cell_type": "code",
   "execution_count": null,
   "id": "1b571615-5a8e-43f4-abaa-b3f7411864f8",
   "metadata": {},
   "outputs": [],
   "source": [
    "mesh_plotter = pv.Plotter()\n",
    "mesh_plotter.add_mesh(mesh, opacity=0.5)\n",
    "\n",
    "vector_locations = selected_vectors[[\"x\", \"y\", \"z\"]].to_numpy()\n",
    "vector_locations_mesh = pv.PointSet(vector_locations)\n",
    "mesh_plotter.add_mesh(vector_locations_mesh, color=\"red\", render_points_as_spheres=True)\n",
    "mesh_plotter.show()"
   ]
  },
  {
   "cell_type": "markdown",
   "id": "a5f4c513-4025-4afb-b74e-31c192d263b0",
   "metadata": {},
   "source": [
    "We can now see that most of the vectors we've extracted are contained within a single fibre. So, for clean data, we can easily perform orientation filtering."
   ]
  },
  {
   "cell_type": "markdown",
   "id": "8ae48742-a205-4518-ac8f-c06d0992ece4",
   "metadata": {},
   "source": [
    "## Computing Directional Statistics\n",
    "\n",
    "So far, we've seen how to visualise collections of vectorial data. Spherical histograms give us a great way to quickly see how our data are distributed. However, sometimes, we want to put numbers on things. Let's start applying some directional statistics to our collection of orientation vectors."
   ]
  },
  {
   "cell_type": "markdown",
   "id": "174213d2-327e-4e2b-b038-2d28b87d4823",
   "metadata": {},
   "source": [
    "### Preparing Data for Statistical Analysis\n",
    "\n",
    "Before computing statistics, we need to get our data into the right format. We need to get the vector components in cartesian form. Since we are looking at statistics for pure orientations, we need to consider **unit vectors**. We also need to consider the original, **unduplicated** axes.\n",
    "\n",
    "We'll create a collection of unit vectors using the function [`vr.util.normalise_vectors`](https://vectorose.readthedocs.io/en/latest/autoapi/vectorose/util/index.html#vectorose.util.normalise_vectors)."
   ]
  },
  {
   "cell_type": "code",
   "execution_count": null,
   "id": "29f70e31-eaea-4c30-a244-93b45b4afc8b",
   "metadata": {},
   "outputs": [],
   "source": [
    "# Your code here to get unit axes\n"
   ]
  },
  {
   "cell_type": "markdown",
   "id": "f06a232e-1504-48fd-a9a5-f596740ff663",
   "metadata": {},
   "source": [
    "### Computing the Mean Resultant Vector\n",
    "\n",
    "We can compute a few different statistical measurements. Let's start with computing the mean resultant vector. We can do this using the function [`vr.stats.compute_resultant_vector`](https://vectorose.readthedocs.io/en/latest/autoapi/vectorose/stats/index.html#vectorose.stats.compute_resultant_vector)."
   ]
  },
  {
   "cell_type": "code",
   "execution_count": null,
   "id": "2c00f83f-8e4d-46fb-9965-3a8ee94ae11e",
   "metadata": {},
   "outputs": [],
   "source": [
    "# Your code here to compute the mean resultant vector\n"
   ]
  },
  {
   "cell_type": "markdown",
   "id": "85bf746d-bef8-4462-9085-e6ec2a0a41da",
   "metadata": {},
   "source": [
    "We can now see that the mean resultant vector has a fairly short length. This makes sense, given the diverse fibre orientations.\n",
    "\n",
    "The orientation is fairly close to the sphere pole (think about just how close 4.5° is to the pole). This also makes sense. We're considering **orientations**, not directions, so all our vectors are in the upper hemisphere. So, the **Z**-components can't cancel each other out."
   ]
  },
  {
   "cell_type": "markdown",
   "id": "320016a5-3b12-4b51-b9fd-9dec9ab60be2",
   "metadata": {},
   "source": [
    "### Computing Woodcock's Shape and Strength Parameters\n",
    "\n",
    "The mean resultant vector gives us a quick way to assess the level of coalignment of the vectors. But if we want a clearer picture of the overall shape of the distribution, we can compute the **orientation matrix** and Woodcock's **shape and strength parameters** based on the orientation matrix eigenvalues.\n",
    "\n",
    "We can first compute the orientation matrix eigen-decomposition by calling the function [`vr.stats.compute_orientation_matrix_eigs`](https://vectorose.readthedocs.io/en/latest/autoapi/vectorose/stats/index.html#vectorose.stats.compute_orientation_matrix_eigs). Then, we can compute the shape and strength parameters by calling the function [`compute_orientation_matrix_parameters`](https://vectorose.readthedocs.io/en/latest/autoapi/vectorose/stats/index.html#vectorose.stats.compute_orientation_matrix_parameters).\n",
    "\n",
    "Let's see how to do it:"
   ]
  },
  {
   "cell_type": "code",
   "execution_count": null,
   "id": "da1397ca-212b-42a8-b07c-0dc4f01520e6",
   "metadata": {},
   "outputs": [],
   "source": [
    "# Your code here to compute Woodcock's shape and strength parameters\n"
   ]
  },
  {
   "cell_type": "markdown",
   "id": "60032411-def0-4140-a046-4ef9a51ec398",
   "metadata": {},
   "source": [
    "The strength parameter is quite low, indicating that the distribution is fairly uniform.\n",
    "\n",
    "Let's try doing the same thing, but with the vectors we extracted for a single fibre. To convert these to unit vectors, we'll use a different approach. We can convert the filtered vectors `DataFrame` to an array containing unit vectors using the [`convert_vectors_to_cartesian_array`](https://vectorose.readthedocs.io/en/latest/autoapi/vectorose/sphere_base/index.html#vectorose.sphere_base.SphereBase.convert_vectors_to_cartesian_array) method of our sphere representation."
   ]
  },
  {
   "cell_type": "code",
   "execution_count": null,
   "id": "f72e9b60-4f30-4993-b186-6140616536cb",
   "metadata": {},
   "outputs": [],
   "source": [
    "unit_filtered_vectors = my_sphere.convert_vectors_to_cartesian_array(\n",
    "    selected_vectors, create_unit_vectors=True\n",
    ")\n",
    "\n",
    "eigs, _ = vr.stats.compute_orientation_matrix_eigs(unit_filtered_vectors)\n",
    "params = vr.stats.compute_orientation_matrix_parameters(eigs)\n",
    "\n",
    "print(f\"Strength parameter: {params.strength_parameter}\")\n",
    "print(f\"Shape parameter: {params.shape_parameter}\")"
   ]
  },
  {
   "cell_type": "markdown",
   "id": "a655400d-1412-43ef-bf30-6609e7301dd3",
   "metadata": {},
   "source": [
    "So, when we look within a narrow window, we get a very strong cluster at a single location.\n",
    "\n",
    "So... What else can we do with these filtered vectors?"
   ]
  },
  {
   "cell_type": "markdown",
   "id": "36dc372c-6be6-4b6f-8396-bb3ecca5cf22",
   "metadata": {},
   "source": [
    "### Estimating VMF Parameters\n",
    "\n",
    "Well, since we have vectors around a single direction, we could estimate the parameters for a von Mises-Fisher distribution. Recall that this distribution is similar to the Gaussian distribution. We have two parameters:\n",
    "\n",
    "* $\\mu$ - the mean direction\n",
    "* $\\kappa$ - the concentration parameter (higher = more compact cluster)\n",
    "\n",
    "In VectoRose, we can estimate these parameters using the function [`vr.stats.fit_fisher_vonmises_distribution`](https://vectorose.readthedocs.io/en/latest/autoapi/vectorose/stats/index.html#vectorose.stats.fit_fisher_vonmises_distribution). Let's do this for our original data and for our filtered data."
   ]
  },
  {
   "cell_type": "code",
   "execution_count": null,
   "id": "ee174226-b5ad-4528-8671-b05d236b5fa1",
   "metadata": {},
   "outputs": [],
   "source": [
    "# Your code here to compute the VMF parameters for original data\n"
   ]
  },
  {
   "cell_type": "code",
   "execution_count": null,
   "id": "aa63196a-54e7-4024-8c2f-911d64259c82",
   "metadata": {},
   "outputs": [],
   "source": [
    "# Your code here to compute the VMF parameters for the filtered data\n"
   ]
  },
  {
   "cell_type": "markdown",
   "id": "8843e320-1ca5-48be-ab13-1996d9bc4c04",
   "metadata": {},
   "source": [
    "These results shouldn't be very surprising.\n",
    "\n",
    "Since we have fibres aligned in many different orientations, we get a very low concentration parameter in the first example.\n",
    "\n",
    "Since we then selected vectors that are very closely aligned with each other, it makes sense that the concentration parameter is much higher.\n",
    "\n",
    "> ⚠️ **Warning**\\\n",
    "> This was an artificial example just to demonstrate differences in the results. In practice, doing a calculation like this introduces **bias** into your dataset. We knew *a priori* that we would get a high concentration parameter simply by virtue of selecting vectors that are co-aligned in a small neighbourhood. Think very carefully about your statistical workflow and whether fitlering will unnecessarily bias your results.\n",
    "\n",
    "\n",
    "There are other statistical routines implemented in VectoRose. Make sure to check out the documentation for the [`vr.stats`](https://vectorose.readthedocs.io/en/latest/autoapi/vectorose/stats/index.html) module, as well as the [Users' Guide](https://vectorose.readthedocs.io/en/latest/users_guide/statistics.html) page on statistics."
   ]
  },
  {
   "cell_type": "markdown",
   "id": "130af8b4-638b-45e6-9187-4b7918df79c3",
   "metadata": {},
   "source": [
    "## Polar Plotting (Optional)\n",
    "\n",
    "Up until now, we've been focussing on looking at orientation in 3D. But, sometimes, you may want to look at the orientation a bit differently...\n",
    "\n",
    "Orientation in 3D can be defined in two different ways:\n",
    "\n",
    "* Cartesian coordinates: the familiar *x*, *y*, *z* system\n",
    "* Spherical coordinates: a length (*r*) and two angles ($\\phi$, $\\theta$)\n",
    "\n",
    "These two angles represent different aspects of the orientation:\n",
    "\n",
    "* $\\phi$ - the **angle of inclination**, measured downwards from the positive *z*-axis (0°) to the *xy*-plane (90°, for axial data) or the negative *z*-axis (180°, for vectorial data).\n",
    "* $\\theta$ - the **azimuthal angle**, measured in the *xy*-plane as the clockwise angle from the positive *y*-axis (0° and 360°).\n",
    "\n",
    "While these two angles are used to define orientations in 3D, we can also construct **polar histograms** of each angle separately. In VectoRose, most of the heavy lifting is done by the [`vr.polar_data`](https://vectorose.readthedocs.io/en/latest/autoapi/vectorose/polar_data/index.html) module.\n",
    "\n",
    "We'll see how to assign vectors to angular bins and then how to visualise the resulting polar histograms."
   ]
  },
  {
   "cell_type": "markdown",
   "id": "7f9eb99a-8d95-4165-bf29-1de239230b96",
   "metadata": {},
   "source": [
    "### Assigning Polar Histogram Bins\n",
    "\n",
    "To assign polar histogram bins, we need to create a [`PolarDiscretiser`](https://vectorose.readthedocs.io/en/latest/autoapi/vectorose/polar_data/index.html#vectorose.polar_data.PolarDiscretiser). Similar to our `FineTregenzaSphere` from earlier, this object is responsible for labelling vectors and computing histograms. Based on the documentation, we need to provide:\n",
    "\n",
    "* the number of bins we want for the $\\phi$ histogram\n",
    "* the number of bins we want for the $\\theta$ histogram\n",
    "* an indication of whether the data are axial\n",
    "\n",
    "Let's now create a `PolarDiscretiser` for our simulated fibre data. We'll set there to be 10 bins along the $\\phi$ axis and 36 bins along the $\\theta$ axis, so that our bins each contain 10 degrees.\n",
    "\n",
    "> ⚠️ **Attention**\\\n",
    "> For technical reasons, we need an extra bin in the $\\phi$ axis to account for any vectors that are perfectly aligned with the last bin edge. Though this may be rare in real-world data, it can occur in simulated vectors.\n"
   ]
  },
  {
   "cell_type": "code",
   "execution_count": null,
   "id": "02700234-4531-4cc9-b866-7f391abc6e03",
   "metadata": {},
   "outputs": [],
   "source": [
    "# Your code here to construct a polar discretiser\n"
   ]
  },
  {
   "cell_type": "markdown",
   "id": "6b40082e-e467-4c77-86c3-5dd015627b17",
   "metadata": {},
   "source": [
    "Now, like with our Tregenza sphere earlier, we can use the method [`assign_histogram_bins`](https://vectorose.readthedocs.io/en/latest/autoapi/vectorose/polar_data/index.html#vectorose.polar_data.PolarDiscretiser.assign_histogram_bins). Unlike when working with the 3D spherical plots, we will work with the **unduplicated axes**."
   ]
  },
  {
   "cell_type": "code",
   "execution_count": null,
   "id": "9694c3b2-b397-4403-b0e3-808bdf5e0d1c",
   "metadata": {},
   "outputs": [],
   "source": [
    "# Your code here to assign bins to the vectors\n"
   ]
  },
  {
   "cell_type": "markdown",
   "id": "5c26e456-51d7-466f-87be-50c4ba5281ce",
   "metadata": {},
   "source": [
    "Like before, we now have a `DataFrame` containing the vectors and their associated bins."
   ]
  },
  {
   "cell_type": "markdown",
   "id": "09f38453-031f-460a-8a7c-f022bffb7508",
   "metadata": {},
   "source": [
    "### Computing Polar Histograms\n",
    "\n",
    "We can now gather the bin information and construct $\\phi$ and $\\theta$ histograms using the `PolarDiscretiser` methods [`construct_phi_histogram`](https://vectorose.readthedocs.io/en/latest/autoapi/vectorose/polar_data/index.html#vectorose.polar_data.PolarDiscretiser.construct_phi_histogram) and [`construct_theta_histogram`](https://vectorose.readthedocs.io/en/latest/autoapi/vectorose/polar_data/index.html#vectorose.polar_data.PolarDiscretiser.construct_theta_histogram)."
   ]
  },
  {
   "cell_type": "code",
   "execution_count": null,
   "id": "2465c5a1-b8d9-4a54-b8b9-04d2156a2875",
   "metadata": {},
   "outputs": [],
   "source": [
    "# Your code here to construct the phi histogram\n"
   ]
  },
  {
   "cell_type": "code",
   "execution_count": null,
   "id": "e89bd9f6-116a-4cb1-974b-316f7688879e",
   "metadata": {},
   "outputs": [],
   "source": [
    "# Your code here to construct the theta histogram\n"
   ]
  },
  {
   "cell_type": "markdown",
   "id": "2d8c7a97-e0cd-4901-a90e-4c7d60529ac1",
   "metadata": {},
   "source": [
    "So, we can now see how many vectors fall into each polar bin, as both counts and frequencies.\n",
    "\n",
    "But... this isn't **yet** a plot..."
   ]
  },
  {
   "cell_type": "markdown",
   "id": "4f651ef0-8351-4a79-9e8c-af58b067ea76",
   "metadata": {},
   "source": [
    "### Visualising Polar Histograms\n",
    "\n",
    "The final step here is to create visual polar plots of the histogram data. While we could manually do this with Matplotlib, VectoRose provides some helpful functions to make the process easier.\n",
    "\n",
    "We can easily create a single figure with both the $\\phi$ and $\\theta$ histograms using the function [`vr.plotting.produce_phi_theta_polar_histogram_plots`](https://vectorose.readthedocs.io/en/latest/autoapi/vectorose/plotting/index.html#vectorose.plotting.produce_phi_theta_polar_histogram_plots).\n",
    "\n",
    "While this function has lots of different parameters, the most important ones for us are the first two: the $\\phi$ histogram data and the $\\theta$ histogram data.\n",
    "\n",
    "Another helpful parameter is `use_counts`, where we can set whether we want the histogram to show counts or fractions.\n",
    "\n",
    "Let's use this function to visualise our polar histograms."
   ]
  },
  {
   "cell_type": "code",
   "execution_count": null,
   "id": "ea1ad342-8d5f-423e-989c-b6a2e2e5b633",
   "metadata": {},
   "outputs": [],
   "source": [
    "# Your code here to visualise the polar histograms\n"
   ]
  },
  {
   "cell_type": "markdown",
   "id": "ec5653b2-bac1-4a42-a8aa-db77c025ad5f",
   "metadata": {},
   "source": [
    "Looking at these plots, we can see that many of the vectors in our simulated fibres are inclined to near the *xy*-plane, and have a variety of different headings."
   ]
  },
  {
   "cell_type": "markdown",
   "id": "ff77e39a-6802-4994-ab5f-1b767e862fcc",
   "metadata": {},
   "source": [
    "## Conclusion\n",
    "\n",
    "In this notebook, we've seen the basics of using VectoRose to analyse vectors computed based on a simulated fibre system. Here's a summary of what we've covered:\n",
    "\n",
    "* We can use VectoRose to construct **spherical orientation histograms**.\n",
    "* We can easily capture **screenshots** and **animations** of these 3D plots.\n",
    "* We can **interactively** select specific sphere faces to **filter vectors by orientation**.\n",
    "* We can compute **directional statistics** to gain additional quantitative insights into the data.\n",
    "* We can construct **polar plots** to get a broader overview of the orientations present in the data.\n",
    "\n",
    "At this point, we've covered many of the basics of VectoRose... but there's an important idea that we haven't seen yet.\n",
    "\n",
    "What if your vectors have a non-unit length, and you want to look at more than just the orientation/direction?\n",
    "\n",
    "The answer is coming up... in the next notebook!"
   ]
  },
  {
   "cell_type": "markdown",
   "id": "766e966a-125f-4d4e-b002-460b3354eae7",
   "metadata": {},
   "source": [
    "## Extra Practice\n",
    "\n",
    "Want extra practice using VectoRose? Here's another simulated fibre system, along with its orientation field. The orientation field can be found in [`../assets/CaseStudy1/RandomCylinders3_R5_S5_SMOOTH1_EIG_MASKED.npy`](../assets/CaseStudy1/RandomCylinders3_R5_S5_SMOOTH1_EIG_MASKED.npy) and the mesh is found in [`../assets/CaseStudy1/RandomCylinders3.ply`](../assets/CaseStudy1/RandomCylinders3.ply). Try to redo the steps that we did, but with different data. Look at the orientation patterns. Were these fibres generated in a similar or different way from the ones we considered in this notebook?"
   ]
  },
  {
   "cell_type": "code",
   "execution_count": null,
   "id": "7281d755-ed6d-487f-851b-56960966ca6f",
   "metadata": {},
   "outputs": [],
   "source": [
    "Video(\"../assets/CaseStudy1/RandomCylinders3.mp4\", width=720)"
   ]
  },
  {
   "cell_type": "code",
   "execution_count": null,
   "id": "1756502e-7c8f-453a-ab27-8a4f5a4c7953",
   "metadata": {},
   "outputs": [],
   "source": [
    "# Your analysis code here\n"
   ]
  }
 ],
 "metadata": {
  "kernelspec": {
   "display_name": "Python 3 (ipykernel)",
   "language": "python",
   "name": "python3"
  },
  "language_info": {
   "codemirror_mode": {
    "name": "ipython",
    "version": 3
   },
   "file_extension": ".py",
   "mimetype": "text/x-python",
   "name": "python",
   "nbconvert_exporter": "python",
   "pygments_lexer": "ipython3",
   "version": "3.12.11"
  },
  "widgets": {
   "application/vnd.jupyter.widget-state+json": {
    "state": {},
    "version_major": 2,
    "version_minor": 0
   }
  }
 },
 "nbformat": 4,
 "nbformat_minor": 5
}
